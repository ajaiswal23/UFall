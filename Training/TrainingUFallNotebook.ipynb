{
 "cells": [
  {
   "cell_type": "markdown",
   "metadata": {},
   "source": [
    "#This is an example of performing Video Activity Recognition using LSTM\n",
    "Modified from \"Hands-on Computer Vision with TensorFlow 2\" by B. Planche and E. Andres"
   ]
  },
  {
   "cell_type": "code",
   "execution_count": 1,
   "metadata": {},
   "outputs": [
    {
     "name": "stdout",
     "output_type": "stream",
     "text": [
      "Requirement already satisfied: opencv-python in c:\\users\\azrael\\anaconda3\\envs\\lstm\\lib\\site-packages (4.1.2.30)\n",
      "Requirement already satisfied: numpy>=1.14.5 in c:\\users\\azrael\\anaconda3\\envs\\lstm\\lib\\site-packages (from opencv-python) (1.17.4)\n",
      "Requirement already satisfied: matplotlib in c:\\users\\azrael\\anaconda3\\envs\\lstm\\lib\\site-packages (3.1.2)\n",
      "Requirement already satisfied: kiwisolver>=1.0.1 in c:\\users\\azrael\\anaconda3\\envs\\lstm\\lib\\site-packages (from matplotlib) (1.1.0)\n",
      "Requirement already satisfied: cycler>=0.10 in c:\\users\\azrael\\anaconda3\\envs\\lstm\\lib\\site-packages (from matplotlib) (0.10.0)\n",
      "Requirement already satisfied: numpy>=1.11 in c:\\users\\azrael\\anaconda3\\envs\\lstm\\lib\\site-packages (from matplotlib) (1.17.4)\n",
      "Requirement already satisfied: python-dateutil>=2.1 in c:\\users\\azrael\\anaconda3\\envs\\lstm\\lib\\site-packages (from matplotlib) (2.8.1)\n",
      "Requirement already satisfied: pyparsing!=2.0.4,!=2.1.2,!=2.1.6,>=2.0.1 in c:\\users\\azrael\\anaconda3\\envs\\lstm\\lib\\site-packages (from matplotlib) (2.4.5)\n",
      "Requirement already satisfied: setuptools in c:\\users\\azrael\\anaconda3\\envs\\lstm\\lib\\site-packages (from kiwisolver>=1.0.1->matplotlib) (42.0.2.post20191203)\n",
      "Requirement already satisfied: six in c:\\users\\azrael\\anaconda3\\envs\\lstm\\lib\\site-packages (from cycler>=0.10->matplotlib) (1.13.0)\n",
      "Requirement already satisfied: tqdm in c:\\users\\azrael\\anaconda3\\envs\\lstm\\lib\\site-packages (4.40.2)\n",
      "Requirement already satisfied: scikit-learn in c:\\users\\azrael\\anaconda3\\envs\\lstm\\lib\\site-packages (0.22)\n",
      "Requirement already satisfied: numpy>=1.11.0 in c:\\users\\azrael\\anaconda3\\envs\\lstm\\lib\\site-packages (from scikit-learn) (1.17.4)\n",
      "Requirement already satisfied: scipy>=0.17.0 in c:\\users\\azrael\\anaconda3\\envs\\lstm\\lib\\site-packages (from scikit-learn) (1.4.1)\n",
      "Requirement already satisfied: joblib>=0.11 in c:\\users\\azrael\\anaconda3\\envs\\lstm\\lib\\site-packages (from scikit-learn) (0.14.1)\n"
     ]
    }
   ],
   "source": [
    "# STEP 1:  Install packages in the current environment\n",
    "import sys\n",
    "!{sys.executable} -m pip install opencv-python\n",
    "!{sys.executable} -m pip install matplotlib\n",
    "!{sys.executable} -m pip install tqdm\n",
    "!{sys.executable} -m pip install scikit-learn"
   ]
  },
  {
   "cell_type": "code",
   "execution_count": 2,
   "metadata": {},
   "outputs": [
    {
     "name": "stdout",
     "output_type": "stream",
     "text": [
      "Requirement already satisfied: tensorflow-gpu==2.1.0 in c:\\users\\azrael\\appdata\\roaming\\python\\python37\\site-packages (2.1.0)\n",
      "Requirement already satisfied: six>=1.12.0 in c:\\users\\azrael\\anaconda3\\envs\\lstm\\lib\\site-packages (from tensorflow-gpu==2.1.0) (1.13.0)\n",
      "Requirement already satisfied: grpcio>=1.8.6 in c:\\users\\azrael\\anaconda3\\envs\\lstm\\lib\\site-packages (from tensorflow-gpu==2.1.0) (1.25.0)\n",
      "Requirement already satisfied: wrapt>=1.11.1 in c:\\users\\azrael\\anaconda3\\envs\\lstm\\lib\\site-packages (from tensorflow-gpu==2.1.0) (1.11.2)\n",
      "Requirement already satisfied: scipy==1.4.1; python_version >= \"3\" in c:\\users\\azrael\\anaconda3\\envs\\lstm\\lib\\site-packages (from tensorflow-gpu==2.1.0) (1.4.1)\n",
      "Requirement already satisfied: keras-applications>=1.0.8 in c:\\users\\azrael\\anaconda3\\envs\\lstm\\lib\\site-packages (from tensorflow-gpu==2.1.0) (1.0.8)\n",
      "Requirement already satisfied: astor>=0.6.0 in c:\\users\\azrael\\anaconda3\\envs\\lstm\\lib\\site-packages (from tensorflow-gpu==2.1.0) (0.8.1)\n",
      "Requirement already satisfied: google-pasta>=0.1.6 in c:\\users\\azrael\\anaconda3\\envs\\lstm\\lib\\site-packages (from tensorflow-gpu==2.1.0) (0.1.8)\n",
      "Requirement already satisfied: absl-py>=0.7.0 in c:\\users\\azrael\\anaconda3\\envs\\lstm\\lib\\site-packages (from tensorflow-gpu==2.1.0) (0.8.1)\n",
      "Requirement already satisfied: gast==0.2.2 in c:\\users\\azrael\\anaconda3\\envs\\lstm\\lib\\site-packages (from tensorflow-gpu==2.1.0) (0.2.2)\n",
      "Requirement already satisfied: numpy<2.0,>=1.16.0 in c:\\users\\azrael\\anaconda3\\envs\\lstm\\lib\\site-packages (from tensorflow-gpu==2.1.0) (1.17.4)\n",
      "Requirement already satisfied: tensorboard<2.2.0,>=2.1.0 in c:\\users\\azrael\\appdata\\roaming\\python\\python37\\site-packages (from tensorflow-gpu==2.1.0) (2.1.1)\n",
      "Requirement already satisfied: termcolor>=1.1.0 in c:\\users\\azrael\\anaconda3\\envs\\lstm\\lib\\site-packages (from tensorflow-gpu==2.1.0) (1.1.0)\n",
      "Requirement already satisfied: keras-preprocessing>=1.1.0 in c:\\users\\azrael\\anaconda3\\envs\\lstm\\lib\\site-packages (from tensorflow-gpu==2.1.0) (1.1.0)\n",
      "Requirement already satisfied: wheel>=0.26; python_version >= \"3\" in c:\\users\\azrael\\anaconda3\\envs\\lstm\\lib\\site-packages (from tensorflow-gpu==2.1.0) (0.33.6)\n",
      "Requirement already satisfied: tensorflow-gpu-estimator<2.2.0,>=2.1.0rc0 in c:\\users\\azrael\\appdata\\roaming\\python\\python37\\site-packages (from tensorflow-gpu==2.1.0) (2.1.0)\n",
      "Requirement already satisfied: protobuf>=3.8.0 in c:\\users\\azrael\\anaconda3\\envs\\lstm\\lib\\site-packages (from tensorflow-gpu==2.1.0) (3.11.1)\n",
      "Requirement already satisfied: opt-einsum>=2.3.2 in c:\\users\\azrael\\anaconda3\\envs\\lstm\\lib\\site-packages (from tensorflow-gpu==2.1.0) (3.2.0)\n",
      "Requirement already satisfied: h5py in c:\\users\\azrael\\anaconda3\\envs\\lstm\\lib\\site-packages (from keras-applications>=1.0.8->tensorflow-gpu==2.1.0) (2.10.0)\n",
      "Requirement already satisfied: google-auth-oauthlib<0.5,>=0.4.1 in c:\\users\\azrael\\anaconda3\\envs\\lstm\\lib\\site-packages (from tensorboard<2.2.0,>=2.1.0->tensorflow-gpu==2.1.0) (0.4.1)\n",
      "Requirement already satisfied: markdown>=2.6.8 in c:\\users\\azrael\\anaconda3\\envs\\lstm\\lib\\site-packages (from tensorboard<2.2.0,>=2.1.0->tensorflow-gpu==2.1.0) (3.1.1)\n",
      "Requirement already satisfied: requests<3,>=2.21.0 in c:\\users\\azrael\\anaconda3\\envs\\lstm\\lib\\site-packages (from tensorboard<2.2.0,>=2.1.0->tensorflow-gpu==2.1.0) (2.23.0)\n",
      "Requirement already satisfied: setuptools>=41.0.0 in c:\\users\\azrael\\anaconda3\\envs\\lstm\\lib\\site-packages (from tensorboard<2.2.0,>=2.1.0->tensorflow-gpu==2.1.0) (42.0.2.post20191203)\n",
      "Requirement already satisfied: google-auth<2,>=1.6.3 in c:\\users\\azrael\\anaconda3\\envs\\lstm\\lib\\site-packages (from tensorboard<2.2.0,>=2.1.0->tensorflow-gpu==2.1.0) (1.11.3)\n",
      "Requirement already satisfied: werkzeug>=0.11.15 in c:\\users\\azrael\\anaconda3\\envs\\lstm\\lib\\site-packages (from tensorboard<2.2.0,>=2.1.0->tensorflow-gpu==2.1.0) (0.16.0)\n",
      "Requirement already satisfied: requests-oauthlib>=0.7.0 in c:\\users\\azrael\\anaconda3\\envs\\lstm\\lib\\site-packages (from google-auth-oauthlib<0.5,>=0.4.1->tensorboard<2.2.0,>=2.1.0->tensorflow-gpu==2.1.0) (1.3.0)\n",
      "Requirement already satisfied: urllib3!=1.25.0,!=1.25.1,<1.26,>=1.21.1 in c:\\users\\azrael\\anaconda3\\envs\\lstm\\lib\\site-packages (from requests<3,>=2.21.0->tensorboard<2.2.0,>=2.1.0->tensorflow-gpu==2.1.0) (1.25.8)\n",
      "Requirement already satisfied: chardet<4,>=3.0.2 in c:\\users\\azrael\\anaconda3\\envs\\lstm\\lib\\site-packages (from requests<3,>=2.21.0->tensorboard<2.2.0,>=2.1.0->tensorflow-gpu==2.1.0) (3.0.4)\n",
      "Requirement already satisfied: idna<3,>=2.5 in c:\\users\\azrael\\anaconda3\\envs\\lstm\\lib\\site-packages (from requests<3,>=2.21.0->tensorboard<2.2.0,>=2.1.0->tensorflow-gpu==2.1.0) (2.9)\n",
      "Requirement already satisfied: certifi>=2017.4.17 in c:\\users\\azrael\\anaconda3\\envs\\lstm\\lib\\site-packages (from requests<3,>=2.21.0->tensorboard<2.2.0,>=2.1.0->tensorflow-gpu==2.1.0) (2019.11.28)\n",
      "Requirement already satisfied: rsa<4.1,>=3.1.4 in c:\\users\\azrael\\anaconda3\\envs\\lstm\\lib\\site-packages (from google-auth<2,>=1.6.3->tensorboard<2.2.0,>=2.1.0->tensorflow-gpu==2.1.0) (4.0)\n",
      "Requirement already satisfied: cachetools<5.0,>=2.0.0 in c:\\users\\azrael\\anaconda3\\envs\\lstm\\lib\\site-packages (from google-auth<2,>=1.6.3->tensorboard<2.2.0,>=2.1.0->tensorflow-gpu==2.1.0) (4.0.0)\n",
      "Requirement already satisfied: pyasn1-modules>=0.2.1 in c:\\users\\azrael\\anaconda3\\envs\\lstm\\lib\\site-packages (from google-auth<2,>=1.6.3->tensorboard<2.2.0,>=2.1.0->tensorflow-gpu==2.1.0) (0.2.8)\n",
      "Requirement already satisfied: oauthlib>=3.0.0 in c:\\users\\azrael\\anaconda3\\envs\\lstm\\lib\\site-packages (from requests-oauthlib>=0.7.0->google-auth-oauthlib<0.5,>=0.4.1->tensorboard<2.2.0,>=2.1.0->tensorflow-gpu==2.1.0) (3.1.0)\n",
      "Requirement already satisfied: pyasn1>=0.1.3 in c:\\users\\azrael\\anaconda3\\envs\\lstm\\lib\\site-packages (from rsa<4.1,>=3.1.4->google-auth<2,>=1.6.3->tensorboard<2.2.0,>=2.1.0->tensorflow-gpu==2.1.0) (0.4.8)\n"
     ]
    }
   ],
   "source": [
    "#!{sys.executable} -m pip install tensorflow==1.14\n",
    "!{sys.executable} -m pip install tensorflow-gpu==2.1.0 --user"
   ]
  },
  {
   "cell_type": "markdown",
   "metadata": {},
   "source": [
    "# Step 2: import modules"
   ]
  },
  {
   "cell_type": "code",
   "execution_count": 3,
   "metadata": {},
   "outputs": [],
   "source": [
    "import tensorflow as tf\n",
    "import os\n",
    "import cv2\n",
    "import numpy as np\n",
    "import matplotlib.pyplot as plt\n",
    "import tqdm\n",
    "from sklearn.preprocessing import LabelBinarizer\n"
   ]
  },
  {
   "cell_type": "code",
   "execution_count": 4,
   "metadata": {},
   "outputs": [],
   "source": [
    "#tf.enable_eager_execution()\n",
    "#tf.executing_eagerly()"
   ]
  },
  {
   "cell_type": "markdown",
   "metadata": {},
   "source": [
    "#Step 3: setup variables"
   ]
  },
  {
   "cell_type": "code",
   "execution_count": 5,
   "metadata": {
    "scrolled": true
   },
   "outputs": [
    {
     "name": "stdout",
     "output_type": "stream",
     "text": [
      "D:\\CSUEB\\lynne\\DataSet_NPY\\**\\*.mp4\n"
     ]
    }
   ],
   "source": [
    "#location of where YOU have installed the data set UCF-101 located\n",
    "# at \n",
    "#BASE_PATH = '../data/UCF-101'\n",
    "#change the base path to location YOU installed UCF-101 dataset\n",
    "#BASE_PATH = 'C:/Grewe/Classes/CS663/Mat/LSTM/data/UCF-101'\n",
    "BASE_PATH = 'D:\\\\CSUEB\\\\lynne\\\\DataSet_NPY'\n",
    "VIDEOS_PATH = os.path.join(BASE_PATH, '**','*.mp4')\n",
    "TENSORBOARD_LOG_DIRECTORY = \"D:\\\\CSUEB\\\\lynne\\\\tensorboard_logs\"\n",
    "#this specifies the sequence length will process by LSTM - only use 30 as some of the videos 1.X seconds\n",
    "SEQUENCE_LENGTH = 40\n",
    "BATCH_SIZE = 16\n",
    "NUM_EPOCHS = 1000\n",
    "RESULT_DIFF_THRESHOLD=0.1\n",
    "print(VIDEOS_PATH)\n"
   ]
  },
  {
   "cell_type": "markdown",
   "metadata": {},
   "source": [
    "### STEP 4: \n",
    "Create a MyLabelBinarizer for 2 Classes"
   ]
  },
  {
   "cell_type": "code",
   "execution_count": 6,
   "metadata": {},
   "outputs": [],
   "source": [
    "#run this\n",
    "\n",
    "class MyLabelBinarizer(LabelBinarizer):\n",
    "    def transform(self, y):\n",
    "        Y = super().transform(y)\n",
    "        if self.y_type_ == 'binary':\n",
    "            return np.hstack((Y, 1-Y))\n",
    "        else:\n",
    "            return Y\n",
    "    def inverse_transform(self, Y, threshold=None):\n",
    "        if self.y_type_ == 'binary':\n",
    "            return super().inverse_transform(Y[:, 0], threshold)\n",
    "        else:\n",
    "            return super().inverse_transform(Y, threshold)"
   ]
  },
  {
   "cell_type": "code",
   "execution_count": 7,
   "metadata": {},
   "outputs": [
    {
     "name": "stdout",
     "output_type": "stream",
     "text": [
      "['Falling' 'Walking']\n",
      "[[0 1]\n",
      " [1 0]]\n",
      "[[0 1]\n",
      " [1 0]]\n",
      "['Falling' 'Walking']\n",
      "length of labrels 2\n"
     ]
    }
   ],
   "source": [
    "#run this\n",
    "LABELS = ['Falling','Walking']\n",
    "encoder = MyLabelBinarizer()\n",
    "encoder.fit(LABELS)\n",
    "print(encoder.classes_)\n",
    "print(encoder.transform(['Falling', 'Walking']))\n",
    "\n",
    "t= encoder.transform(['Falling', 'Walking'])\n",
    "print(t)\n",
    "print(encoder.inverse_transform(t))\n",
    "print(\"length of labrels \" + str(len(LABELS)))"
   ]
  },
  {
   "cell_type": "markdown",
   "metadata": {},
   "source": [
    "### STEP 5 (a): \n",
    "    Create the LSTM model:    1) Masking layer  2) LSTM layer with 512 cells, dropout 0.5, recurrent_dropout of 0.5  \n",
    " 3) a fully connected relu activation layer with 256 outputs,  4) a droupout layer 0.5  5) a final decision fully connected layer of putput length of labels  (which is the number of classes) with softmax activation.\n",
    " \n",
    " >>potentially going to 256 rather than 512, Dense layer 128"
   ]
  },
  {
   "cell_type": "code",
   "execution_count": 8,
   "metadata": {},
   "outputs": [],
   "source": [
    "#setup a keras Sequential model with 1) Masking layer  2) LSTM layer with 512 cells, dropout 0.5, recurrent_dropout of 0.5  \n",
    "# 3) a fully connected relu activation layer with 256 outputs,  4) a droupout layer 5) a final decision fully connected layer of length of labels\n",
    "# (which is the number of classes) with softmax activation.\n",
    "model = tf.keras.Sequential([\n",
    "    tf.keras.layers.Masking(mask_value=0.),\n",
    "    tf.keras.layers.LSTM(512, dropout=0.5, recurrent_dropout=0.5),\n",
    "    tf.keras.layers.Dense(256, activation='relu'),\n",
    "    tf.keras.layers.Dropout(0.5),\n",
    "    tf.keras.layers.Dense(2, activation='softmax')\n",
    "    #tf.keras.layers.Dense(len(LABELS), activation='softmax')\n",
    "])"
   ]
  },
  {
   "cell_type": "markdown",
   "metadata": {},
   "source": [
    "### STEP 5 (b): \n",
    "Setup for the model the Loss function, the Optimizer function, and any metrics want to compute in training\n",
    ">> read about metrics and to add "
   ]
  },
  {
   "cell_type": "code",
   "execution_count": 9,
   "metadata": {},
   "outputs": [],
   "source": [
    "model.compile(loss='categorical_crossentropy',\n",
    "              optimizer='rmsprop',\n",
    "              metrics=['accuracy', 'top_k_categorical_accuracy'])"
   ]
  },
  {
   "cell_type": "markdown",
   "metadata": {},
   "source": [
    "### STEP 6: \n",
    "Setup  the training and test list which are lists of the training filenames.   Note you will need to change the location of these files to point to your location.  Define a function make_generator that returns a generator which will randomly shuffle a file list (either training or testing that will be passed later) and then changes the file extension of the avi files listed in the list to .npy which is our features for that avi video which were calcluated in step 6"
   ]
  },
  {
   "cell_type": "code",
   "execution_count": 10,
   "metadata": {},
   "outputs": [],
   "source": [
    "#train_file = '/Users/subhi/Downloads/CV-proj3/Data/trainlist.txt'\n",
    "#test_file = '/Users/subhi/Downloads/CV-proj3/Data/testlist.txt'\n",
    "\n",
    "#contain about 10% of data roughly in validation set\n",
    "valid_file = 'D:/CSUEB/lynne/DataSet_NPY/validation.txt'\n",
    "\n",
    "#contain about 80% of data roughly in training set\n",
    "train_file = 'D:/CSUEB/lynne/DataSet_NPY/training.txt'\n",
    "\n",
    "#contain about 10% of data roughly in testing set\n",
    "test_file = 'D:/CSUEB/lynne/DataSet_NPY/testing.txt'\n",
    "\n",
    "with open(valid_file) as f:\n",
    "    valid_list = [row.strip() for row in list(f)]\n",
    "\n",
    "with open(train_file) as f:\n",
    "     train_list = [row.strip() for row in list(f)]\n",
    "        \n",
    "with open(test_file) as f:\n",
    "     test_list = [row.strip() for row in list(f)]\n",
    "    #train_list = [row.split(' ')[0] for row in train_list]\n",
    "#print(train_list)\n",
    "\n",
    "\n",
    "def make_generator(file_list):\n",
    "    def generator():\n",
    "        np.random.shuffle(file_list)\n",
    "        for path in file_list:\n",
    "            label = os.path.basename(os.path.dirname(path))\n",
    "            features = np.load(path)\n",
    "            \n",
    "            padded_sequence = np.zeros((SEQUENCE_LENGTH, 1280))\n",
    "            padded_sequence[0:len(features)] = np.array(features)\n",
    "            \n",
    "            transformed_label = encoder.transform([label])\n",
    "            \n",
    "            yield padded_sequence, transformed_label[0]\n",
    "    return generator"
   ]
  },
  {
   "cell_type": "code",
   "execution_count": 11,
   "metadata": {},
   "outputs": [
    {
     "data": {
      "text/plain": [
       "'D:\\\\CSUEB\\\\lynne\\\\DataSet_NPY\\\\Falling'"
      ]
     },
     "execution_count": 11,
     "metadata": {},
     "output_type": "execute_result"
    }
   ],
   "source": [
    "os.path.dirname(\"D:\\CSUEB\\lynne\\DataSet_NPY\\Falling\\Img 2927-9.npy\")"
   ]
  },
  {
   "cell_type": "code",
   "execution_count": 12,
   "metadata": {},
   "outputs": [
    {
     "name": "stdout",
     "output_type": "stream",
     "text": [
      "['D:\\\\CSUEB\\\\lynne\\\\DataSet_NPY\\\\Falling\\\\Img 4113-52.npy', 'D:\\\\CSUEB\\\\lynne\\\\DataSet_NPY\\\\Falling\\\\Img 2947-21.npy', 'D:\\\\CSUEB\\\\lynne\\\\DataSet_NPY\\\\Falling\\\\Img 4117-56.npy', 'D:\\\\CSUEB\\\\lynne\\\\DataSet_NPY\\\\Falling\\\\Img 4222-128.npy', 'D:\\\\CSUEB\\\\lynne\\\\DataSet_NPY\\\\Falling\\\\Img 4188-103.npy', 'D:\\\\CSUEB\\\\lynne\\\\DataSet_NPY\\\\Falling\\\\Img 4183-100.npy', 'D:\\\\CSUEB\\\\lynne\\\\DataSet_NPY\\\\Falling\\\\Img 4187-102.npy', 'D:\\\\CSUEB\\\\lynne\\\\DataSet_NPY\\\\Falling\\\\Img 4098-39.npy', 'D:\\\\CSUEB\\\\lynne\\\\DataSet_NPY\\\\Falling\\\\Img 4204-115.npy', 'D:\\\\CSUEB\\\\lynne\\\\DataSet_NPY\\\\Falling\\\\Img 2941-17.npy', 'D:\\\\CSUEB\\\\lynne\\\\DataSet_NPY\\\\Falling\\\\Img 4135-68.npy', 'D:\\\\CSUEB\\\\lynne\\\\DataSet_NPY\\\\Falling\\\\Img 4173-94.npy', 'D:\\\\CSUEB\\\\lynne\\\\DataSet_NPY\\\\Falling\\\\Img 4118-57.npy', 'D:\\\\CSUEB\\\\lynne\\\\DataSet_NPY\\\\Falling\\\\Img 4137-70.npy', 'D:\\\\CSUEB\\\\lynne\\\\DataSet_NPY\\\\Falling\\\\Img 2963-32.npy', 'D:\\\\CSUEB\\\\lynne\\\\DataSet_NPY\\\\Falling\\\\Img 4136-69.npy', 'D:\\\\CSUEB\\\\lynne\\\\DataSet_NPY\\\\Falling\\\\Img 2948-22.npy', 'D:\\\\CSUEB\\\\lynne\\\\DataSet_NPY\\\\Falling\\\\Img 4158-84.npy', 'D:\\\\CSUEB\\\\lynne\\\\DataSet_NPY\\\\Falling\\\\Img 4165-88.npy', 'D:\\\\CSUEB\\\\lynne\\\\DataSet_NPY\\\\Falling\\\\Img 4095-36.npy', 'D:\\\\CSUEB\\\\lynne\\\\DataSet_NPY\\\\Falling\\\\Img 2960-31.npy', 'D:\\\\CSUEB\\\\lynne\\\\DataSet_NPY\\\\Falling\\\\Img 4171-92.npy', 'D:\\\\CSUEB\\\\lynne\\\\DataSet_NPY\\\\Falling\\\\Img 4131-64.npy', 'D:\\\\CSUEB\\\\lynne\\\\DataSet_NPY\\\\Falling\\\\Img 4179-97.npy', 'D:\\\\CSUEB\\\\lynne\\\\DataSet_NPY\\\\Falling\\\\Img 4169-91.npy', 'D:\\\\CSUEB\\\\lynne\\\\DataSet_NPY\\\\Falling\\\\Img 2943-18.npy', 'D:\\\\CSUEB\\\\lynne\\\\DataSet_NPY\\\\Falling\\\\Img 4153-81.npy', 'D:\\\\CSUEB\\\\lynne\\\\DataSet_NPY\\\\Falling\\\\Img 2921-4.npy', 'D:\\\\CSUEB\\\\lynne\\\\DataSet_NPY\\\\Falling\\\\Img 4106-46.npy', 'D:\\\\CSUEB\\\\lynne\\\\DataSet_NPY\\\\Falling\\\\Img 4175-96.npy', 'D:\\\\CSUEB\\\\lynne\\\\DataSet_NPY\\\\Falling\\\\Img 4146-77.npy', 'D:\\\\CSUEB\\\\lynne\\\\DataSet_NPY\\\\Falling\\\\Img 4189-104.npy', 'D:\\\\CSUEB\\\\lynne\\\\DataSet_NPY\\\\Falling\\\\Img 4104-44.npy', 'D:\\\\CSUEB\\\\lynne\\\\DataSet_NPY\\\\Falling\\\\Img 2953-25.npy', 'D:\\\\CSUEB\\\\lynne\\\\DataSet_NPY\\\\Falling\\\\Img 4114-53.npy', 'D:\\\\CSUEB\\\\lynne\\\\DataSet_NPY\\\\Falling\\\\Img 4094-35.npy', 'D:\\\\CSUEB\\\\lynne\\\\DataSet_NPY\\\\Falling\\\\Img 2955-27.npy', 'D:\\\\CSUEB\\\\lynne\\\\DataSet_NPY\\\\Falling\\\\Img 4208-119.npy', 'D:\\\\CSUEB\\\\lynne\\\\DataSet_NPY\\\\Falling\\\\Img 4119-58.npy', 'D:\\\\CSUEB\\\\lynne\\\\DataSet_NPY\\\\Falling\\\\Img 4182-99.npy', 'D:\\\\CSUEB\\\\lynne\\\\DataSet_NPY\\\\Falling\\\\Img 4213-121.npy', 'D:\\\\CSUEB\\\\lynne\\\\DataSet_NPY\\\\Falling\\\\Img 4212-120.npy', 'D:\\\\CSUEB\\\\lynne\\\\DataSet_NPY\\\\Falling\\\\Img 4140-71.npy', 'D:\\\\CSUEB\\\\lynne\\\\DataSet_NPY\\\\Falling\\\\Img 4194-108.npy', 'D:\\\\CSUEB\\\\lynne\\\\DataSet_NPY\\\\Falling\\\\Img 4102-43.npy', 'D:\\\\CSUEB\\\\lynne\\\\DataSet_NPY\\\\Falling\\\\Img 4143-74.npy', 'D:\\\\CSUEB\\\\lynne\\\\DataSet_NPY\\\\Falling\\\\Img 4132-65.npy', 'D:\\\\CSUEB\\\\lynne\\\\DataSet_NPY\\\\Falling\\\\Img 4195-109.npy', 'D:\\\\CSUEB\\\\lynne\\\\DataSet_NPY\\\\Falling\\\\Img 4122-61.npy', 'D:\\\\CSUEB\\\\lynne\\\\DataSet_NPY\\\\Falling\\\\Img 4223-129.npy', 'D:\\\\CSUEB\\\\lynne\\\\DataSet_NPY\\\\Falling\\\\Img 4162-86.npy', 'D:\\\\CSUEB\\\\lynne\\\\DataSet_NPY\\\\Falling\\\\Img 4190-105.npy', 'D:\\\\CSUEB\\\\lynne\\\\DataSet_NPY\\\\Falling\\\\Img 2944-19.npy', 'D:\\\\CSUEB\\\\lynne\\\\DataSet_NPY\\\\Falling\\\\Img 4096-37.npy', 'D:\\\\CSUEB\\\\lynne\\\\DataSet_NPY\\\\Falling\\\\Img 2926-8.npy', 'D:\\\\CSUEB\\\\lynne\\\\DataSet_NPY\\\\Falling\\\\Img 2966-34.npy', 'D:\\\\CSUEB\\\\lynne\\\\DataSet_NPY\\\\Falling\\\\Img 4112-51.npy', 'D:\\\\CSUEB\\\\lynne\\\\DataSet_NPY\\\\Falling\\\\Img 4127-63.npy', 'D:\\\\CSUEB\\\\lynne\\\\DataSet_NPY\\\\Falling\\\\Img 4216-123.npy', 'D:\\\\CSUEB\\\\lynne\\\\DataSet_NPY\\\\Falling\\\\Img 4202-114.npy', 'D:\\\\CSUEB\\\\lynne\\\\DataSet_NPY\\\\Falling\\\\Img 4199-113.npy', 'D:\\\\CSUEB\\\\lynne\\\\DataSet_NPY\\\\Falling\\\\Img 4141-72.npy', 'D:\\\\CSUEB\\\\lynne\\\\DataSet_NPY\\\\Falling\\\\Img 4115-54.npy', 'D:\\\\CSUEB\\\\lynne\\\\DataSet_NPY\\\\Falling\\\\Img 4218-125.npy', 'D:\\\\CSUEB\\\\lynne\\\\DataSet_NPY\\\\Falling\\\\Img 4109-49.npy', 'D:\\\\CSUEB\\\\lynne\\\\DataSet_NPY\\\\Falling\\\\Img 2956-28.npy', 'D:\\\\CSUEB\\\\lynne\\\\DataSet_NPY\\\\Falling\\\\Img 4134-67.npy', 'D:\\\\CSUEB\\\\lynne\\\\DataSet_NPY\\\\Falling\\\\Img 4142-73.npy', 'D:\\\\CSUEB\\\\lynne\\\\DataSet_NPY\\\\Falling\\\\Img 4147-78.npy', 'D:\\\\CSUEB\\\\lynne\\\\DataSet_NPY\\\\Falling\\\\Img 4108-48.npy', 'D:\\\\CSUEB\\\\lynne\\\\DataSet_NPY\\\\Falling\\\\Img 2939-15.npy', 'D:\\\\CSUEB\\\\lynne\\\\DataSet_NPY\\\\Falling\\\\Img 4097-38.npy', 'D:\\\\CSUEB\\\\lynne\\\\DataSet_NPY\\\\Falling\\\\Img 2959-30.npy', 'D:\\\\CSUEB\\\\lynne\\\\DataSet_NPY\\\\Falling\\\\Img 4224-130.npy', 'D:\\\\CSUEB\\\\lynne\\\\DataSet_NPY\\\\Falling\\\\Img 2958-29.npy', 'D:\\\\CSUEB\\\\lynne\\\\DataSet_NPY\\\\Falling\\\\Img 2954-26.npy', 'D:\\\\CSUEB\\\\lynne\\\\DataSet_NPY\\\\Falling\\\\Img 4163-87.npy', 'D:\\\\CSUEB\\\\lynne\\\\DataSet_NPY\\\\Falling\\\\Img 2919-3.npy', 'D:\\\\CSUEB\\\\lynne\\\\DataSet_NPY\\\\Falling\\\\Img 4206-117.npy', 'D:\\\\CSUEB\\\\lynne\\\\DataSet_NPY\\\\Falling\\\\Img 2946-20.npy', 'D:\\\\CSUEB\\\\lynne\\\\DataSet_NPY\\\\Falling\\\\Img 4217-124.npy', 'D:\\\\CSUEB\\\\lynne\\\\DataSet_NPY\\\\Falling\\\\Img 4099-40.npy', 'D:\\\\CSUEB\\\\lynne\\\\DataSet_NPY\\\\Falling\\\\Img 2936-14.npy', 'D:\\\\CSUEB\\\\lynne\\\\DataSet_NPY\\\\Falling\\\\Img 4207-118.npy', 'D:\\\\CSUEB\\\\lynne\\\\DataSet_NPY\\\\Falling\\\\Img 4155-82.npy', 'D:\\\\CSUEB\\\\lynne\\\\DataSet_NPY\\\\Falling\\\\Img 2924-6.npy', 'D:\\\\CSUEB\\\\lynne\\\\DataSet_NPY\\\\Falling\\\\Img 4111-50.npy', 'D:\\\\CSUEB\\\\lynne\\\\DataSet_NPY\\\\Falling\\\\Img 4219-126.npy', 'D:\\\\CSUEB\\\\lynne\\\\DataSet_NPY\\\\Falling\\\\Img 4144-75.npy', 'D:\\\\CSUEB\\\\lynne\\\\DataSet_NPY\\\\Falling\\\\Img 4196-110.npy', 'D:\\\\CSUEB\\\\lynne\\\\DataSet_NPY\\\\Falling\\\\Img 2930-11.npy', 'D:\\\\CSUEB\\\\lynne\\\\DataSet_NPY\\\\Falling\\\\Img 4172-93.npy', 'D:\\\\CSUEB\\\\lynne\\\\DataSet_NPY\\\\Falling\\\\Img 4197-111.npy', 'D:\\\\CSUEB\\\\lynne\\\\DataSet_NPY\\\\Falling\\\\Img 4221-127.npy', 'D:\\\\CSUEB\\\\lynne\\\\DataSet_NPY\\\\Falling\\\\Img 4148-79.npy', 'D:\\\\CSUEB\\\\lynne\\\\DataSet_NPY\\\\Falling\\\\Img 2964-33.npy', 'D:\\\\CSUEB\\\\lynne\\\\DataSet_NPY\\\\Falling\\\\Img 4214-122.npy', 'D:\\\\CSUEB\\\\lynne\\\\DataSet_NPY\\\\Falling\\\\Img 4101-42.npy', 'D:\\\\CSUEB\\\\lynne\\\\DataSet_NPY\\\\Falling\\\\Img 2928-10.npy', 'D:\\\\CSUEB\\\\lynne\\\\DataSet_NPY\\\\Falling\\\\Img 4133-66.npy', 'D:\\\\CSUEB\\\\lynne\\\\DataSet_NPY\\\\Falling\\\\Img 4205-116.npy', 'D:\\\\CSUEB\\\\lynne\\\\DataSet_NPY\\\\Falling\\\\Img 2918-2.npy', 'D:\\\\CSUEB\\\\lynne\\\\DataSet_NPY\\\\Falling\\\\Img 4145-76.npy', 'D:\\\\CSUEB\\\\lynne\\\\DataSet_NPY\\\\Falling\\\\Img 4157-83.npy', 'D:\\\\CSUEB\\\\lynne\\\\DataSet_NPY\\\\Falling\\\\Img 4116-55.npy', 'D:\\\\CSUEB\\\\lynne\\\\DataSet_NPY\\\\Walking\\\\walking (980).npy', 'D:\\\\CSUEB\\\\lynne\\\\DataSet_NPY\\\\Walking\\\\walking (361).npy', 'D:\\\\CSUEB\\\\lynne\\\\DataSet_NPY\\\\Walking\\\\walking (560).npy', 'D:\\\\CSUEB\\\\lynne\\\\DataSet_NPY\\\\Walking\\\\walking (778).npy', 'D:\\\\CSUEB\\\\lynne\\\\DataSet_NPY\\\\Walking\\\\walking (156).npy', 'D:\\\\CSUEB\\\\lynne\\\\DataSet_NPY\\\\Walking\\\\walking (420).npy', 'D:\\\\CSUEB\\\\lynne\\\\DataSet_NPY\\\\Walking\\\\walking (497).npy', 'D:\\\\CSUEB\\\\lynne\\\\DataSet_NPY\\\\Walking\\\\walking (128).npy', 'D:\\\\CSUEB\\\\lynne\\\\DataSet_NPY\\\\Walking\\\\walking (708).npy', 'D:\\\\CSUEB\\\\lynne\\\\DataSet_NPY\\\\Walking\\\\walking (1135).npy', 'D:\\\\CSUEB\\\\lynne\\\\DataSet_NPY\\\\Walking\\\\walking (835).npy', 'D:\\\\CSUEB\\\\lynne\\\\DataSet_NPY\\\\Walking\\\\walking (896).npy', 'D:\\\\CSUEB\\\\lynne\\\\DataSet_NPY\\\\Walking\\\\walking (232).npy', 'D:\\\\CSUEB\\\\lynne\\\\DataSet_NPY\\\\Walking\\\\walking (817).npy', 'D:\\\\CSUEB\\\\lynne\\\\DataSet_NPY\\\\Walking\\\\walking (423).npy', 'D:\\\\CSUEB\\\\lynne\\\\DataSet_NPY\\\\Walking\\\\walking (584).npy', 'D:\\\\CSUEB\\\\lynne\\\\DataSet_NPY\\\\Walking\\\\walking (849).npy', 'D:\\\\CSUEB\\\\lynne\\\\DataSet_NPY\\\\Walking\\\\walking (1102).npy', 'D:\\\\CSUEB\\\\lynne\\\\DataSet_NPY\\\\Walking\\\\walking (436).npy', 'D:\\\\CSUEB\\\\lynne\\\\DataSet_NPY\\\\Walking\\\\walking (347).npy', 'D:\\\\CSUEB\\\\lynne\\\\DataSet_NPY\\\\Walking\\\\walking (992).npy', 'D:\\\\CSUEB\\\\lynne\\\\DataSet_NPY\\\\Walking\\\\walking (230).npy', 'D:\\\\CSUEB\\\\lynne\\\\DataSet_NPY\\\\Walking\\\\walking (257).npy', 'D:\\\\CSUEB\\\\lynne\\\\DataSet_NPY\\\\Walking\\\\walking (792).npy', 'D:\\\\CSUEB\\\\lynne\\\\DataSet_NPY\\\\Walking\\\\walking (281).npy', 'D:\\\\CSUEB\\\\lynne\\\\DataSet_NPY\\\\Walking\\\\walking (352).npy', 'D:\\\\CSUEB\\\\lynne\\\\DataSet_NPY\\\\Walking\\\\walking (632).npy', 'D:\\\\CSUEB\\\\lynne\\\\DataSet_NPY\\\\Walking\\\\walking (1132).npy', 'D:\\\\CSUEB\\\\lynne\\\\DataSet_NPY\\\\Walking\\\\walking (893).npy', 'D:\\\\CSUEB\\\\lynne\\\\DataSet_NPY\\\\Walking\\\\walking (754).npy', 'D:\\\\CSUEB\\\\lynne\\\\DataSet_NPY\\\\Walking\\\\walking (1127).npy', 'D:\\\\CSUEB\\\\lynne\\\\DataSet_NPY\\\\Walking\\\\walking (270).npy', 'D:\\\\CSUEB\\\\lynne\\\\DataSet_NPY\\\\Walking\\\\walking (645).npy', 'D:\\\\CSUEB\\\\lynne\\\\DataSet_NPY\\\\Walking\\\\walking (1070).npy', 'D:\\\\CSUEB\\\\lynne\\\\DataSet_NPY\\\\Walking\\\\walking (1104).npy', 'D:\\\\CSUEB\\\\lynne\\\\DataSet_NPY\\\\Walking\\\\walking (345).npy', 'D:\\\\CSUEB\\\\lynne\\\\DataSet_NPY\\\\Walking\\\\walking (442).npy', 'D:\\\\CSUEB\\\\lynne\\\\DataSet_NPY\\\\Walking\\\\walking (566).npy', 'D:\\\\CSUEB\\\\lynne\\\\DataSet_NPY\\\\Walking\\\\walking (1072).npy', 'D:\\\\CSUEB\\\\lynne\\\\DataSet_NPY\\\\Walking\\\\walking (1073).npy', 'D:\\\\CSUEB\\\\lynne\\\\DataSet_NPY\\\\Walking\\\\walking (554).npy', 'D:\\\\CSUEB\\\\lynne\\\\DataSet_NPY\\\\Walking\\\\walking (946).npy', 'D:\\\\CSUEB\\\\lynne\\\\DataSet_NPY\\\\Walking\\\\walking (745).npy', 'D:\\\\CSUEB\\\\lynne\\\\DataSet_NPY\\\\Walking\\\\walking (324).npy', 'D:\\\\CSUEB\\\\lynne\\\\DataSet_NPY\\\\Walking\\\\walking (369).npy', 'D:\\\\CSUEB\\\\lynne\\\\DataSet_NPY\\\\Walking\\\\walking (178).npy', 'D:\\\\CSUEB\\\\lynne\\\\DataSet_NPY\\\\Walking\\\\walking (974).npy', 'D:\\\\CSUEB\\\\lynne\\\\DataSet_NPY\\\\Walking\\\\walking (506).npy', 'D:\\\\CSUEB\\\\lynne\\\\DataSet_NPY\\\\Walking\\\\walking (14).npy', 'D:\\\\CSUEB\\\\lynne\\\\DataSet_NPY\\\\Walking\\\\walking (734).npy', 'D:\\\\CSUEB\\\\lynne\\\\DataSet_NPY\\\\Walking\\\\walking (571).npy', 'D:\\\\CSUEB\\\\lynne\\\\DataSet_NPY\\\\Walking\\\\walking (387).npy', 'D:\\\\CSUEB\\\\lynne\\\\DataSet_NPY\\\\Walking\\\\walking (400).npy', 'D:\\\\CSUEB\\\\lynne\\\\DataSet_NPY\\\\Walking\\\\walking (805).npy', 'D:\\\\CSUEB\\\\lynne\\\\DataSet_NPY\\\\Walking\\\\walking (297).npy', 'D:\\\\CSUEB\\\\lynne\\\\DataSet_NPY\\\\Walking\\\\walking (749).npy', 'D:\\\\CSUEB\\\\lynne\\\\DataSet_NPY\\\\Walking\\\\walking (399).npy', 'D:\\\\CSUEB\\\\lynne\\\\DataSet_NPY\\\\Walking\\\\walking (418).npy', 'D:\\\\CSUEB\\\\lynne\\\\DataSet_NPY\\\\Walking\\\\walking (73).npy', 'D:\\\\CSUEB\\\\lynne\\\\DataSet_NPY\\\\Walking\\\\walking (186).npy', 'D:\\\\CSUEB\\\\lynne\\\\DataSet_NPY\\\\Walking\\\\walking (82).npy', 'D:\\\\CSUEB\\\\lynne\\\\DataSet_NPY\\\\Walking\\\\walking (705).npy', 'D:\\\\CSUEB\\\\lynne\\\\DataSet_NPY\\\\Walking\\\\walking (220).npy', 'D:\\\\CSUEB\\\\lynne\\\\DataSet_NPY\\\\Walking\\\\walking (334).npy', 'D:\\\\CSUEB\\\\lynne\\\\DataSet_NPY\\\\Walking\\\\walking (929).npy', 'D:\\\\CSUEB\\\\lynne\\\\DataSet_NPY\\\\Walking\\\\walking (790).npy', 'D:\\\\CSUEB\\\\lynne\\\\DataSet_NPY\\\\Walking\\\\walking (332).npy', 'D:\\\\CSUEB\\\\lynne\\\\DataSet_NPY\\\\Walking\\\\walking (303).npy', 'D:\\\\CSUEB\\\\lynne\\\\DataSet_NPY\\\\Walking\\\\walking (1090).npy', 'D:\\\\CSUEB\\\\lynne\\\\DataSet_NPY\\\\Walking\\\\walking (977).npy', 'D:\\\\CSUEB\\\\lynne\\\\DataSet_NPY\\\\Walking\\\\walking (640).npy', 'D:\\\\CSUEB\\\\lynne\\\\DataSet_NPY\\\\Walking\\\\walking (388).npy', 'D:\\\\CSUEB\\\\lynne\\\\DataSet_NPY\\\\Walking\\\\walking (146).npy', 'D:\\\\CSUEB\\\\lynne\\\\DataSet_NPY\\\\Walking\\\\walking (374).npy', 'D:\\\\CSUEB\\\\lynne\\\\DataSet_NPY\\\\Walking\\\\walking (622).npy', 'D:\\\\CSUEB\\\\lynne\\\\DataSet_NPY\\\\Walking\\\\walking (3).npy', 'D:\\\\CSUEB\\\\lynne\\\\DataSet_NPY\\\\Walking\\\\walking (956).npy', 'D:\\\\CSUEB\\\\lynne\\\\DataSet_NPY\\\\Walking\\\\walking (356).npy', 'D:\\\\CSUEB\\\\lynne\\\\DataSet_NPY\\\\Walking\\\\walking (990).npy', 'D:\\\\CSUEB\\\\lynne\\\\DataSet_NPY\\\\Walking\\\\walking (884).npy', 'D:\\\\CSUEB\\\\lynne\\\\DataSet_NPY\\\\Walking\\\\walking (664).npy', 'D:\\\\CSUEB\\\\lynne\\\\DataSet_NPY\\\\Walking\\\\walking (311).npy', 'D:\\\\CSUEB\\\\lynne\\\\DataSet_NPY\\\\Walking\\\\walking (458).npy', 'D:\\\\CSUEB\\\\lynne\\\\DataSet_NPY\\\\Walking\\\\walking (945).npy', 'D:\\\\CSUEB\\\\lynne\\\\DataSet_NPY\\\\Walking\\\\walking (947).npy', 'D:\\\\CSUEB\\\\lynne\\\\DataSet_NPY\\\\Walking\\\\walking (697).npy', 'D:\\\\CSUEB\\\\lynne\\\\DataSet_NPY\\\\Walking\\\\walking (788).npy', 'D:\\\\CSUEB\\\\lynne\\\\DataSet_NPY\\\\Walking\\\\walking (995).npy', 'D:\\\\CSUEB\\\\lynne\\\\DataSet_NPY\\\\Walking\\\\walking (276).npy', 'D:\\\\CSUEB\\\\lynne\\\\DataSet_NPY\\\\Walking\\\\walking (648).npy', 'D:\\\\CSUEB\\\\lynne\\\\DataSet_NPY\\\\Walking\\\\walking (724).npy', 'D:\\\\CSUEB\\\\lynne\\\\DataSet_NPY\\\\Walking\\\\walking (578).npy', 'D:\\\\CSUEB\\\\lynne\\\\DataSet_NPY\\\\Walking\\\\walking (561).npy', 'D:\\\\CSUEB\\\\lynne\\\\DataSet_NPY\\\\Walking\\\\walking (755).npy', 'D:\\\\CSUEB\\\\lynne\\\\DataSet_NPY\\\\Walking\\\\walking (41).npy', 'D:\\\\CSUEB\\\\lynne\\\\DataSet_NPY\\\\Walking\\\\walking (336).npy', 'D:\\\\CSUEB\\\\lynne\\\\DataSet_NPY\\\\Walking\\\\walking (421).npy', 'D:\\\\CSUEB\\\\lynne\\\\DataSet_NPY\\\\Walking\\\\walking (726).npy', 'D:\\\\CSUEB\\\\lynne\\\\DataSet_NPY\\\\Walking\\\\walking (759).npy', 'D:\\\\CSUEB\\\\lynne\\\\DataSet_NPY\\\\Walking\\\\walking (982).npy', 'D:\\\\CSUEB\\\\lynne\\\\DataSet_NPY\\\\Walking\\\\walking (174).npy', 'D:\\\\CSUEB\\\\lynne\\\\DataSet_NPY\\\\Walking\\\\walking (86).npy', 'D:\\\\CSUEB\\\\lynne\\\\DataSet_NPY\\\\Walking\\\\walking (950).npy', 'D:\\\\CSUEB\\\\lynne\\\\DataSet_NPY\\\\Walking\\\\walking (824).npy', 'D:\\\\CSUEB\\\\lynne\\\\DataSet_NPY\\\\Walking\\\\walking (821).npy', 'D:\\\\CSUEB\\\\lynne\\\\DataSet_NPY\\\\Walking\\\\walking (1100).npy', 'D:\\\\CSUEB\\\\lynne\\\\DataSet_NPY\\\\Walking\\\\walking (246).npy', 'D:\\\\CSUEB\\\\lynne\\\\DataSet_NPY\\\\Walking\\\\walking (282).npy', 'D:\\\\CSUEB\\\\lynne\\\\DataSet_NPY\\\\Walking\\\\walking (698).npy', 'D:\\\\CSUEB\\\\lynne\\\\DataSet_NPY\\\\Walking\\\\walking (570).npy', 'D:\\\\CSUEB\\\\lynne\\\\DataSet_NPY\\\\Walking\\\\walking (390).npy', 'D:\\\\CSUEB\\\\lynne\\\\DataSet_NPY\\\\Walking\\\\walking (382).npy', 'D:\\\\CSUEB\\\\lynne\\\\DataSet_NPY\\\\Walking\\\\walking (1143).npy', 'D:\\\\CSUEB\\\\lynne\\\\DataSet_NPY\\\\Walking\\\\walking (135).npy', 'D:\\\\CSUEB\\\\lynne\\\\DataSet_NPY\\\\Walking\\\\walking (389).npy', 'D:\\\\CSUEB\\\\lynne\\\\DataSet_NPY\\\\Walking\\\\walking (693).npy', 'D:\\\\CSUEB\\\\lynne\\\\DataSet_NPY\\\\Walking\\\\walking (396).npy', 'D:\\\\CSUEB\\\\lynne\\\\DataSet_NPY\\\\Walking\\\\walking (1074).npy', 'D:\\\\CSUEB\\\\lynne\\\\DataSet_NPY\\\\Walking\\\\walking (686).npy', 'D:\\\\CSUEB\\\\lynne\\\\DataSet_NPY\\\\Walking\\\\walking (505).npy', 'D:\\\\CSUEB\\\\lynne\\\\DataSet_NPY\\\\Walking\\\\walking (100).npy', 'D:\\\\CSUEB\\\\lynne\\\\DataSet_NPY\\\\Walking\\\\walking (252).npy', 'D:\\\\CSUEB\\\\lynne\\\\DataSet_NPY\\\\Walking\\\\walking (692).npy', 'D:\\\\CSUEB\\\\lynne\\\\DataSet_NPY\\\\Walking\\\\walking (603).npy', 'D:\\\\CSUEB\\\\lynne\\\\DataSet_NPY\\\\Walking\\\\walking (802).npy', 'D:\\\\CSUEB\\\\lynne\\\\DataSet_NPY\\\\Walking\\\\walking (997).npy', 'D:\\\\CSUEB\\\\lynne\\\\DataSet_NPY\\\\Walking\\\\walking (519).npy', 'D:\\\\CSUEB\\\\lynne\\\\DataSet_NPY\\\\Walking\\\\walking (169).npy', 'D:\\\\CSUEB\\\\lynne\\\\DataSet_NPY\\\\Walking\\\\walking (699).npy', 'D:\\\\CSUEB\\\\lynne\\\\DataSet_NPY\\\\Walking\\\\walking (485).npy', 'D:\\\\CSUEB\\\\lynne\\\\DataSet_NPY\\\\Walking\\\\walking (1117).npy', 'D:\\\\CSUEB\\\\lynne\\\\DataSet_NPY\\\\Walking\\\\walking (410).npy', 'D:\\\\CSUEB\\\\lynne\\\\DataSet_NPY\\\\Walking\\\\walking (54).npy', 'D:\\\\CSUEB\\\\lynne\\\\DataSet_NPY\\\\Walking\\\\walking (355).npy', 'D:\\\\CSUEB\\\\lynne\\\\DataSet_NPY\\\\Walking\\\\walking (757).npy', 'D:\\\\CSUEB\\\\lynne\\\\DataSet_NPY\\\\Walking\\\\walking (406).npy', 'D:\\\\CSUEB\\\\lynne\\\\DataSet_NPY\\\\Walking\\\\walking (1093).npy', 'D:\\\\CSUEB\\\\lynne\\\\DataSet_NPY\\\\Walking\\\\walking (572).npy', 'D:\\\\CSUEB\\\\lynne\\\\DataSet_NPY\\\\Walking\\\\walking (495).npy', 'D:\\\\CSUEB\\\\lynne\\\\DataSet_NPY\\\\Walking\\\\walking (662).npy', 'D:\\\\CSUEB\\\\lynne\\\\DataSet_NPY\\\\Walking\\\\walking (785).npy', 'D:\\\\CSUEB\\\\lynne\\\\DataSet_NPY\\\\Walking\\\\walking (266).npy', 'D:\\\\CSUEB\\\\lynne\\\\DataSet_NPY\\\\Walking\\\\walking (238).npy', 'D:\\\\CSUEB\\\\lynne\\\\DataSet_NPY\\\\Walking\\\\walking (472).npy', 'D:\\\\CSUEB\\\\lynne\\\\DataSet_NPY\\\\Walking\\\\walking (144).npy', 'D:\\\\CSUEB\\\\lynne\\\\DataSet_NPY\\\\Walking\\\\walking (781).npy', 'D:\\\\CSUEB\\\\lynne\\\\DataSet_NPY\\\\Walking\\\\walking (1097).npy', 'D:\\\\CSUEB\\\\lynne\\\\DataSet_NPY\\\\Walking\\\\walking (434).npy', 'D:\\\\CSUEB\\\\lynne\\\\DataSet_NPY\\\\Walking\\\\walking (422).npy', 'D:\\\\CSUEB\\\\lynne\\\\DataSet_NPY\\\\Walking\\\\walking (894).npy', 'D:\\\\CSUEB\\\\lynne\\\\DataSet_NPY\\\\Walking\\\\walking (486).npy', 'D:\\\\CSUEB\\\\lynne\\\\DataSet_NPY\\\\Walking\\\\walking (837).npy', 'D:\\\\CSUEB\\\\lynne\\\\DataSet_NPY\\\\Walking\\\\walking (638).npy', 'D:\\\\CSUEB\\\\lynne\\\\DataSet_NPY\\\\Walking\\\\walking (860).npy', 'D:\\\\CSUEB\\\\lynne\\\\DataSet_NPY\\\\Walking\\\\walking (259).npy', 'D:\\\\CSUEB\\\\lynne\\\\DataSet_NPY\\\\Walking\\\\walking (413).npy', 'D:\\\\CSUEB\\\\lynne\\\\DataSet_NPY\\\\Walking\\\\walking (627).npy', 'D:\\\\CSUEB\\\\lynne\\\\DataSet_NPY\\\\Walking\\\\walking (836).npy', 'D:\\\\CSUEB\\\\lynne\\\\DataSet_NPY\\\\Walking\\\\walking (975).npy', 'D:\\\\CSUEB\\\\lynne\\\\DataSet_NPY\\\\Walking\\\\walking (816).npy', 'D:\\\\CSUEB\\\\lynne\\\\DataSet_NPY\\\\Walking\\\\walking (631).npy', 'D:\\\\CSUEB\\\\lynne\\\\DataSet_NPY\\\\Walking\\\\walking (1108).npy', 'D:\\\\CSUEB\\\\lynne\\\\DataSet_NPY\\\\Walking\\\\walking (331).npy', 'D:\\\\CSUEB\\\\lynne\\\\DataSet_NPY\\\\Walking\\\\walking (791).npy', 'D:\\\\CSUEB\\\\lynne\\\\DataSet_NPY\\\\Walking\\\\walking (535).npy', 'D:\\\\CSUEB\\\\lynne\\\\DataSet_NPY\\\\Walking\\\\walking (471).npy', 'D:\\\\CSUEB\\\\lynne\\\\DataSet_NPY\\\\Walking\\\\walking (143).npy', 'D:\\\\CSUEB\\\\lynne\\\\DataSet_NPY\\\\Walking\\\\walking (795).npy', 'D:\\\\CSUEB\\\\lynne\\\\DataSet_NPY\\\\Walking\\\\walking (479).npy', 'D:\\\\CSUEB\\\\lynne\\\\DataSet_NPY\\\\Walking\\\\walking (800).npy', 'D:\\\\CSUEB\\\\lynne\\\\DataSet_NPY\\\\Walking\\\\walking (583).npy', 'D:\\\\CSUEB\\\\lynne\\\\DataSet_NPY\\\\Walking\\\\walking (435).npy', 'D:\\\\CSUEB\\\\lynne\\\\DataSet_NPY\\\\Walking\\\\walking (189).npy', 'D:\\\\CSUEB\\\\lynne\\\\DataSet_NPY\\\\Walking\\\\walking (97).npy', 'D:\\\\CSUEB\\\\lynne\\\\DataSet_NPY\\\\Walking\\\\walking (886).npy', 'D:\\\\CSUEB\\\\lynne\\\\DataSet_NPY\\\\Walking\\\\walking (481).npy', 'D:\\\\CSUEB\\\\lynne\\\\DataSet_NPY\\\\Walking\\\\walking (1076).npy', 'D:\\\\CSUEB\\\\lynne\\\\DataSet_NPY\\\\Walking\\\\walking (222).npy', 'D:\\\\CSUEB\\\\lynne\\\\DataSet_NPY\\\\Walking\\\\walking (258).npy', 'D:\\\\CSUEB\\\\lynne\\\\DataSet_NPY\\\\Walking\\\\walking (467).npy', 'D:\\\\CSUEB\\\\lynne\\\\DataSet_NPY\\\\Walking\\\\walking (658).npy', 'D:\\\\CSUEB\\\\lynne\\\\DataSet_NPY\\\\Walking\\\\walking (395).npy', 'D:\\\\CSUEB\\\\lynne\\\\DataSet_NPY\\\\Walking\\\\walking (669).npy', 'D:\\\\CSUEB\\\\lynne\\\\DataSet_NPY\\\\Walking\\\\walking (141).npy', 'D:\\\\CSUEB\\\\lynne\\\\DataSet_NPY\\\\Walking\\\\walking (872).npy', 'D:\\\\CSUEB\\\\lynne\\\\DataSet_NPY\\\\Walking\\\\walking (457).npy', 'D:\\\\CSUEB\\\\lynne\\\\DataSet_NPY\\\\Walking\\\\walking (604).npy', 'D:\\\\CSUEB\\\\lynne\\\\DataSet_NPY\\\\Walking\\\\walking (168).npy', 'D:\\\\CSUEB\\\\lynne\\\\DataSet_NPY\\\\Walking\\\\walking (605).npy', 'D:\\\\CSUEB\\\\lynne\\\\DataSet_NPY\\\\Walking\\\\walking (136).npy', 'D:\\\\CSUEB\\\\lynne\\\\DataSet_NPY\\\\Walking\\\\walking (641).npy', 'D:\\\\CSUEB\\\\lynne\\\\DataSet_NPY\\\\Walking\\\\walking (299).npy', 'D:\\\\CSUEB\\\\lynne\\\\DataSet_NPY\\\\Walking\\\\walking (56).npy', 'D:\\\\CSUEB\\\\lynne\\\\DataSet_NPY\\\\Walking\\\\walking (139).npy', 'D:\\\\CSUEB\\\\lynne\\\\DataSet_NPY\\\\Walking\\\\walking (875).npy', 'D:\\\\CSUEB\\\\lynne\\\\DataSet_NPY\\\\Walking\\\\walking (651).npy', 'D:\\\\CSUEB\\\\lynne\\\\DataSet_NPY\\\\Walking\\\\walking (265).npy', 'D:\\\\CSUEB\\\\lynne\\\\DataSet_NPY\\\\Walking\\\\walking (608).npy', 'D:\\\\CSUEB\\\\lynne\\\\DataSet_NPY\\\\Walking\\\\walking (930).npy', 'D:\\\\CSUEB\\\\lynne\\\\DataSet_NPY\\\\Walking\\\\walking (468).npy', 'D:\\\\CSUEB\\\\lynne\\\\DataSet_NPY\\\\Walking\\\\walking (173).npy', 'D:\\\\CSUEB\\\\lynne\\\\DataSet_NPY\\\\Walking\\\\walking (455).npy', 'D:\\\\CSUEB\\\\lynne\\\\DataSet_NPY\\\\Walking\\\\walking (337).npy', 'D:\\\\CSUEB\\\\lynne\\\\DataSet_NPY\\\\Walking\\\\walking (1060).npy', 'D:\\\\CSUEB\\\\lynne\\\\DataSet_NPY\\\\Walking\\\\walking (722).npy', 'D:\\\\CSUEB\\\\lynne\\\\DataSet_NPY\\\\Walking\\\\walking (600).npy', 'D:\\\\CSUEB\\\\lynne\\\\DataSet_NPY\\\\Walking\\\\walking (192).npy', 'D:\\\\CSUEB\\\\lynne\\\\DataSet_NPY\\\\Walking\\\\walking (417).npy', 'D:\\\\CSUEB\\\\lynne\\\\DataSet_NPY\\\\Walking\\\\walking (955).npy', 'D:\\\\CSUEB\\\\lynne\\\\DataSet_NPY\\\\Walking\\\\walking (440).npy', 'D:\\\\CSUEB\\\\lynne\\\\DataSet_NPY\\\\Walking\\\\walking (733).npy', 'D:\\\\CSUEB\\\\lynne\\\\DataSet_NPY\\\\Walking\\\\walking (508).npy', 'D:\\\\CSUEB\\\\lynne\\\\DataSet_NPY\\\\Walking\\\\walking (106).npy', 'D:\\\\CSUEB\\\\lynne\\\\DataSet_NPY\\\\Walking\\\\walking (1109).npy', 'D:\\\\CSUEB\\\\lynne\\\\DataSet_NPY\\\\Walking\\\\walking (51).npy', 'D:\\\\CSUEB\\\\lynne\\\\DataSet_NPY\\\\Walking\\\\walking (207).npy', 'D:\\\\CSUEB\\\\lynne\\\\DataSet_NPY\\\\Walking\\\\walking (1142).npy', 'D:\\\\CSUEB\\\\lynne\\\\DataSet_NPY\\\\Walking\\\\walking (6).npy', 'D:\\\\CSUEB\\\\lynne\\\\DataSet_NPY\\\\Walking\\\\walking (567).npy', 'D:\\\\CSUEB\\\\lynne\\\\DataSet_NPY\\\\Walking\\\\walking (1138).npy', 'D:\\\\CSUEB\\\\lynne\\\\DataSet_NPY\\\\Walking\\\\walking (10).npy', 'D:\\\\CSUEB\\\\lynne\\\\DataSet_NPY\\\\Walking\\\\walking (619).npy', 'D:\\\\CSUEB\\\\lynne\\\\DataSet_NPY\\\\Walking\\\\walking (888).npy', 'D:\\\\CSUEB\\\\lynne\\\\DataSet_NPY\\\\Walking\\\\walking (663).npy', 'D:\\\\CSUEB\\\\lynne\\\\DataSet_NPY\\\\Walking\\\\walking (518).npy', 'D:\\\\CSUEB\\\\lynne\\\\DataSet_NPY\\\\Walking\\\\walking (877).npy', 'D:\\\\CSUEB\\\\lynne\\\\DataSet_NPY\\\\Walking\\\\walking (1091).npy', 'D:\\\\CSUEB\\\\lynne\\\\DataSet_NPY\\\\Walking\\\\walking (744).npy', 'D:\\\\CSUEB\\\\lynne\\\\DataSet_NPY\\\\Walking\\\\walking (887).npy', 'D:\\\\CSUEB\\\\lynne\\\\DataSet_NPY\\\\Walking\\\\walking (104).npy', 'D:\\\\CSUEB\\\\lynne\\\\DataSet_NPY\\\\Walking\\\\walking (76).npy', 'D:\\\\CSUEB\\\\lynne\\\\DataSet_NPY\\\\Walking\\\\walking (527).npy', 'D:\\\\CSUEB\\\\lynne\\\\DataSet_NPY\\\\Walking\\\\walking (306).npy', 'D:\\\\CSUEB\\\\lynne\\\\DataSet_NPY\\\\Walking\\\\walking (185).npy', 'D:\\\\CSUEB\\\\lynne\\\\DataSet_NPY\\\\Walking\\\\walking (59).npy', 'D:\\\\CSUEB\\\\lynne\\\\DataSet_NPY\\\\Walking\\\\walking (431).npy', 'D:\\\\CSUEB\\\\lynne\\\\DataSet_NPY\\\\Walking\\\\walking (760).npy', 'D:\\\\CSUEB\\\\lynne\\\\DataSet_NPY\\\\Walking\\\\walking (432).npy', 'D:\\\\CSUEB\\\\lynne\\\\DataSet_NPY\\\\Walking\\\\walking (117).npy', 'D:\\\\CSUEB\\\\lynne\\\\DataSet_NPY\\\\Walking\\\\walking (180).npy', 'D:\\\\CSUEB\\\\lynne\\\\DataSet_NPY\\\\Walking\\\\walking (563).npy', 'D:\\\\CSUEB\\\\lynne\\\\DataSet_NPY\\\\Walking\\\\walking (212).npy', 'D:\\\\CSUEB\\\\lynne\\\\DataSet_NPY\\\\Walking\\\\walking (902).npy', 'D:\\\\CSUEB\\\\lynne\\\\DataSet_NPY\\\\Walking\\\\walking (771).npy', 'D:\\\\CSUEB\\\\lynne\\\\DataSet_NPY\\\\Walking\\\\walking (312).npy', 'D:\\\\CSUEB\\\\lynne\\\\DataSet_NPY\\\\Walking\\\\walking (239).npy', 'D:\\\\CSUEB\\\\lynne\\\\DataSet_NPY\\\\Walking\\\\walking (670).npy', 'D:\\\\CSUEB\\\\lynne\\\\DataSet_NPY\\\\Walking\\\\walking (153).npy', 'D:\\\\CSUEB\\\\lynne\\\\DataSet_NPY\\\\Walking\\\\walking (704).npy', 'D:\\\\CSUEB\\\\lynne\\\\DataSet_NPY\\\\Walking\\\\walking (78).npy', 'D:\\\\CSUEB\\\\lynne\\\\DataSet_NPY\\\\Walking\\\\walking (989).npy', 'D:\\\\CSUEB\\\\lynne\\\\DataSet_NPY\\\\Walking\\\\walking (381).npy', 'D:\\\\CSUEB\\\\lynne\\\\DataSet_NPY\\\\Walking\\\\walking (899).npy', 'D:\\\\CSUEB\\\\lynne\\\\DataSet_NPY\\\\Walking\\\\walking (718).npy', 'D:\\\\CSUEB\\\\lynne\\\\DataSet_NPY\\\\Walking\\\\walking (639).npy', 'D:\\\\CSUEB\\\\lynne\\\\DataSet_NPY\\\\Walking\\\\walking (882).npy', 'D:\\\\CSUEB\\\\lynne\\\\DataSet_NPY\\\\Walking\\\\walking (362).npy', 'D:\\\\CSUEB\\\\lynne\\\\DataSet_NPY\\\\Walking\\\\walking (772).npy', 'D:\\\\CSUEB\\\\lynne\\\\DataSet_NPY\\\\Walking\\\\walking (217).npy', 'D:\\\\CSUEB\\\\lynne\\\\DataSet_NPY\\\\Walking\\\\walking (637).npy', 'D:\\\\CSUEB\\\\lynne\\\\DataSet_NPY\\\\Walking\\\\walking (1059).npy', 'D:\\\\CSUEB\\\\lynne\\\\DataSet_NPY\\\\Walking\\\\walking (340).npy', 'D:\\\\CSUEB\\\\lynne\\\\DataSet_NPY\\\\Walking\\\\walking (1078).npy', 'D:\\\\CSUEB\\\\lynne\\\\DataSet_NPY\\\\Walking\\\\walking (717).npy', 'D:\\\\CSUEB\\\\lynne\\\\DataSet_NPY\\\\Walking\\\\walking (612).npy', 'D:\\\\CSUEB\\\\lynne\\\\DataSet_NPY\\\\Walking\\\\walking (633).npy', 'D:\\\\CSUEB\\\\lynne\\\\DataSet_NPY\\\\Walking\\\\walking (904).npy', 'D:\\\\CSUEB\\\\lynne\\\\DataSet_NPY\\\\Walking\\\\walking (767).npy', 'D:\\\\CSUEB\\\\lynne\\\\DataSet_NPY\\\\Walking\\\\walking (215).npy', 'D:\\\\CSUEB\\\\lynne\\\\DataSet_NPY\\\\Walking\\\\walking (1139).npy', 'D:\\\\CSUEB\\\\lynne\\\\DataSet_NPY\\\\Walking\\\\walking (95).npy', 'D:\\\\CSUEB\\\\lynne\\\\DataSet_NPY\\\\Walking\\\\walking (405).npy', 'D:\\\\CSUEB\\\\lynne\\\\DataSet_NPY\\\\Walking\\\\walking (962).npy', 'D:\\\\CSUEB\\\\lynne\\\\DataSet_NPY\\\\Walking\\\\walking (711).npy', 'D:\\\\CSUEB\\\\lynne\\\\DataSet_NPY\\\\Walking\\\\walking (391).npy', 'D:\\\\CSUEB\\\\lynne\\\\DataSet_NPY\\\\Walking\\\\walking (779).npy', 'D:\\\\CSUEB\\\\lynne\\\\DataSet_NPY\\\\Walking\\\\walking (12).npy', 'D:\\\\CSUEB\\\\lynne\\\\DataSet_NPY\\\\Walking\\\\walking (536).npy', 'D:\\\\CSUEB\\\\lynne\\\\DataSet_NPY\\\\Walking\\\\walking (1144).npy', 'D:\\\\CSUEB\\\\lynne\\\\DataSet_NPY\\\\Walking\\\\walking (499).npy', 'D:\\\\CSUEB\\\\lynne\\\\DataSet_NPY\\\\Walking\\\\walking (576).npy', 'D:\\\\CSUEB\\\\lynne\\\\DataSet_NPY\\\\Walking\\\\walking (883).npy', 'D:\\\\CSUEB\\\\lynne\\\\DataSet_NPY\\\\Walking\\\\walking (825).npy', 'D:\\\\CSUEB\\\\lynne\\\\DataSet_NPY\\\\Walking\\\\walking (715).npy', 'D:\\\\CSUEB\\\\lynne\\\\DataSet_NPY\\\\Walking\\\\walking (320).npy', 'D:\\\\CSUEB\\\\lynne\\\\DataSet_NPY\\\\Walking\\\\walking (869).npy', 'D:\\\\CSUEB\\\\lynne\\\\DataSet_NPY\\\\Walking\\\\walking (914).npy', 'D:\\\\CSUEB\\\\lynne\\\\DataSet_NPY\\\\Walking\\\\walking (933).npy', 'D:\\\\CSUEB\\\\lynne\\\\DataSet_NPY\\\\Walking\\\\walking (130).npy', 'D:\\\\CSUEB\\\\lynne\\\\DataSet_NPY\\\\Walking\\\\walking (454).npy', 'D:\\\\CSUEB\\\\lynne\\\\DataSet_NPY\\\\Walking\\\\walking (1128).npy', 'D:\\\\CSUEB\\\\lynne\\\\DataSet_NPY\\\\Walking\\\\walking (735).npy', 'D:\\\\CSUEB\\\\lynne\\\\DataSet_NPY\\\\Walking\\\\walking (1124).npy', 'D:\\\\CSUEB\\\\lynne\\\\DataSet_NPY\\\\Walking\\\\walking (932).npy', 'D:\\\\CSUEB\\\\lynne\\\\DataSet_NPY\\\\Walking\\\\walking (665).npy', 'D:\\\\CSUEB\\\\lynne\\\\DataSet_NPY\\\\Walking\\\\walking (897).npy', 'D:\\\\CSUEB\\\\lynne\\\\DataSet_NPY\\\\Walking\\\\walking (248).npy', 'D:\\\\CSUEB\\\\lynne\\\\DataSet_NPY\\\\Walking\\\\walking (407).npy', 'D:\\\\CSUEB\\\\lynne\\\\DataSet_NPY\\\\Walking\\\\walking (188).npy', 'D:\\\\CSUEB\\\\lynne\\\\DataSet_NPY\\\\Walking\\\\walking (683).npy', 'D:\\\\CSUEB\\\\lynne\\\\DataSet_NPY\\\\Walking\\\\walking (416).npy', 'D:\\\\CSUEB\\\\lynne\\\\DataSet_NPY\\\\Walking\\\\walking (15).npy', 'D:\\\\CSUEB\\\\lynne\\\\DataSet_NPY\\\\Walking\\\\walking (1145).npy', 'D:\\\\CSUEB\\\\lynne\\\\DataSet_NPY\\\\Walking\\\\walking (685).npy', 'D:\\\\CSUEB\\\\lynne\\\\DataSet_NPY\\\\Walking\\\\walking (777).npy', 'D:\\\\CSUEB\\\\lynne\\\\DataSet_NPY\\\\Walking\\\\walking (618).npy', 'D:\\\\CSUEB\\\\lynne\\\\DataSet_NPY\\\\Walking\\\\walking (43).npy', 'D:\\\\CSUEB\\\\lynne\\\\DataSet_NPY\\\\Walking\\\\walking (487).npy', 'D:\\\\CSUEB\\\\lynne\\\\DataSet_NPY\\\\Walking\\\\walking (129).npy', 'D:\\\\CSUEB\\\\lynne\\\\DataSet_NPY\\\\Walking\\\\walking (747).npy', 'D:\\\\CSUEB\\\\lynne\\\\DataSet_NPY\\\\Walking\\\\walking (568).npy', 'D:\\\\CSUEB\\\\lynne\\\\DataSet_NPY\\\\Walking\\\\walking (69).npy', 'D:\\\\CSUEB\\\\lynne\\\\DataSet_NPY\\\\Walking\\\\walking (866).npy', 'D:\\\\CSUEB\\\\lynne\\\\DataSet_NPY\\\\Walking\\\\walking (368).npy', 'D:\\\\CSUEB\\\\lynne\\\\DataSet_NPY\\\\Walking\\\\walking (1086).npy', 'D:\\\\CSUEB\\\\lynne\\\\DataSet_NPY\\\\Walking\\\\walking (643).npy', 'D:\\\\CSUEB\\\\lynne\\\\DataSet_NPY\\\\Walking\\\\walking (1056).npy', 'D:\\\\CSUEB\\\\lynne\\\\DataSet_NPY\\\\Walking\\\\walking (214).npy', 'D:\\\\CSUEB\\\\lynne\\\\DataSet_NPY\\\\Walking\\\\walking (439).npy', 'D:\\\\CSUEB\\\\lynne\\\\DataSet_NPY\\\\Walking\\\\walking (187).npy', 'D:\\\\CSUEB\\\\lynne\\\\DataSet_NPY\\\\Walking\\\\walking (1113).npy', 'D:\\\\CSUEB\\\\lynne\\\\DataSet_NPY\\\\Walking\\\\walking (184).npy', 'D:\\\\CSUEB\\\\lynne\\\\DataSet_NPY\\\\Walking\\\\walking (832).npy', 'D:\\\\CSUEB\\\\lynne\\\\DataSet_NPY\\\\Walking\\\\walking (121).npy', 'D:\\\\CSUEB\\\\lynne\\\\DataSet_NPY\\\\Walking\\\\walking (402).npy', 'D:\\\\CSUEB\\\\lynne\\\\DataSet_NPY\\\\Walking\\\\walking (840).npy', 'D:\\\\CSUEB\\\\lynne\\\\DataSet_NPY\\\\Walking\\\\walking (808).npy', 'D:\\\\CSUEB\\\\lynne\\\\DataSet_NPY\\\\Walking\\\\walking (851).npy', 'D:\\\\CSUEB\\\\lynne\\\\DataSet_NPY\\\\Walking\\\\walking (579).npy', 'D:\\\\CSUEB\\\\lynne\\\\DataSet_NPY\\\\Walking\\\\walking (33).npy', 'D:\\\\CSUEB\\\\lynne\\\\DataSet_NPY\\\\Walking\\\\walking (551).npy', 'D:\\\\CSUEB\\\\lynne\\\\DataSet_NPY\\\\Walking\\\\walking (822).npy', 'D:\\\\CSUEB\\\\lynne\\\\DataSet_NPY\\\\Walking\\\\walking (550).npy', 'D:\\\\CSUEB\\\\lynne\\\\DataSet_NPY\\\\Walking\\\\walking (940).npy', 'D:\\\\CSUEB\\\\lynne\\\\DataSet_NPY\\\\Walking\\\\walking (397).npy', 'D:\\\\CSUEB\\\\lynne\\\\DataSet_NPY\\\\Walking\\\\walking (1066).npy', 'D:\\\\CSUEB\\\\lynne\\\\DataSet_NPY\\\\Walking\\\\walking (415).npy', 'D:\\\\CSUEB\\\\lynne\\\\DataSet_NPY\\\\Walking\\\\walking (916).npy', 'D:\\\\CSUEB\\\\lynne\\\\DataSet_NPY\\\\Walking\\\\walking (917).npy', 'D:\\\\CSUEB\\\\lynne\\\\DataSet_NPY\\\\Walking\\\\walking (565).npy', 'D:\\\\CSUEB\\\\lynne\\\\DataSet_NPY\\\\Walking\\\\walking (999).npy', 'D:\\\\CSUEB\\\\lynne\\\\DataSet_NPY\\\\Walking\\\\walking (701).npy', 'D:\\\\CSUEB\\\\lynne\\\\DataSet_NPY\\\\Walking\\\\walking (986).npy', 'D:\\\\CSUEB\\\\lynne\\\\DataSet_NPY\\\\Walking\\\\walking (589).npy', 'D:\\\\CSUEB\\\\lynne\\\\DataSet_NPY\\\\Walking\\\\walking (262).npy', 'D:\\\\CSUEB\\\\lynne\\\\DataSet_NPY\\\\Walking\\\\walking (149).npy', 'D:\\\\CSUEB\\\\lynne\\\\DataSet_NPY\\\\Walking\\\\walking (350).npy', 'D:\\\\CSUEB\\\\lynne\\\\DataSet_NPY\\\\Walking\\\\walking (498).npy', 'D:\\\\CSUEB\\\\lynne\\\\DataSet_NPY\\\\Walking\\\\walking (766).npy', 'D:\\\\CSUEB\\\\lynne\\\\DataSet_NPY\\\\Walking\\\\walking (1095).npy', 'D:\\\\CSUEB\\\\lynne\\\\DataSet_NPY\\\\Walking\\\\walking (304).npy', 'D:\\\\CSUEB\\\\lynne\\\\DataSet_NPY\\\\Walking\\\\walking (655).npy', 'D:\\\\CSUEB\\\\lynne\\\\DataSet_NPY\\\\Walking\\\\walking (108).npy', 'D:\\\\CSUEB\\\\lynne\\\\DataSet_NPY\\\\Walking\\\\walking (601).npy', 'D:\\\\CSUEB\\\\lynne\\\\DataSet_NPY\\\\Walking\\\\walking (903).npy', 'D:\\\\CSUEB\\\\lynne\\\\DataSet_NPY\\\\Walking\\\\walking (949).npy', 'D:\\\\CSUEB\\\\lynne\\\\DataSet_NPY\\\\Walking\\\\walking (1130).npy', 'D:\\\\CSUEB\\\\lynne\\\\DataSet_NPY\\\\Walking\\\\walking (806).npy', 'D:\\\\CSUEB\\\\lynne\\\\DataSet_NPY\\\\Walking\\\\walking (35).npy', 'D:\\\\CSUEB\\\\lynne\\\\DataSet_NPY\\\\Walking\\\\walking (732).npy', 'D:\\\\CSUEB\\\\lynne\\\\DataSet_NPY\\\\Walking\\\\walking (996).npy', 'D:\\\\CSUEB\\\\lynne\\\\DataSet_NPY\\\\Walking\\\\walking (934).npy', 'D:\\\\CSUEB\\\\lynne\\\\DataSet_NPY\\\\Walking\\\\walking (965).npy', 'D:\\\\CSUEB\\\\lynne\\\\DataSet_NPY\\\\Walking\\\\walking (927).npy', 'D:\\\\CSUEB\\\\lynne\\\\DataSet_NPY\\\\Walking\\\\walking (667).npy', 'D:\\\\CSUEB\\\\lynne\\\\DataSet_NPY\\\\Walking\\\\walking (58).npy', 'D:\\\\CSUEB\\\\lynne\\\\DataSet_NPY\\\\Walking\\\\walking (137).npy', 'D:\\\\CSUEB\\\\lynne\\\\DataSet_NPY\\\\Walking\\\\walking (274).npy', 'D:\\\\CSUEB\\\\lynne\\\\DataSet_NPY\\\\Walking\\\\walking (438).npy', 'D:\\\\CSUEB\\\\lynne\\\\DataSet_NPY\\\\Walking\\\\walking (209).npy', 'D:\\\\CSUEB\\\\lynne\\\\DataSet_NPY\\\\Walking\\\\walking (675).npy', 'D:\\\\CSUEB\\\\lynne\\\\DataSet_NPY\\\\Walking\\\\walking (448).npy', 'D:\\\\CSUEB\\\\lynne\\\\DataSet_NPY\\\\Walking\\\\walking (181).npy', 'D:\\\\CSUEB\\\\lynne\\\\DataSet_NPY\\\\Walking\\\\walking (154).npy', 'D:\\\\CSUEB\\\\lynne\\\\DataSet_NPY\\\\Walking\\\\walking (993).npy', 'D:\\\\CSUEB\\\\lynne\\\\DataSet_NPY\\\\Walking\\\\walking (834).npy', 'D:\\\\CSUEB\\\\lynne\\\\DataSet_NPY\\\\Walking\\\\walking (105).npy', 'D:\\\\CSUEB\\\\lynne\\\\DataSet_NPY\\\\Walking\\\\walking (881).npy', 'D:\\\\CSUEB\\\\lynne\\\\DataSet_NPY\\\\Walking\\\\walking (317).npy', 'D:\\\\CSUEB\\\\lynne\\\\DataSet_NPY\\\\Walking\\\\walking (876).npy', 'D:\\\\CSUEB\\\\lynne\\\\DataSet_NPY\\\\Walking\\\\walking (437).npy', 'D:\\\\CSUEB\\\\lynne\\\\DataSet_NPY\\\\Walking\\\\walking (673).npy', 'D:\\\\CSUEB\\\\lynne\\\\DataSet_NPY\\\\Walking\\\\walking (1112).npy', 'D:\\\\CSUEB\\\\lynne\\\\DataSet_NPY\\\\Walking\\\\walking (491).npy', 'D:\\\\CSUEB\\\\lynne\\\\DataSet_NPY\\\\Walking\\\\walking (804).npy', 'D:\\\\CSUEB\\\\lynne\\\\DataSet_NPY\\\\Walking\\\\walking (231).npy', 'D:\\\\CSUEB\\\\lynne\\\\DataSet_NPY\\\\Walking\\\\walking (4).npy', 'D:\\\\CSUEB\\\\lynne\\\\DataSet_NPY\\\\Walking\\\\walking (482).npy', 'D:\\\\CSUEB\\\\lynne\\\\DataSet_NPY\\\\Walking\\\\walking (247).npy', 'D:\\\\CSUEB\\\\lynne\\\\DataSet_NPY\\\\Walking\\\\walking (113).npy', 'D:\\\\CSUEB\\\\lynne\\\\DataSet_NPY\\\\Walking\\\\walking (404).npy', 'D:\\\\CSUEB\\\\lynne\\\\DataSet_NPY\\\\Walking\\\\walking (666).npy', 'D:\\\\CSUEB\\\\lynne\\\\DataSet_NPY\\\\Walking\\\\walking (614).npy', 'D:\\\\CSUEB\\\\lynne\\\\DataSet_NPY\\\\Walking\\\\walking (610).npy', 'D:\\\\CSUEB\\\\lynne\\\\DataSet_NPY\\\\Walking\\\\walking (898).npy', 'D:\\\\CSUEB\\\\lynne\\\\DataSet_NPY\\\\Walking\\\\walking (623).npy', 'D:\\\\CSUEB\\\\lynne\\\\DataSet_NPY\\\\Walking\\\\walking (529).npy', 'D:\\\\CSUEB\\\\lynne\\\\DataSet_NPY\\\\Walking\\\\walking (741).npy', 'D:\\\\CSUEB\\\\lynne\\\\DataSet_NPY\\\\Walking\\\\walking (873).npy', 'D:\\\\CSUEB\\\\lynne\\\\DataSet_NPY\\\\Walking\\\\walking (1146).npy', 'D:\\\\CSUEB\\\\lynne\\\\DataSet_NPY\\\\Walking\\\\walking (300).npy', 'D:\\\\CSUEB\\\\lynne\\\\DataSet_NPY\\\\Walking\\\\walking (581).npy', 'D:\\\\CSUEB\\\\lynne\\\\DataSet_NPY\\\\Walking\\\\walking (856).npy', 'D:\\\\CSUEB\\\\lynne\\\\DataSet_NPY\\\\Walking\\\\walking (328).npy', 'D:\\\\CSUEB\\\\lynne\\\\DataSet_NPY\\\\Walking\\\\walking (713).npy', 'D:\\\\CSUEB\\\\lynne\\\\DataSet_NPY\\\\Walking\\\\walking (256).npy', 'D:\\\\CSUEB\\\\lynne\\\\DataSet_NPY\\\\Walking\\\\walking (23).npy', 'D:\\\\CSUEB\\\\lynne\\\\DataSet_NPY\\\\Walking\\\\walking (161).npy', 'D:\\\\CSUEB\\\\lynne\\\\DataSet_NPY\\\\Walking\\\\walking (587).npy', 'D:\\\\CSUEB\\\\lynne\\\\DataSet_NPY\\\\Walking\\\\walking (547).npy', 'D:\\\\CSUEB\\\\lynne\\\\DataSet_NPY\\\\Walking\\\\walking (646).npy', 'D:\\\\CSUEB\\\\lynne\\\\DataSet_NPY\\\\Walking\\\\walking (349).npy', 'D:\\\\CSUEB\\\\lynne\\\\DataSet_NPY\\\\Walking\\\\walking (203).npy', 'D:\\\\CSUEB\\\\lynne\\\\DataSet_NPY\\\\Walking\\\\walking (854).npy', 'D:\\\\CSUEB\\\\lynne\\\\DataSet_NPY\\\\Walking\\\\walking (278).npy', 'D:\\\\CSUEB\\\\lynne\\\\DataSet_NPY\\\\Walking\\\\walking (857).npy', 'D:\\\\CSUEB\\\\lynne\\\\DataSet_NPY\\\\Walking\\\\walking (319).npy', 'D:\\\\CSUEB\\\\lynne\\\\DataSet_NPY\\\\Walking\\\\walking (216).npy', 'D:\\\\CSUEB\\\\lynne\\\\DataSet_NPY\\\\Walking\\\\walking (522).npy', 'D:\\\\CSUEB\\\\lynne\\\\DataSet_NPY\\\\Walking\\\\walking (25).npy', 'D:\\\\CSUEB\\\\lynne\\\\DataSet_NPY\\\\Walking\\\\walking (34).npy', 'D:\\\\CSUEB\\\\lynne\\\\DataSet_NPY\\\\Walking\\\\walking (702).npy', 'D:\\\\CSUEB\\\\lynne\\\\DataSet_NPY\\\\Walking\\\\walking (750).npy', 'D:\\\\CSUEB\\\\lynne\\\\DataSet_NPY\\\\Walking\\\\walking (921).npy', 'D:\\\\CSUEB\\\\lynne\\\\DataSet_NPY\\\\Walking\\\\walking (166).npy', 'D:\\\\CSUEB\\\\lynne\\\\DataSet_NPY\\\\Walking\\\\walking (919).npy', 'D:\\\\CSUEB\\\\lynne\\\\DataSet_NPY\\\\Walking\\\\walking (968).npy', 'D:\\\\CSUEB\\\\lynne\\\\DataSet_NPY\\\\Walking\\\\walking (295).npy', 'D:\\\\CSUEB\\\\lynne\\\\DataSet_NPY\\\\Walking\\\\walking (492).npy', 'D:\\\\CSUEB\\\\lynne\\\\DataSet_NPY\\\\Walking\\\\walking (273).npy', 'D:\\\\CSUEB\\\\lynne\\\\DataSet_NPY\\\\Walking\\\\walking (94).npy', 'D:\\\\CSUEB\\\\lynne\\\\DataSet_NPY\\\\Walking\\\\walking (680).npy', 'D:\\\\CSUEB\\\\lynne\\\\DataSet_NPY\\\\Walking\\\\walking (80).npy', 'D:\\\\CSUEB\\\\lynne\\\\DataSet_NPY\\\\Walking\\\\walking (727).npy', 'D:\\\\CSUEB\\\\lynne\\\\DataSet_NPY\\\\Walking\\\\walking (102).npy', 'D:\\\\CSUEB\\\\lynne\\\\DataSet_NPY\\\\Walking\\\\walking (453).npy', 'D:\\\\CSUEB\\\\lynne\\\\DataSet_NPY\\\\Walking\\\\walking (963).npy', 'D:\\\\CSUEB\\\\lynne\\\\DataSet_NPY\\\\Walking\\\\walking (234).npy', 'D:\\\\CSUEB\\\\lynne\\\\DataSet_NPY\\\\Walking\\\\walking (981).npy', 'D:\\\\CSUEB\\\\lynne\\\\DataSet_NPY\\\\Walking\\\\walking (384).npy', 'D:\\\\CSUEB\\\\lynne\\\\DataSet_NPY\\\\Walking\\\\walking (712).npy', 'D:\\\\CSUEB\\\\lynne\\\\DataSet_NPY\\\\Walking\\\\walking (862).npy', 'D:\\\\CSUEB\\\\lynne\\\\DataSet_NPY\\\\Walking\\\\walking (441).npy', 'D:\\\\CSUEB\\\\lynne\\\\DataSet_NPY\\\\Walking\\\\walking (574).npy', 'D:\\\\CSUEB\\\\lynne\\\\DataSet_NPY\\\\Walking\\\\walking (668).npy', 'D:\\\\CSUEB\\\\lynne\\\\DataSet_NPY\\\\Walking\\\\walking (609).npy', 'D:\\\\CSUEB\\\\lynne\\\\DataSet_NPY\\\\Walking\\\\walking (463).npy', 'D:\\\\CSUEB\\\\lynne\\\\DataSet_NPY\\\\Walking\\\\walking (810).npy', 'D:\\\\CSUEB\\\\lynne\\\\DataSet_NPY\\\\Walking\\\\walking (503).npy', 'D:\\\\CSUEB\\\\lynne\\\\DataSet_NPY\\\\Walking\\\\walking (344).npy', 'D:\\\\CSUEB\\\\lynne\\\\DataSet_NPY\\\\Walking\\\\walking (30).npy', 'D:\\\\CSUEB\\\\lynne\\\\DataSet_NPY\\\\Walking\\\\walking (171).npy', 'D:\\\\CSUEB\\\\lynne\\\\DataSet_NPY\\\\Walking\\\\walking (366).npy', 'D:\\\\CSUEB\\\\lynne\\\\DataSet_NPY\\\\Walking\\\\walking (526).npy', 'D:\\\\CSUEB\\\\lynne\\\\DataSet_NPY\\\\Walking\\\\walking (784).npy', 'D:\\\\CSUEB\\\\lynne\\\\DataSet_NPY\\\\Walking\\\\walking (695).npy', 'D:\\\\CSUEB\\\\lynne\\\\DataSet_NPY\\\\Walking\\\\walking (385).npy', 'D:\\\\CSUEB\\\\lynne\\\\DataSet_NPY\\\\Walking\\\\walking (351).npy', 'D:\\\\CSUEB\\\\lynne\\\\DataSet_NPY\\\\Walking\\\\walking (859).npy', 'D:\\\\CSUEB\\\\lynne\\\\DataSet_NPY\\\\Walking\\\\walking (504).npy', 'D:\\\\CSUEB\\\\lynne\\\\DataSet_NPY\\\\Walking\\\\walking (245).npy', 'D:\\\\CSUEB\\\\lynne\\\\DataSet_NPY\\\\Walking\\\\walking (939).npy', 'D:\\\\CSUEB\\\\lynne\\\\DataSet_NPY\\\\Walking\\\\walking (516).npy', 'D:\\\\CSUEB\\\\lynne\\\\DataSet_NPY\\\\Walking\\\\walking (470).npy', 'D:\\\\CSUEB\\\\lynne\\\\DataSet_NPY\\\\Walking\\\\walking (831).npy', 'D:\\\\CSUEB\\\\lynne\\\\DataSet_NPY\\\\Walking\\\\walking (820).npy', 'D:\\\\CSUEB\\\\lynne\\\\DataSet_NPY\\\\Walking\\\\walking (511).npy', 'D:\\\\CSUEB\\\\lynne\\\\DataSet_NPY\\\\Walking\\\\walking (684).npy', 'D:\\\\CSUEB\\\\lynne\\\\DataSet_NPY\\\\Walking\\\\walking (596).npy', 'D:\\\\CSUEB\\\\lynne\\\\DataSet_NPY\\\\Walking\\\\walking (944).npy', 'D:\\\\CSUEB\\\\lynne\\\\DataSet_NPY\\\\Walking\\\\walking (466).npy', 'D:\\\\CSUEB\\\\lynne\\\\DataSet_NPY\\\\Walking\\\\walking (953).npy', 'D:\\\\CSUEB\\\\lynne\\\\DataSet_NPY\\\\Walking\\\\walking (39).npy', 'D:\\\\CSUEB\\\\lynne\\\\DataSet_NPY\\\\Walking\\\\walking (40).npy', 'D:\\\\CSUEB\\\\lynne\\\\DataSet_NPY\\\\Walking\\\\walking (1116).npy', 'D:\\\\CSUEB\\\\lynne\\\\DataSet_NPY\\\\Walking\\\\walking (280).npy', 'D:\\\\CSUEB\\\\lynne\\\\DataSet_NPY\\\\Walking\\\\walking (386).npy', 'D:\\\\CSUEB\\\\lynne\\\\DataSet_NPY\\\\Walking\\\\walking (915).npy', 'D:\\\\CSUEB\\\\lynne\\\\DataSet_NPY\\\\Walking\\\\walking (7).npy', 'D:\\\\CSUEB\\\\lynne\\\\DataSet_NPY\\\\Walking\\\\walking (64).npy', 'D:\\\\CSUEB\\\\lynne\\\\DataSet_NPY\\\\Walking\\\\walking (635).npy', 'D:\\\\CSUEB\\\\lynne\\\\DataSet_NPY\\\\Walking\\\\walking (55).npy', 'D:\\\\CSUEB\\\\lynne\\\\DataSet_NPY\\\\Walking\\\\walking (360).npy', 'D:\\\\CSUEB\\\\lynne\\\\DataSet_NPY\\\\Walking\\\\walking (954).npy', 'D:\\\\CSUEB\\\\lynne\\\\DataSet_NPY\\\\Walking\\\\walking (92).npy', 'D:\\\\CSUEB\\\\lynne\\\\DataSet_NPY\\\\Walking\\\\walking (776).npy', 'D:\\\\CSUEB\\\\lynne\\\\DataSet_NPY\\\\Walking\\\\walking (580).npy', 'D:\\\\CSUEB\\\\lynne\\\\DataSet_NPY\\\\Walking\\\\walking (195).npy', 'D:\\\\CSUEB\\\\lynne\\\\DataSet_NPY\\\\Walking\\\\walking (867).npy', 'D:\\\\CSUEB\\\\lynne\\\\DataSet_NPY\\\\Walking\\\\walking (531).npy', 'D:\\\\CSUEB\\\\lynne\\\\DataSet_NPY\\\\Walking\\\\walking (649).npy', 'D:\\\\CSUEB\\\\lynne\\\\DataSet_NPY\\\\Walking\\\\walking (461).npy', 'D:\\\\CSUEB\\\\lynne\\\\DataSet_NPY\\\\Walking\\\\walking (251).npy', 'D:\\\\CSUEB\\\\lynne\\\\DataSet_NPY\\\\Walking\\\\walking (36).npy', 'D:\\\\CSUEB\\\\lynne\\\\DataSet_NPY\\\\Walking\\\\walking (850).npy', 'D:\\\\CSUEB\\\\lynne\\\\DataSet_NPY\\\\Walking\\\\walking (852).npy', 'D:\\\\CSUEB\\\\lynne\\\\DataSet_NPY\\\\Walking\\\\walking (305).npy', 'D:\\\\CSUEB\\\\lynne\\\\DataSet_NPY\\\\Walking\\\\walking (359).npy', 'D:\\\\CSUEB\\\\lynne\\\\DataSet_NPY\\\\Walking\\\\walking (1106).npy', 'D:\\\\CSUEB\\\\lynne\\\\DataSet_NPY\\\\Walking\\\\walking (477).npy', 'D:\\\\CSUEB\\\\lynne\\\\DataSet_NPY\\\\Walking\\\\walking (976).npy', 'D:\\\\CSUEB\\\\lynne\\\\DataSet_NPY\\\\Walking\\\\walking (515).npy', 'D:\\\\CSUEB\\\\lynne\\\\DataSet_NPY\\\\Walking\\\\walking (838).npy', 'D:\\\\CSUEB\\\\lynne\\\\DataSet_NPY\\\\Walking\\\\walking (308).npy', 'D:\\\\CSUEB\\\\lynne\\\\DataSet_NPY\\\\Walking\\\\walking (101).npy', 'D:\\\\CSUEB\\\\lynne\\\\DataSet_NPY\\\\Walking\\\\walking (358).npy', 'D:\\\\CSUEB\\\\lynne\\\\DataSet_NPY\\\\Walking\\\\walking (853).npy', 'D:\\\\CSUEB\\\\lynne\\\\DataSet_NPY\\\\Walking\\\\walking (582).npy', 'D:\\\\CSUEB\\\\lynne\\\\DataSet_NPY\\\\Walking\\\\walking (197).npy', 'D:\\\\CSUEB\\\\lynne\\\\DataSet_NPY\\\\Walking\\\\walking (797).npy', 'D:\\\\CSUEB\\\\lynne\\\\DataSet_NPY\\\\Walking\\\\walking (931).npy', 'D:\\\\CSUEB\\\\lynne\\\\DataSet_NPY\\\\Walking\\\\walking (1129).npy', 'D:\\\\CSUEB\\\\lynne\\\\DataSet_NPY\\\\Walking\\\\walking (753).npy', 'D:\\\\CSUEB\\\\lynne\\\\DataSet_NPY\\\\Walking\\\\walking (847).npy', 'D:\\\\CSUEB\\\\lynne\\\\DataSet_NPY\\\\Walking\\\\walking (613).npy', 'D:\\\\CSUEB\\\\lynne\\\\DataSet_NPY\\\\Walking\\\\walking (90).npy', 'D:\\\\CSUEB\\\\lynne\\\\DataSet_NPY\\\\Walking\\\\walking (152).npy', 'D:\\\\CSUEB\\\\lynne\\\\DataSet_NPY\\\\Walking\\\\walking (938).npy', 'D:\\\\CSUEB\\\\lynne\\\\DataSet_NPY\\\\Walking\\\\walking (1065).npy', 'D:\\\\CSUEB\\\\lynne\\\\DataSet_NPY\\\\Walking\\\\walking (509).npy', 'D:\\\\CSUEB\\\\lynne\\\\DataSet_NPY\\\\Walking\\\\walking (964).npy', 'D:\\\\CSUEB\\\\lynne\\\\DataSet_NPY\\\\Walking\\\\walking (338).npy', 'D:\\\\CSUEB\\\\lynne\\\\DataSet_NPY\\\\Walking\\\\walking (84).npy', 'D:\\\\CSUEB\\\\lynne\\\\DataSet_NPY\\\\Walking\\\\walking (687).npy', 'D:\\\\CSUEB\\\\lynne\\\\DataSet_NPY\\\\Walking\\\\walking (920).npy', 'D:\\\\CSUEB\\\\lynne\\\\DataSet_NPY\\\\Walking\\\\walking (1140).npy', 'D:\\\\CSUEB\\\\lynne\\\\DataSet_NPY\\\\Walking\\\\walking (681).npy', 'D:\\\\CSUEB\\\\lynne\\\\DataSet_NPY\\\\Walking\\\\walking (110).npy', 'D:\\\\CSUEB\\\\lynne\\\\DataSet_NPY\\\\Walking\\\\walking (465).npy', 'D:\\\\CSUEB\\\\lynne\\\\DataSet_NPY\\\\Walking\\\\walking (260).npy', 'D:\\\\CSUEB\\\\lynne\\\\DataSet_NPY\\\\Walking\\\\walking (564).npy', 'D:\\\\CSUEB\\\\lynne\\\\DataSet_NPY\\\\Walking\\\\walking (807).npy', 'D:\\\\CSUEB\\\\lynne\\\\DataSet_NPY\\\\Walking\\\\walking (1077).npy', 'D:\\\\CSUEB\\\\lynne\\\\DataSet_NPY\\\\Walking\\\\walking (114).npy', 'D:\\\\CSUEB\\\\lynne\\\\DataSet_NPY\\\\Walking\\\\walking (213).npy', 'D:\\\\CSUEB\\\\lynne\\\\DataSet_NPY\\\\Walking\\\\walking (769).npy', 'D:\\\\CSUEB\\\\lynne\\\\DataSet_NPY\\\\Walking\\\\walking (376).npy', 'D:\\\\CSUEB\\\\lynne\\\\DataSet_NPY\\\\Walking\\\\walking (163).npy', 'D:\\\\CSUEB\\\\lynne\\\\DataSet_NPY\\\\Walking\\\\walking (357).npy', 'D:\\\\CSUEB\\\\lynne\\\\DataSet_NPY\\\\Walking\\\\walking (890).npy', 'D:\\\\CSUEB\\\\lynne\\\\DataSet_NPY\\\\Walking\\\\walking (221).npy', 'D:\\\\CSUEB\\\\lynne\\\\DataSet_NPY\\\\Walking\\\\walking (70).npy', 'D:\\\\CSUEB\\\\lynne\\\\DataSet_NPY\\\\Walking\\\\walking (595).npy', 'D:\\\\CSUEB\\\\lynne\\\\DataSet_NPY\\\\Walking\\\\walking (541).npy', 'D:\\\\CSUEB\\\\lynne\\\\DataSet_NPY\\\\Walking\\\\walking (1080).npy', 'D:\\\\CSUEB\\\\lynne\\\\DataSet_NPY\\\\Walking\\\\walking (235).npy', 'D:\\\\CSUEB\\\\lynne\\\\DataSet_NPY\\\\Walking\\\\walking (138).npy', 'D:\\\\CSUEB\\\\lynne\\\\DataSet_NPY\\\\Walking\\\\walking (451).npy', 'D:\\\\CSUEB\\\\lynne\\\\DataSet_NPY\\\\Walking\\\\walking (271).npy', 'D:\\\\CSUEB\\\\lynne\\\\DataSet_NPY\\\\Walking\\\\walking (473).npy', 'D:\\\\CSUEB\\\\lynne\\\\DataSet_NPY\\\\Walking\\\\walking (330).npy', 'D:\\\\CSUEB\\\\lynne\\\\DataSet_NPY\\\\Walking\\\\walking (211).npy', 'D:\\\\CSUEB\\\\lynne\\\\DataSet_NPY\\\\Walking\\\\walking (24).npy', 'D:\\\\CSUEB\\\\lynne\\\\DataSet_NPY\\\\Walking\\\\walking (773).npy', 'D:\\\\CSUEB\\\\lynne\\\\DataSet_NPY\\\\Walking\\\\walking (249).npy', 'D:\\\\CSUEB\\\\lynne\\\\DataSet_NPY\\\\Walking\\\\walking (272).npy', 'D:\\\\CSUEB\\\\lynne\\\\DataSet_NPY\\\\Walking\\\\walking (607).npy', 'D:\\\\CSUEB\\\\lynne\\\\DataSet_NPY\\\\Walking\\\\walking (880).npy', 'D:\\\\CSUEB\\\\lynne\\\\DataSet_NPY\\\\Walking\\\\walking (289).npy', 'D:\\\\CSUEB\\\\lynne\\\\DataSet_NPY\\\\Walking\\\\walking (874).npy', 'D:\\\\CSUEB\\\\lynne\\\\DataSet_NPY\\\\Walking\\\\walking (147).npy', 'D:\\\\CSUEB\\\\lynne\\\\DataSet_NPY\\\\Walking\\\\walking (530).npy', 'D:\\\\CSUEB\\\\lynne\\\\DataSet_NPY\\\\Walking\\\\walking (341).npy', 'D:\\\\CSUEB\\\\lynne\\\\DataSet_NPY\\\\Walking\\\\walking (985).npy', 'D:\\\\CSUEB\\\\lynne\\\\DataSet_NPY\\\\Walking\\\\walking (489).npy', 'D:\\\\CSUEB\\\\lynne\\\\DataSet_NPY\\\\Walking\\\\walking (829).npy', 'D:\\\\CSUEB\\\\lynne\\\\DataSet_NPY\\\\Walking\\\\walking (738).npy', 'D:\\\\CSUEB\\\\lynne\\\\DataSet_NPY\\\\Walking\\\\walking (611).npy', 'D:\\\\CSUEB\\\\lynne\\\\DataSet_NPY\\\\Walking\\\\walking (165).npy', 'D:\\\\CSUEB\\\\lynne\\\\DataSet_NPY\\\\Walking\\\\walking (871).npy', 'D:\\\\CSUEB\\\\lynne\\\\DataSet_NPY\\\\Walking\\\\walking (57).npy', 'D:\\\\CSUEB\\\\lynne\\\\DataSet_NPY\\\\Walking\\\\walking (545).npy', 'D:\\\\CSUEB\\\\lynne\\\\DataSet_NPY\\\\Walking\\\\walking (703).npy', 'D:\\\\CSUEB\\\\lynne\\\\DataSet_NPY\\\\Walking\\\\walking (796).npy', 'D:\\\\CSUEB\\\\lynne\\\\DataSet_NPY\\\\Walking\\\\walking (706).npy', 'D:\\\\CSUEB\\\\lynne\\\\DataSet_NPY\\\\Walking\\\\walking (17).npy', 'D:\\\\CSUEB\\\\lynne\\\\DataSet_NPY\\\\Walking\\\\walking (127).npy', 'D:\\\\CSUEB\\\\lynne\\\\DataSet_NPY\\\\Walking\\\\walking (958).npy', 'D:\\\\CSUEB\\\\lynne\\\\DataSet_NPY\\\\Walking\\\\walking (241).npy', 'D:\\\\CSUEB\\\\lynne\\\\DataSet_NPY\\\\Walking\\\\walking (809).npy', 'D:\\\\CSUEB\\\\lynne\\\\DataSet_NPY\\\\Walking\\\\walking (1087).npy', 'D:\\\\CSUEB\\\\lynne\\\\DataSet_NPY\\\\Walking\\\\walking (575).npy', 'D:\\\\CSUEB\\\\lynne\\\\DataSet_NPY\\\\Walking\\\\walking (538).npy', 'D:\\\\CSUEB\\\\lynne\\\\DataSet_NPY\\\\Walking\\\\walking (660).npy', 'D:\\\\CSUEB\\\\lynne\\\\DataSet_NPY\\\\Walking\\\\walking (327).npy', 'D:\\\\CSUEB\\\\lynne\\\\DataSet_NPY\\\\Walking\\\\walking (307).npy', 'D:\\\\CSUEB\\\\lynne\\\\DataSet_NPY\\\\Walking\\\\walking (935).npy', 'D:\\\\CSUEB\\\\lynne\\\\DataSet_NPY\\\\Walking\\\\walking (801).npy', 'D:\\\\CSUEB\\\\lynne\\\\DataSet_NPY\\\\Walking\\\\walking (922).npy', 'D:\\\\CSUEB\\\\lynne\\\\DataSet_NPY\\\\Walking\\\\walking (979).npy', 'D:\\\\CSUEB\\\\lynne\\\\DataSet_NPY\\\\Walking\\\\walking (21).npy', 'D:\\\\CSUEB\\\\lynne\\\\DataSet_NPY\\\\Walking\\\\walking (714).npy', 'D:\\\\CSUEB\\\\lynne\\\\DataSet_NPY\\\\Walking\\\\walking (316).npy', 'D:\\\\CSUEB\\\\lynne\\\\DataSet_NPY\\\\Walking\\\\walking (302).npy', 'D:\\\\CSUEB\\\\lynne\\\\DataSet_NPY\\\\Walking\\\\walking (659).npy', 'D:\\\\CSUEB\\\\lynne\\\\DataSet_NPY\\\\Walking\\\\walking (237).npy', 'D:\\\\CSUEB\\\\lynne\\\\DataSet_NPY\\\\Walking\\\\walking (196).npy', 'D:\\\\CSUEB\\\\lynne\\\\DataSet_NPY\\\\Walking\\\\walking (972).npy', 'D:\\\\CSUEB\\\\lynne\\\\DataSet_NPY\\\\Walking\\\\walking (661).npy', 'D:\\\\CSUEB\\\\lynne\\\\DataSet_NPY\\\\Walking\\\\walking (315).npy', 'D:\\\\CSUEB\\\\lynne\\\\DataSet_NPY\\\\Walking\\\\walking (559).npy', 'D:\\\\CSUEB\\\\lynne\\\\DataSet_NPY\\\\Walking\\\\walking (85).npy', 'D:\\\\CSUEB\\\\lynne\\\\DataSet_NPY\\\\Walking\\\\walking (1101).npy', 'D:\\\\CSUEB\\\\lynne\\\\DataSet_NPY\\\\Walking\\\\walking (373).npy', 'D:\\\\CSUEB\\\\lynne\\\\DataSet_NPY\\\\Walking\\\\walking (120).npy', 'D:\\\\CSUEB\\\\lynne\\\\DataSet_NPY\\\\Walking\\\\walking (517).npy', 'D:\\\\CSUEB\\\\lynne\\\\DataSet_NPY\\\\Walking\\\\walking (952).npy', 'D:\\\\CSUEB\\\\lynne\\\\DataSet_NPY\\\\Walking\\\\walking (425).npy', 'D:\\\\CSUEB\\\\lynne\\\\DataSet_NPY\\\\Walking\\\\walking (426).npy', 'D:\\\\CSUEB\\\\lynne\\\\DataSet_NPY\\\\Walking\\\\walking (445).npy', 'D:\\\\CSUEB\\\\lynne\\\\DataSet_NPY\\\\Walking\\\\walking (912).npy', 'D:\\\\CSUEB\\\\lynne\\\\DataSet_NPY\\\\Walking\\\\walking (756).npy', 'D:\\\\CSUEB\\\\lynne\\\\DataSet_NPY\\\\Walking\\\\walking (318).npy', 'D:\\\\CSUEB\\\\lynne\\\\DataSet_NPY\\\\Walking\\\\walking (243).npy', 'D:\\\\CSUEB\\\\lynne\\\\DataSet_NPY\\\\Walking\\\\walking (52).npy', 'D:\\\\CSUEB\\\\lynne\\\\DataSet_NPY\\\\Walking\\\\walking (998).npy', 'D:\\\\CSUEB\\\\lynne\\\\DataSet_NPY\\\\Walking\\\\walking (365).npy', 'D:\\\\CSUEB\\\\lynne\\\\DataSet_NPY\\\\Walking\\\\walking (294).npy', 'D:\\\\CSUEB\\\\lynne\\\\DataSet_NPY\\\\Walking\\\\walking (1).npy', 'D:\\\\CSUEB\\\\lynne\\\\DataSet_NPY\\\\Walking\\\\walking (803).npy', 'D:\\\\CSUEB\\\\lynne\\\\DataSet_NPY\\\\Walking\\\\walking (18).npy', 'D:\\\\CSUEB\\\\lynne\\\\DataSet_NPY\\\\Walking\\\\walking (624).npy', 'D:\\\\CSUEB\\\\lynne\\\\DataSet_NPY\\\\Walking\\\\walking (250).npy', 'D:\\\\CSUEB\\\\lynne\\\\DataSet_NPY\\\\Walking\\\\walking (971).npy', 'D:\\\\CSUEB\\\\lynne\\\\DataSet_NPY\\\\Walking\\\\walking (694).npy', 'D:\\\\CSUEB\\\\lynne\\\\DataSet_NPY\\\\Walking\\\\walking (510).npy', 'D:\\\\CSUEB\\\\lynne\\\\DataSet_NPY\\\\Walking\\\\walking (533).npy', 'D:\\\\CSUEB\\\\lynne\\\\DataSet_NPY\\\\Walking\\\\walking (218).npy', 'D:\\\\CSUEB\\\\lynne\\\\DataSet_NPY\\\\Walking\\\\walking (449).npy', 'D:\\\\CSUEB\\\\lynne\\\\DataSet_NPY\\\\Walking\\\\walking (957).npy', 'D:\\\\CSUEB\\\\lynne\\\\DataSet_NPY\\\\Walking\\\\walking (476).npy', 'D:\\\\CSUEB\\\\lynne\\\\DataSet_NPY\\\\Walking\\\\walking (634).npy', 'D:\\\\CSUEB\\\\lynne\\\\DataSet_NPY\\\\Walking\\\\walking (967).npy', 'D:\\\\CSUEB\\\\lynne\\\\DataSet_NPY\\\\Walking\\\\walking (1110).npy', 'D:\\\\CSUEB\\\\lynne\\\\DataSet_NPY\\\\Walking\\\\walking (911).npy', 'D:\\\\CSUEB\\\\lynne\\\\DataSet_NPY\\\\Walking\\\\walking (205).npy', 'D:\\\\CSUEB\\\\lynne\\\\DataSet_NPY\\\\Walking\\\\walking (765).npy', 'D:\\\\CSUEB\\\\lynne\\\\DataSet_NPY\\\\Walking\\\\walking (907).npy', 'D:\\\\CSUEB\\\\lynne\\\\DataSet_NPY\\\\Walking\\\\walking (398).npy', 'D:\\\\CSUEB\\\\lynne\\\\DataSet_NPY\\\\Walking\\\\walking (783).npy', 'D:\\\\CSUEB\\\\lynne\\\\DataSet_NPY\\\\Walking\\\\walking (814).npy', 'D:\\\\CSUEB\\\\lynne\\\\DataSet_NPY\\\\Walking\\\\walking (89).npy', 'D:\\\\CSUEB\\\\lynne\\\\DataSet_NPY\\\\Walking\\\\walking (507).npy', 'D:\\\\CSUEB\\\\lynne\\\\DataSet_NPY\\\\Walking\\\\walking (864).npy', 'D:\\\\CSUEB\\\\lynne\\\\DataSet_NPY\\\\Walking\\\\walking (353).npy', 'D:\\\\CSUEB\\\\lynne\\\\DataSet_NPY\\\\Walking\\\\walking (709).npy', 'D:\\\\CSUEB\\\\lynne\\\\DataSet_NPY\\\\Walking\\\\walking (50).npy', 'D:\\\\CSUEB\\\\lynne\\\\DataSet_NPY\\\\Walking\\\\walking (29).npy', 'D:\\\\CSUEB\\\\lynne\\\\DataSet_NPY\\\\Walking\\\\walking (642).npy', 'D:\\\\CSUEB\\\\lynne\\\\DataSet_NPY\\\\Walking\\\\walking (1125).npy', 'D:\\\\CSUEB\\\\lynne\\\\DataSet_NPY\\\\Walking\\\\walking (973).npy', 'D:\\\\CSUEB\\\\lynne\\\\DataSet_NPY\\\\Walking\\\\walking (298).npy', 'D:\\\\CSUEB\\\\lynne\\\\DataSet_NPY\\\\Walking\\\\walking (293).npy', 'D:\\\\CSUEB\\\\lynne\\\\DataSet_NPY\\\\Walking\\\\walking (654).npy', 'D:\\\\CSUEB\\\\lynne\\\\DataSet_NPY\\\\Walking\\\\walking (325).npy', 'D:\\\\CSUEB\\\\lynne\\\\DataSet_NPY\\\\Walking\\\\walking (269).npy', 'D:\\\\CSUEB\\\\lynne\\\\DataSet_NPY\\\\Walking\\\\walking (758).npy', 'D:\\\\CSUEB\\\\lynne\\\\DataSet_NPY\\\\Walking\\\\walking (868).npy', 'D:\\\\CSUEB\\\\lynne\\\\DataSet_NPY\\\\Walking\\\\walking (1123).npy', 'D:\\\\CSUEB\\\\lynne\\\\DataSet_NPY\\\\Walking\\\\walking (552).npy', 'D:\\\\CSUEB\\\\lynne\\\\DataSet_NPY\\\\Walking\\\\walking (691).npy', 'D:\\\\CSUEB\\\\lynne\\\\DataSet_NPY\\\\Walking\\\\walking (464).npy', 'D:\\\\CSUEB\\\\lynne\\\\DataSet_NPY\\\\Walking\\\\walking (484).npy', 'D:\\\\CSUEB\\\\lynne\\\\DataSet_NPY\\\\Walking\\\\walking (819).npy', 'D:\\\\CSUEB\\\\lynne\\\\DataSet_NPY\\\\Walking\\\\walking (1082).npy', 'D:\\\\CSUEB\\\\lynne\\\\DataSet_NPY\\\\Walking\\\\walking (367).npy', 'D:\\\\CSUEB\\\\lynne\\\\DataSet_NPY\\\\Walking\\\\walking (229).npy', 'D:\\\\CSUEB\\\\lynne\\\\DataSet_NPY\\\\Walking\\\\walking (602).npy', 'D:\\\\CSUEB\\\\lynne\\\\DataSet_NPY\\\\Walking\\\\walking (513).npy', 'D:\\\\CSUEB\\\\lynne\\\\DataSet_NPY\\\\Walking\\\\walking (19).npy', 'D:\\\\CSUEB\\\\lynne\\\\DataSet_NPY\\\\Walking\\\\walking (782).npy', 'D:\\\\CSUEB\\\\lynne\\\\DataSet_NPY\\\\Walking\\\\walking (1122).npy', 'D:\\\\CSUEB\\\\lynne\\\\DataSet_NPY\\\\Walking\\\\walking (647).npy', 'D:\\\\CSUEB\\\\lynne\\\\DataSet_NPY\\\\Walking\\\\walking (543).npy', 'D:\\\\CSUEB\\\\lynne\\\\DataSet_NPY\\\\Walking\\\\walking (942).npy', 'D:\\\\CSUEB\\\\lynne\\\\DataSet_NPY\\\\Walking\\\\walking (752).npy', 'D:\\\\CSUEB\\\\lynne\\\\DataSet_NPY\\\\Walking\\\\walking (162).npy', 'D:\\\\CSUEB\\\\lynne\\\\DataSet_NPY\\\\Walking\\\\walking (170).npy', 'D:\\\\CSUEB\\\\lynne\\\\DataSet_NPY\\\\Walking\\\\walking (842).npy', 'D:\\\\CSUEB\\\\lynne\\\\DataSet_NPY\\\\Walking\\\\walking (959).npy', 'D:\\\\CSUEB\\\\lynne\\\\DataSet_NPY\\\\Walking\\\\walking (721).npy', 'D:\\\\CSUEB\\\\lynne\\\\DataSet_NPY\\\\Walking\\\\walking (1119).npy', 'D:\\\\CSUEB\\\\lynne\\\\DataSet_NPY\\\\Walking\\\\walking (730).npy', 'D:\\\\CSUEB\\\\lynne\\\\DataSet_NPY\\\\Walking\\\\walking (91).npy', 'D:\\\\CSUEB\\\\lynne\\\\DataSet_NPY\\\\Walking\\\\walking (1089).npy', 'D:\\\\CSUEB\\\\lynne\\\\DataSet_NPY\\\\Walking\\\\walking (740).npy', 'D:\\\\CSUEB\\\\lynne\\\\DataSet_NPY\\\\Walking\\\\walking (75).npy', 'D:\\\\CSUEB\\\\lynne\\\\DataSet_NPY\\\\Walking\\\\walking (190).npy', 'D:\\\\CSUEB\\\\lynne\\\\DataSet_NPY\\\\Walking\\\\walking (285).npy', 'D:\\\\CSUEB\\\\lynne\\\\DataSet_NPY\\\\Walking\\\\walking (44).npy', 'D:\\\\CSUEB\\\\lynne\\\\DataSet_NPY\\\\Walking\\\\walking (764).npy', 'D:\\\\CSUEB\\\\lynne\\\\DataSet_NPY\\\\Walking\\\\walking (329).npy', 'D:\\\\CSUEB\\\\lynne\\\\DataSet_NPY\\\\Walking\\\\walking (428).npy', 'D:\\\\CSUEB\\\\lynne\\\\DataSet_NPY\\\\Walking\\\\walking (447).npy', 'D:\\\\CSUEB\\\\lynne\\\\DataSet_NPY\\\\Walking\\\\walking (826).npy', 'D:\\\\CSUEB\\\\lynne\\\\DataSet_NPY\\\\Walking\\\\walking (296).npy', 'D:\\\\CSUEB\\\\lynne\\\\DataSet_NPY\\\\Walking\\\\walking (301).npy', 'D:\\\\CSUEB\\\\lynne\\\\DataSet_NPY\\\\Walking\\\\walking (672).npy', 'D:\\\\CSUEB\\\\lynne\\\\DataSet_NPY\\\\Walking\\\\walking (263).npy', 'D:\\\\CSUEB\\\\lynne\\\\DataSet_NPY\\\\Walking\\\\walking (892).npy', 'D:\\\\CSUEB\\\\lynne\\\\DataSet_NPY\\\\Walking\\\\walking (244).npy', 'D:\\\\CSUEB\\\\lynne\\\\DataSet_NPY\\\\Walking\\\\walking (900).npy', 'D:\\\\CSUEB\\\\lynne\\\\DataSet_NPY\\\\Walking\\\\walking (401).npy', 'D:\\\\CSUEB\\\\lynne\\\\DataSet_NPY\\\\Walking\\\\walking (846).npy', 'D:\\\\CSUEB\\\\lynne\\\\DataSet_NPY\\\\Walking\\\\walking (678).npy', 'D:\\\\CSUEB\\\\lynne\\\\DataSet_NPY\\\\Walking\\\\walking (204).npy', 'D:\\\\CSUEB\\\\lynne\\\\DataSet_NPY\\\\Walking\\\\walking (201).npy', 'D:\\\\CSUEB\\\\lynne\\\\DataSet_NPY\\\\Walking\\\\walking (598).npy', 'D:\\\\CSUEB\\\\lynne\\\\DataSet_NPY\\\\Walking\\\\walking (236).npy', 'D:\\\\CSUEB\\\\lynne\\\\DataSet_NPY\\\\Walking\\\\walking (370).npy', 'D:\\\\CSUEB\\\\lynne\\\\DataSet_NPY\\\\Walking\\\\walking (591).npy', 'D:\\\\CSUEB\\\\lynne\\\\DataSet_NPY\\\\Walking\\\\walking (988).npy', 'D:\\\\CSUEB\\\\lynne\\\\DataSet_NPY\\\\Walking\\\\walking (502).npy', 'D:\\\\CSUEB\\\\lynne\\\\DataSet_NPY\\\\Walking\\\\walking (159).npy', 'D:\\\\CSUEB\\\\lynne\\\\DataSet_NPY\\\\Walking\\\\walking (863).npy', 'D:\\\\CSUEB\\\\lynne\\\\DataSet_NPY\\\\Walking\\\\walking (225).npy', 'D:\\\\CSUEB\\\\lynne\\\\DataSet_NPY\\\\Walking\\\\walking (534).npy', 'D:\\\\CSUEB\\\\lynne\\\\DataSet_NPY\\\\Walking\\\\walking (67).npy', 'D:\\\\CSUEB\\\\lynne\\\\DataSet_NPY\\\\Walking\\\\walking (546).npy', 'D:\\\\CSUEB\\\\lynne\\\\DataSet_NPY\\\\Walking\\\\walking (124).npy', 'D:\\\\CSUEB\\\\lynne\\\\DataSet_NPY\\\\Walking\\\\walking (908).npy', 'D:\\\\CSUEB\\\\lynne\\\\DataSet_NPY\\\\Walking\\\\walking (1120).npy', 'D:\\\\CSUEB\\\\lynne\\\\DataSet_NPY\\\\Walking\\\\walking (811).npy', 'D:\\\\CSUEB\\\\lynne\\\\DataSet_NPY\\\\Walking\\\\walking (148).npy', 'D:\\\\CSUEB\\\\lynne\\\\DataSet_NPY\\\\Walking\\\\walking (68).npy', 'D:\\\\CSUEB\\\\lynne\\\\DataSet_NPY\\\\Walking\\\\walking (1084).npy', 'D:\\\\CSUEB\\\\lynne\\\\DataSet_NPY\\\\Walking\\\\walking (430).npy', 'D:\\\\CSUEB\\\\lynne\\\\DataSet_NPY\\\\Walking\\\\walking (870).npy', 'D:\\\\CSUEB\\\\lynne\\\\DataSet_NPY\\\\Walking\\\\walking (287).npy', 'D:\\\\CSUEB\\\\lynne\\\\DataSet_NPY\\\\Walking\\\\walking (593).npy', 'D:\\\\CSUEB\\\\lynne\\\\DataSet_NPY\\\\Walking\\\\walking (109).npy', 'D:\\\\CSUEB\\\\lynne\\\\DataSet_NPY\\\\Walking\\\\walking (780).npy', 'D:\\\\CSUEB\\\\lynne\\\\DataSet_NPY\\\\Walking\\\\walking (264).npy', 'D:\\\\CSUEB\\\\lynne\\\\DataSet_NPY\\\\Walking\\\\walking (905).npy', 'D:\\\\CSUEB\\\\lynne\\\\DataSet_NPY\\\\Walking\\\\walking (528).npy', 'D:\\\\CSUEB\\\\lynne\\\\DataSet_NPY\\\\Walking\\\\walking (16).npy', 'D:\\\\CSUEB\\\\lynne\\\\DataSet_NPY\\\\Walking\\\\walking (878).npy', 'D:\\\\CSUEB\\\\lynne\\\\DataSet_NPY\\\\Walking\\\\walking (321).npy', 'D:\\\\CSUEB\\\\lynne\\\\DataSet_NPY\\\\Walking\\\\walking (339).npy', 'D:\\\\CSUEB\\\\lynne\\\\DataSet_NPY\\\\Walking\\\\walking (1075).npy', 'D:\\\\CSUEB\\\\lynne\\\\DataSet_NPY\\\\Walking\\\\walking (848).npy', 'D:\\\\CSUEB\\\\lynne\\\\DataSet_NPY\\\\Walking\\\\walking (615).npy', 'D:\\\\CSUEB\\\\lynne\\\\DataSet_NPY\\\\Walking\\\\walking (62).npy', 'D:\\\\CSUEB\\\\lynne\\\\DataSet_NPY\\\\Walking\\\\walking (865).npy', 'D:\\\\CSUEB\\\\lynne\\\\DataSet_NPY\\\\Walking\\\\walking (828).npy', 'D:\\\\CSUEB\\\\lynne\\\\DataSet_NPY\\\\Walking\\\\walking (42).npy', 'D:\\\\CSUEB\\\\lynne\\\\DataSet_NPY\\\\Walking\\\\walking (540).npy', 'D:\\\\CSUEB\\\\lynne\\\\DataSet_NPY\\\\Walking\\\\walking (748).npy', 'D:\\\\CSUEB\\\\lynne\\\\DataSet_NPY\\\\Walking\\\\walking (371).npy', 'D:\\\\CSUEB\\\\lynne\\\\DataSet_NPY\\\\Walking\\\\walking (309).npy', 'D:\\\\CSUEB\\\\lynne\\\\DataSet_NPY\\\\Walking\\\\walking (616).npy', 'D:\\\\CSUEB\\\\lynne\\\\DataSet_NPY\\\\Walking\\\\walking (224).npy', 'D:\\\\CSUEB\\\\lynne\\\\DataSet_NPY\\\\Walking\\\\walking (419).npy', 'D:\\\\CSUEB\\\\lynne\\\\DataSet_NPY\\\\Walking\\\\walking (858).npy', 'D:\\\\CSUEB\\\\lynne\\\\DataSet_NPY\\\\Walking\\\\walking (37).npy', 'D:\\\\CSUEB\\\\lynne\\\\DataSet_NPY\\\\Walking\\\\walking (818).npy', 'D:\\\\CSUEB\\\\lynne\\\\DataSet_NPY\\\\Walking\\\\walking (314).npy', 'D:\\\\CSUEB\\\\lynne\\\\DataSet_NPY\\\\Walking\\\\walking (514).npy', 'D:\\\\CSUEB\\\\lynne\\\\DataSet_NPY\\\\Walking\\\\walking (61).npy', 'D:\\\\CSUEB\\\\lynne\\\\DataSet_NPY\\\\Walking\\\\walking (284).npy', 'D:\\\\CSUEB\\\\lynne\\\\DataSet_NPY\\\\Walking\\\\walking (193).npy', 'D:\\\\CSUEB\\\\lynne\\\\DataSet_NPY\\\\Walking\\\\walking (843).npy', 'D:\\\\CSUEB\\\\lynne\\\\DataSet_NPY\\\\Walking\\\\walking (588).npy', 'D:\\\\CSUEB\\\\lynne\\\\DataSet_NPY\\\\Walking\\\\walking (283).npy', 'D:\\\\CSUEB\\\\lynne\\\\DataSet_NPY\\\\Walking\\\\walking (1083).npy', 'D:\\\\CSUEB\\\\lynne\\\\DataSet_NPY\\\\Walking\\\\walking (346).npy', 'D:\\\\CSUEB\\\\lynne\\\\DataSet_NPY\\\\Walking\\\\walking (496).npy', 'D:\\\\CSUEB\\\\lynne\\\\DataSet_NPY\\\\Walking\\\\walking (71).npy', 'D:\\\\CSUEB\\\\lynne\\\\DataSet_NPY\\\\Walking\\\\walking (66).npy', 'D:\\\\CSUEB\\\\lynne\\\\DataSet_NPY\\\\Walking\\\\walking (412).npy', 'D:\\\\CSUEB\\\\lynne\\\\DataSet_NPY\\\\Walking\\\\walking (112).npy', 'D:\\\\CSUEB\\\\lynne\\\\DataSet_NPY\\\\Walking\\\\walking (1126).npy', 'D:\\\\CSUEB\\\\lynne\\\\DataSet_NPY\\\\Walking\\\\walking (323).npy', 'D:\\\\CSUEB\\\\lynne\\\\DataSet_NPY\\\\Walking\\\\walking (761).npy', 'D:\\\\CSUEB\\\\lynne\\\\DataSet_NPY\\\\Walking\\\\walking (83).npy', 'D:\\\\CSUEB\\\\lynne\\\\DataSet_NPY\\\\Walking\\\\walking (134).npy', 'D:\\\\CSUEB\\\\lynne\\\\DataSet_NPY\\\\Walking\\\\walking (182).npy', 'D:\\\\CSUEB\\\\lynne\\\\DataSet_NPY\\\\Walking\\\\walking (443).npy', 'D:\\\\CSUEB\\\\lynne\\\\DataSet_NPY\\\\Walking\\\\walking (1094).npy', 'D:\\\\CSUEB\\\\lynne\\\\DataSet_NPY\\\\Walking\\\\walking (11).npy', 'D:\\\\CSUEB\\\\lynne\\\\DataSet_NPY\\\\Walking\\\\walking (573).npy', 'D:\\\\CSUEB\\\\lynne\\\\DataSet_NPY\\\\Walking\\\\walking (630).npy', 'D:\\\\CSUEB\\\\lynne\\\\DataSet_NPY\\\\Walking\\\\walking (728).npy', 'D:\\\\CSUEB\\\\lynne\\\\DataSet_NPY\\\\Walking\\\\walking (970).npy', 'D:\\\\CSUEB\\\\lynne\\\\DataSet_NPY\\\\Walking\\\\walking (1141).npy', 'D:\\\\CSUEB\\\\lynne\\\\DataSet_NPY\\\\Walking\\\\walking (164).npy', 'D:\\\\CSUEB\\\\lynne\\\\DataSet_NPY\\\\Walking\\\\walking (966).npy', 'D:\\\\CSUEB\\\\lynne\\\\DataSet_NPY\\\\Walking\\\\walking (403).npy', 'D:\\\\CSUEB\\\\lynne\\\\DataSet_NPY\\\\Walking\\\\walking (194).npy', 'D:\\\\CSUEB\\\\lynne\\\\DataSet_NPY\\\\Walking\\\\walking (155).npy', 'D:\\\\CSUEB\\\\lynne\\\\DataSet_NPY\\\\Walking\\\\walking (1096).npy', 'D:\\\\CSUEB\\\\lynne\\\\DataSet_NPY\\\\Walking\\\\walking (81).npy', 'D:\\\\CSUEB\\\\lynne\\\\DataSet_NPY\\\\Walking\\\\walking (688).npy', 'D:\\\\CSUEB\\\\lynne\\\\DataSet_NPY\\\\Walking\\\\walking (13).npy', 'D:\\\\CSUEB\\\\lynne\\\\DataSet_NPY\\\\Walking\\\\walking (525).npy', 'D:\\\\CSUEB\\\\lynne\\\\DataSet_NPY\\\\Walking\\\\walking (845).npy', 'D:\\\\CSUEB\\\\lynne\\\\DataSet_NPY\\\\Walking\\\\walking (1058).npy', 'D:\\\\CSUEB\\\\lynne\\\\DataSet_NPY\\\\Walking\\\\walking (677).npy', 'D:\\\\CSUEB\\\\lynne\\\\DataSet_NPY\\\\Walking\\\\walking (444).npy', 'D:\\\\CSUEB\\\\lynne\\\\DataSet_NPY\\\\Walking\\\\walking (77).npy', 'D:\\\\CSUEB\\\\lynne\\\\DataSet_NPY\\\\Walking\\\\walking (408).npy', 'D:\\\\CSUEB\\\\lynne\\\\DataSet_NPY\\\\Walking\\\\walking (60).npy', 'D:\\\\CSUEB\\\\lynne\\\\DataSet_NPY\\\\Walking\\\\walking (172).npy', 'D:\\\\CSUEB\\\\lynne\\\\DataSet_NPY\\\\Walking\\\\walking (1134).npy', 'D:\\\\CSUEB\\\\lynne\\\\DataSet_NPY\\\\Walking\\\\walking (427).npy', 'D:\\\\CSUEB\\\\lynne\\\\DataSet_NPY\\\\Walking\\\\walking (644).npy', 'D:\\\\CSUEB\\\\lynne\\\\DataSet_NPY\\\\Walking\\\\walking (1068).npy', 'D:\\\\CSUEB\\\\lynne\\\\DataSet_NPY\\\\Walking\\\\walking (46).npy', 'D:\\\\CSUEB\\\\lynne\\\\DataSet_NPY\\\\Walking\\\\walking (597).npy', 'D:\\\\CSUEB\\\\lynne\\\\DataSet_NPY\\\\Walking\\\\walking (393).npy', 'D:\\\\CSUEB\\\\lynne\\\\DataSet_NPY\\\\Walking\\\\walking (343).npy', 'D:\\\\CSUEB\\\\lynne\\\\DataSet_NPY\\\\Walking\\\\walking (32).npy', 'D:\\\\CSUEB\\\\lynne\\\\DataSet_NPY\\\\Walking\\\\walking (983).npy', 'D:\\\\CSUEB\\\\lynne\\\\DataSet_NPY\\\\Walking\\\\walking (798).npy', 'D:\\\\CSUEB\\\\lynne\\\\DataSet_NPY\\\\Walking\\\\walking (65).npy', 'D:\\\\CSUEB\\\\lynne\\\\DataSet_NPY\\\\Walking\\\\walking (542).npy', 'D:\\\\CSUEB\\\\lynne\\\\DataSet_NPY\\\\Walking\\\\walking (411).npy', 'D:\\\\CSUEB\\\\lynne\\\\DataSet_NPY\\\\Walking\\\\walking (1062).npy', 'D:\\\\CSUEB\\\\lynne\\\\DataSet_NPY\\\\Walking\\\\walking (255).npy', 'D:\\\\CSUEB\\\\lynne\\\\DataSet_NPY\\\\Walking\\\\walking (885).npy', 'D:\\\\CSUEB\\\\lynne\\\\DataSet_NPY\\\\Walking\\\\walking (520).npy', 'D:\\\\CSUEB\\\\lynne\\\\DataSet_NPY\\\\Walking\\\\walking (233).npy', 'D:\\\\CSUEB\\\\lynne\\\\DataSet_NPY\\\\Walking\\\\walking (1079).npy', 'D:\\\\CSUEB\\\\lynne\\\\DataSet_NPY\\\\Walking\\\\walking (1147).npy', 'D:\\\\CSUEB\\\\lynne\\\\DataSet_NPY\\\\Walking\\\\walking (478).npy', 'D:\\\\CSUEB\\\\lynne\\\\DataSet_NPY\\\\Walking\\\\walking (200).npy', 'D:\\\\CSUEB\\\\lynne\\\\DataSet_NPY\\\\Walking\\\\walking (689).npy', 'D:\\\\CSUEB\\\\lynne\\\\DataSet_NPY\\\\Walking\\\\walking (1137).npy', 'D:\\\\CSUEB\\\\lynne\\\\DataSet_NPY\\\\Walking\\\\walking (629).npy', 'D:\\\\CSUEB\\\\lynne\\\\DataSet_NPY\\\\Walking\\\\walking (696).npy', 'D:\\\\CSUEB\\\\lynne\\\\DataSet_NPY\\\\Walking\\\\walking (839).npy', 'D:\\\\CSUEB\\\\lynne\\\\DataSet_NPY\\\\Walking\\\\walking (770).npy', 'D:\\\\CSUEB\\\\lynne\\\\DataSet_NPY\\\\Walking\\\\walking (918).npy', 'D:\\\\CSUEB\\\\lynne\\\\DataSet_NPY\\\\Walking\\\\walking (48).npy', 'D:\\\\CSUEB\\\\lynne\\\\DataSet_NPY\\\\Walking\\\\walking (524).npy', 'D:\\\\CSUEB\\\\lynne\\\\DataSet_NPY\\\\Walking\\\\walking (544).npy', 'D:\\\\CSUEB\\\\lynne\\\\DataSet_NPY\\\\Walking\\\\walking (288).npy', 'D:\\\\CSUEB\\\\lynne\\\\DataSet_NPY\\\\Walking\\\\walking (354).npy', 'D:\\\\CSUEB\\\\lynne\\\\DataSet_NPY\\\\Walking\\\\walking (99).npy', 'D:\\\\CSUEB\\\\lynne\\\\DataSet_NPY\\\\Walking\\\\walking (452).npy', 'D:\\\\CSUEB\\\\lynne\\\\DataSet_NPY\\\\Walking\\\\walking (855).npy', 'D:\\\\CSUEB\\\\lynne\\\\DataSet_NPY\\\\Walking\\\\walking (679).npy', 'D:\\\\CSUEB\\\\lynne\\\\DataSet_NPY\\\\Walking\\\\walking (906).npy', 'D:\\\\CSUEB\\\\lynne\\\\DataSet_NPY\\\\Walking\\\\walking (719).npy', 'D:\\\\CSUEB\\\\lynne\\\\DataSet_NPY\\\\Walking\\\\walking (833).npy', 'D:\\\\CSUEB\\\\lynne\\\\DataSet_NPY\\\\Walking\\\\walking (532).npy', 'D:\\\\CSUEB\\\\lynne\\\\DataSet_NPY\\\\Walking\\\\walking (375).npy', 'D:\\\\CSUEB\\\\lynne\\\\DataSet_NPY\\\\Walking\\\\walking (910).npy', 'D:\\\\CSUEB\\\\lynne\\\\DataSet_NPY\\\\Walking\\\\walking (1118).npy', 'D:\\\\CSUEB\\\\lynne\\\\DataSet_NPY\\\\Walking\\\\walking (176).npy', 'D:\\\\CSUEB\\\\lynne\\\\DataSet_NPY\\\\Walking\\\\walking (292).npy', 'D:\\\\CSUEB\\\\lynne\\\\DataSet_NPY\\\\Walking\\\\walking (1114).npy', 'D:\\\\CSUEB\\\\lynne\\\\DataSet_NPY\\\\Walking\\\\walking (348).npy', 'D:\\\\CSUEB\\\\lynne\\\\DataSet_NPY\\\\Walking\\\\walking (383).npy', 'D:\\\\CSUEB\\\\lynne\\\\DataSet_NPY\\\\Walking\\\\walking (310).npy', 'D:\\\\CSUEB\\\\lynne\\\\DataSet_NPY\\\\Walking\\\\walking (729).npy', 'D:\\\\CSUEB\\\\lynne\\\\DataSet_NPY\\\\Walking\\\\walking (555).npy', 'D:\\\\CSUEB\\\\lynne\\\\DataSet_NPY\\\\Walking\\\\walking (941).npy', 'D:\\\\CSUEB\\\\lynne\\\\DataSet_NPY\\\\Walking\\\\walking (122).npy', 'D:\\\\CSUEB\\\\lynne\\\\DataSet_NPY\\\\Walking\\\\walking (157).npy', 'D:\\\\CSUEB\\\\lynne\\\\DataSet_NPY\\\\Walking\\\\walking (450).npy', 'D:\\\\CSUEB\\\\lynne\\\\DataSet_NPY\\\\Walking\\\\walking (364).npy', 'D:\\\\CSUEB\\\\lynne\\\\DataSet_NPY\\\\Walking\\\\walking (844).npy', 'D:\\\\CSUEB\\\\lynne\\\\DataSet_NPY\\\\Walking\\\\walking (38).npy', 'D:\\\\CSUEB\\\\lynne\\\\DataSet_NPY\\\\Walking\\\\walking (119).npy', 'D:\\\\CSUEB\\\\lynne\\\\DataSet_NPY\\\\Walking\\\\walking (208).npy', 'D:\\\\CSUEB\\\\lynne\\\\DataSet_NPY\\\\Walking\\\\walking (861).npy', 'D:\\\\CSUEB\\\\lynne\\\\DataSet_NPY\\\\Walking\\\\walking (585).npy', 'D:\\\\CSUEB\\\\lynne\\\\DataSet_NPY\\\\Walking\\\\walking (625).npy', 'D:\\\\CSUEB\\\\lynne\\\\DataSet_NPY\\\\Walking\\\\walking (628).npy', 'D:\\\\CSUEB\\\\lynne\\\\DataSet_NPY\\\\Walking\\\\walking (5).npy', 'D:\\\\CSUEB\\\\lynne\\\\DataSet_NPY\\\\Walking\\\\walking (286).npy', 'D:\\\\CSUEB\\\\lynne\\\\DataSet_NPY\\\\Walking\\\\walking (254).npy', 'D:\\\\CSUEB\\\\lynne\\\\DataSet_NPY\\\\Falling\\\\Img 4174-95.npy']\n"
     ]
    }
   ],
   "source": [
    "print(train_list)"
   ]
  },
  {
   "cell_type": "code",
   "execution_count": 13,
   "metadata": {
    "scrolled": true
   },
   "outputs": [
    {
     "name": "stdout",
     "output_type": "stream",
     "text": [
      "['D:\\\\CSUEB\\\\lynne\\\\DataSet_NPY\\\\Falling\\\\Img 2927-9.npy', 'D:\\\\CSUEB\\\\lynne\\\\DataSet_NPY\\\\Falling\\\\Img 4125-62.npy', 'D:\\\\CSUEB\\\\lynne\\\\DataSet_NPY\\\\Falling\\\\Img 4166-89.npy', 'D:\\\\CSUEB\\\\lynne\\\\DataSet_NPY\\\\Falling\\\\Img 4184-101.npy', 'D:\\\\CSUEB\\\\lynne\\\\DataSet_NPY\\\\Falling\\\\Img 4120-59.npy', 'D:\\\\CSUEB\\\\lynne\\\\DataSet_NPY\\\\Falling\\\\Img 4121-60.npy', 'D:\\\\CSUEB\\\\lynne\\\\DataSet_NPY\\\\Falling\\\\Img 4180-98.npy', 'D:\\\\CSUEB\\\\lynne\\\\DataSet_NPY\\\\Falling\\\\Img 4225-131.npy', 'D:\\\\CSUEB\\\\lynne\\\\DataSet_NPY\\\\Falling\\\\Img 4191-106.npy', 'D:\\\\CSUEB\\\\lynne\\\\DataSet_NPY\\\\Falling\\\\Img 4193-107.npy', 'D:\\\\CSUEB\\\\lynne\\\\DataSet_NPY\\\\Falling\\\\Img 4226-132.npy', 'D:\\\\CSUEB\\\\lynne\\\\DataSet_NPY\\\\Falling\\\\Img 2952-24.npy', 'D:\\\\CSUEB\\\\lynne\\\\DataSet_NPY\\\\Falling\\\\Img 2949-23.npy', 'D:\\\\CSUEB\\\\lynne\\\\DataSet_NPY\\\\Walking\\\\walking (537).npy', 'D:\\\\CSUEB\\\\lynne\\\\DataSet_NPY\\\\Walking\\\\walking (569).npy', 'D:\\\\CSUEB\\\\lynne\\\\DataSet_NPY\\\\Walking\\\\walking (926).npy', 'D:\\\\CSUEB\\\\lynne\\\\DataSet_NPY\\\\Walking\\\\walking (1131).npy', 'D:\\\\CSUEB\\\\lynne\\\\DataSet_NPY\\\\Walking\\\\walking (928).npy', 'D:\\\\CSUEB\\\\lynne\\\\DataSet_NPY\\\\Walking\\\\walking (606).npy', 'D:\\\\CSUEB\\\\lynne\\\\DataSet_NPY\\\\Walking\\\\walking (652).npy', 'D:\\\\CSUEB\\\\lynne\\\\DataSet_NPY\\\\Walking\\\\walking (948).npy', 'D:\\\\CSUEB\\\\lynne\\\\DataSet_NPY\\\\Walking\\\\walking (768).npy', 'D:\\\\CSUEB\\\\lynne\\\\DataSet_NPY\\\\Walking\\\\walking (700).npy', 'D:\\\\CSUEB\\\\lynne\\\\DataSet_NPY\\\\Walking\\\\walking (674).npy', 'D:\\\\CSUEB\\\\lynne\\\\DataSet_NPY\\\\Walking\\\\walking (671).npy', 'D:\\\\CSUEB\\\\lynne\\\\DataSet_NPY\\\\Walking\\\\walking (813).npy', 'D:\\\\CSUEB\\\\lynne\\\\DataSet_NPY\\\\Walking\\\\walking (725).npy', 'D:\\\\CSUEB\\\\lynne\\\\DataSet_NPY\\\\Walking\\\\walking (326).npy', 'D:\\\\CSUEB\\\\lynne\\\\DataSet_NPY\\\\Walking\\\\walking (446).npy', 'D:\\\\CSUEB\\\\lynne\\\\DataSet_NPY\\\\Walking\\\\walking (1111).npy', 'D:\\\\CSUEB\\\\lynne\\\\DataSet_NPY\\\\Walking\\\\walking (553).npy', 'D:\\\\CSUEB\\\\lynne\\\\DataSet_NPY\\\\Walking\\\\walking (206).npy', 'D:\\\\CSUEB\\\\lynne\\\\DataSet_NPY\\\\Walking\\\\walking (158).npy', 'D:\\\\CSUEB\\\\lynne\\\\DataSet_NPY\\\\Walking\\\\walking (261).npy', 'D:\\\\CSUEB\\\\lynne\\\\DataSet_NPY\\\\Walking\\\\walking (493).npy', 'D:\\\\CSUEB\\\\lynne\\\\DataSet_NPY\\\\Walking\\\\walking (984).npy', 'D:\\\\CSUEB\\\\lynne\\\\DataSet_NPY\\\\Walking\\\\walking (716).npy', 'D:\\\\CSUEB\\\\lynne\\\\DataSet_NPY\\\\Walking\\\\walking (475).npy', 'D:\\\\CSUEB\\\\lynne\\\\DataSet_NPY\\\\Walking\\\\walking (657).npy', 'D:\\\\CSUEB\\\\lynne\\\\DataSet_NPY\\\\Walking\\\\walking (469).npy', 'D:\\\\CSUEB\\\\lynne\\\\DataSet_NPY\\\\Walking\\\\walking (27).npy', 'D:\\\\CSUEB\\\\lynne\\\\DataSet_NPY\\\\Walking\\\\walking (8).npy', 'D:\\\\CSUEB\\\\lynne\\\\DataSet_NPY\\\\Walking\\\\walking (549).npy', 'D:\\\\CSUEB\\\\lynne\\\\DataSet_NPY\\\\Walking\\\\walking (242).npy', 'D:\\\\CSUEB\\\\lynne\\\\DataSet_NPY\\\\Walking\\\\walking (116).npy', 'D:\\\\CSUEB\\\\lynne\\\\DataSet_NPY\\\\Walking\\\\walking (490).npy', 'D:\\\\CSUEB\\\\lynne\\\\DataSet_NPY\\\\Walking\\\\walking (179).npy', 'D:\\\\CSUEB\\\\lynne\\\\DataSet_NPY\\\\Walking\\\\walking (333).npy', 'D:\\\\CSUEB\\\\lynne\\\\DataSet_NPY\\\\Walking\\\\walking (313).npy', 'D:\\\\CSUEB\\\\lynne\\\\DataSet_NPY\\\\Walking\\\\walking (460).npy', 'D:\\\\CSUEB\\\\lynne\\\\DataSet_NPY\\\\Walking\\\\walking (115).npy', 'D:\\\\CSUEB\\\\lynne\\\\DataSet_NPY\\\\Walking\\\\walking (87).npy', 'D:\\\\CSUEB\\\\lynne\\\\DataSet_NPY\\\\Walking\\\\walking (219).npy', 'D:\\\\CSUEB\\\\lynne\\\\DataSet_NPY\\\\Walking\\\\walking (723).npy', 'D:\\\\CSUEB\\\\lynne\\\\DataSet_NPY\\\\Walking\\\\walking (28).npy', 'D:\\\\CSUEB\\\\lynne\\\\DataSet_NPY\\\\Walking\\\\walking (1133).npy', 'D:\\\\CSUEB\\\\lynne\\\\DataSet_NPY\\\\Walking\\\\walking (951).npy', 'D:\\\\CSUEB\\\\lynne\\\\DataSet_NPY\\\\Walking\\\\walking (290).npy', 'D:\\\\CSUEB\\\\lynne\\\\DataSet_NPY\\\\Walking\\\\walking (277).npy', 'D:\\\\CSUEB\\\\lynne\\\\DataSet_NPY\\\\Walking\\\\walking (799).npy', 'D:\\\\CSUEB\\\\lynne\\\\DataSet_NPY\\\\Walking\\\\walking (74).npy', 'D:\\\\CSUEB\\\\lynne\\\\DataSet_NPY\\\\Walking\\\\walking (891).npy', 'D:\\\\CSUEB\\\\lynne\\\\DataSet_NPY\\\\Walking\\\\walking (424).npy', 'D:\\\\CSUEB\\\\lynne\\\\DataSet_NPY\\\\Walking\\\\walking (512).npy', 'D:\\\\CSUEB\\\\lynne\\\\DataSet_NPY\\\\Walking\\\\walking (103).npy', 'D:\\\\CSUEB\\\\lynne\\\\DataSet_NPY\\\\Walking\\\\walking (682).npy', 'D:\\\\CSUEB\\\\lynne\\\\DataSet_NPY\\\\Walking\\\\walking (827).npy', 'D:\\\\CSUEB\\\\lynne\\\\DataSet_NPY\\\\Walking\\\\walking (9).npy', 'D:\\\\CSUEB\\\\lynne\\\\DataSet_NPY\\\\Walking\\\\walking (1107).npy', 'D:\\\\CSUEB\\\\lynne\\\\DataSet_NPY\\\\Walking\\\\walking (63).npy', 'D:\\\\CSUEB\\\\lynne\\\\DataSet_NPY\\\\Walking\\\\walking (1092).npy', 'D:\\\\CSUEB\\\\lynne\\\\DataSet_NPY\\\\Walking\\\\walking (961).npy', 'D:\\\\CSUEB\\\\lynne\\\\DataSet_NPY\\\\Walking\\\\walking (707).npy', 'D:\\\\CSUEB\\\\lynne\\\\DataSet_NPY\\\\Walking\\\\walking (739).npy', 'D:\\\\CSUEB\\\\lynne\\\\DataSet_NPY\\\\Walking\\\\walking (786).npy', 'D:\\\\CSUEB\\\\lynne\\\\DataSet_NPY\\\\Walking\\\\walking (676).npy', 'D:\\\\CSUEB\\\\lynne\\\\DataSet_NPY\\\\Walking\\\\walking (557).npy', 'D:\\\\CSUEB\\\\lynne\\\\DataSet_NPY\\\\Walking\\\\walking (943).npy', 'D:\\\\CSUEB\\\\lynne\\\\DataSet_NPY\\\\Walking\\\\walking (49).npy', 'D:\\\\CSUEB\\\\lynne\\\\DataSet_NPY\\\\Walking\\\\walking (483).npy', 'D:\\\\CSUEB\\\\lynne\\\\DataSet_NPY\\\\Walking\\\\walking (558).npy', 'D:\\\\CSUEB\\\\lynne\\\\DataSet_NPY\\\\Walking\\\\walking (279).npy', 'D:\\\\CSUEB\\\\lynne\\\\DataSet_NPY\\\\Walking\\\\walking (556).npy', 'D:\\\\CSUEB\\\\lynne\\\\DataSet_NPY\\\\Walking\\\\walking (429).npy', 'D:\\\\CSUEB\\\\lynne\\\\DataSet_NPY\\\\Walking\\\\walking (548).npy', 'D:\\\\CSUEB\\\\lynne\\\\DataSet_NPY\\\\Walking\\\\walking (1099).npy', 'D:\\\\CSUEB\\\\lynne\\\\DataSet_NPY\\\\Walking\\\\walking (742).npy', 'D:\\\\CSUEB\\\\lynne\\\\DataSet_NPY\\\\Walking\\\\walking (751).npy', 'D:\\\\CSUEB\\\\lynne\\\\DataSet_NPY\\\\Walking\\\\walking (895).npy', 'D:\\\\CSUEB\\\\lynne\\\\DataSet_NPY\\\\Walking\\\\walking (500).npy', 'D:\\\\CSUEB\\\\lynne\\\\DataSet_NPY\\\\Walking\\\\walking (763).npy', 'D:\\\\CSUEB\\\\lynne\\\\DataSet_NPY\\\\Walking\\\\walking (501).npy', 'D:\\\\CSUEB\\\\lynne\\\\DataSet_NPY\\\\Walking\\\\walking (731).npy', 'D:\\\\CSUEB\\\\lynne\\\\DataSet_NPY\\\\Walking\\\\walking (151).npy', 'D:\\\\CSUEB\\\\lynne\\\\DataSet_NPY\\\\Walking\\\\walking (978).npy', 'D:\\\\CSUEB\\\\lynne\\\\DataSet_NPY\\\\Walking\\\\walking (199).npy', 'D:\\\\CSUEB\\\\lynne\\\\DataSet_NPY\\\\Walking\\\\walking (167).npy', 'D:\\\\CSUEB\\\\lynne\\\\DataSet_NPY\\\\Walking\\\\walking (488).npy', 'D:\\\\CSUEB\\\\lynne\\\\DataSet_NPY\\\\Walking\\\\walking (710).npy', 'D:\\\\CSUEB\\\\lynne\\\\DataSet_NPY\\\\Walking\\\\walking (909).npy', 'D:\\\\CSUEB\\\\lynne\\\\DataSet_NPY\\\\Walking\\\\walking (562).npy', 'D:\\\\CSUEB\\\\lynne\\\\DataSet_NPY\\\\Walking\\\\walking (462).npy', 'D:\\\\CSUEB\\\\lynne\\\\DataSet_NPY\\\\Walking\\\\walking (690).npy', 'D:\\\\CSUEB\\\\lynne\\\\DataSet_NPY\\\\Walking\\\\walking (1061).npy', 'D:\\\\CSUEB\\\\lynne\\\\DataSet_NPY\\\\Walking\\\\walking (183).npy', 'D:\\\\CSUEB\\\\lynne\\\\DataSet_NPY\\\\Walking\\\\walking (924).npy', 'D:\\\\CSUEB\\\\lynne\\\\DataSet_NPY\\\\Walking\\\\walking (913).npy', 'D:\\\\CSUEB\\\\lynne\\\\DataSet_NPY\\\\Walking\\\\walking (253).npy', 'D:\\\\CSUEB\\\\lynne\\\\DataSet_NPY\\\\Walking\\\\walking (775).npy', 'D:\\\\CSUEB\\\\lynne\\\\DataSet_NPY\\\\Walking\\\\walking (793).npy', 'D:\\\\CSUEB\\\\lynne\\\\DataSet_NPY\\\\Walking\\\\walking (653).npy', 'D:\\\\CSUEB\\\\lynne\\\\DataSet_NPY\\\\Walking\\\\walking (923).npy', 'D:\\\\CSUEB\\\\lynne\\\\DataSet_NPY\\\\Walking\\\\walking (1115).npy', 'D:\\\\CSUEB\\\\lynne\\\\DataSet_NPY\\\\Walking\\\\walking (228).npy', 'D:\\\\CSUEB\\\\lynne\\\\DataSet_NPY\\\\Walking\\\\walking (1063).npy', 'D:\\\\CSUEB\\\\lynne\\\\DataSet_NPY\\\\Walking\\\\walking (494).npy', 'D:\\\\CSUEB\\\\lynne\\\\DataSet_NPY\\\\Walking\\\\walking (150).npy', 'D:\\\\CSUEB\\\\lynne\\\\DataSet_NPY\\\\Walking\\\\walking (523).npy', 'D:\\\\CSUEB\\\\lynne\\\\DataSet_NPY\\\\Walking\\\\walking (31).npy', 'D:\\\\CSUEB\\\\lynne\\\\DataSet_NPY\\\\Walking\\\\walking (539).npy', 'D:\\\\CSUEB\\\\lynne\\\\DataSet_NPY\\\\Walking\\\\walking (737).npy', 'D:\\\\CSUEB\\\\lynne\\\\DataSet_NPY\\\\Walking\\\\walking (743).npy']\n"
     ]
    }
   ],
   "source": [
    "print(valid_list)"
   ]
  },
  {
   "cell_type": "code",
   "execution_count": 14,
   "metadata": {},
   "outputs": [
    {
     "name": "stdout",
     "output_type": "stream",
     "text": [
      "['D:\\\\CSUEB\\\\lynne\\\\DataSet_NPY\\\\Falling\\\\Img 2915-1.npy', 'D:\\\\CSUEB\\\\lynne\\\\DataSet_NPY\\\\Falling\\\\Img 2933-12.npy', 'D:\\\\CSUEB\\\\lynne\\\\DataSet_NPY\\\\Falling\\\\Img 2934-13.npy', 'D:\\\\CSUEB\\\\lynne\\\\DataSet_NPY\\\\Falling\\\\Img 4100-41.npy', 'D:\\\\CSUEB\\\\lynne\\\\DataSet_NPY\\\\Falling\\\\Img 2923-5.npy', 'D:\\\\CSUEB\\\\lynne\\\\DataSet_NPY\\\\Falling\\\\Img 2940-16.npy', 'D:\\\\CSUEB\\\\lynne\\\\DataSet_NPY\\\\Falling\\\\Img 4105-45.npy', 'D:\\\\CSUEB\\\\lynne\\\\DataSet_NPY\\\\Falling\\\\Img 4167-90.npy', 'D:\\\\CSUEB\\\\lynne\\\\DataSet_NPY\\\\Falling\\\\Img 4107-47.npy', 'D:\\\\CSUEB\\\\lynne\\\\DataSet_NPY\\\\Falling\\\\Img 4198-112.npy', 'D:\\\\CSUEB\\\\lynne\\\\DataSet_NPY\\\\Falling\\\\Img 4161-85.npy', 'D:\\\\CSUEB\\\\lynne\\\\DataSet_NPY\\\\Falling\\\\Img 4149-80.npy', 'D:\\\\CSUEB\\\\lynne\\\\DataSet_NPY\\\\Falling\\\\Img 2925-7.npy', 'D:\\\\CSUEB\\\\lynne\\\\DataSet_NPY\\\\Walking\\\\walking (72).npy', 'D:\\\\CSUEB\\\\lynne\\\\DataSet_NPY\\\\Walking\\\\walking (841).npy', 'D:\\\\CSUEB\\\\lynne\\\\DataSet_NPY\\\\Walking\\\\walking (160).npy', 'D:\\\\CSUEB\\\\lynne\\\\DataSet_NPY\\\\Walking\\\\walking (746).npy', 'D:\\\\CSUEB\\\\lynne\\\\DataSet_NPY\\\\Walking\\\\walking (937).npy', 'D:\\\\CSUEB\\\\lynne\\\\DataSet_NPY\\\\Walking\\\\walking (1069).npy', 'D:\\\\CSUEB\\\\lynne\\\\DataSet_NPY\\\\Walking\\\\walking (226).npy', 'D:\\\\CSUEB\\\\lynne\\\\DataSet_NPY\\\\Walking\\\\walking (1085).npy', 'D:\\\\CSUEB\\\\lynne\\\\DataSet_NPY\\\\Walking\\\\walking (291).npy', 'D:\\\\CSUEB\\\\lynne\\\\DataSet_NPY\\\\Walking\\\\walking (175).npy', 'D:\\\\CSUEB\\\\lynne\\\\DataSet_NPY\\\\Walking\\\\walking (599).npy', 'D:\\\\CSUEB\\\\lynne\\\\DataSet_NPY\\\\Walking\\\\walking (198).npy', 'D:\\\\CSUEB\\\\lynne\\\\DataSet_NPY\\\\Walking\\\\walking (22).npy', 'D:\\\\CSUEB\\\\lynne\\\\DataSet_NPY\\\\Walking\\\\walking (202).npy', 'D:\\\\CSUEB\\\\lynne\\\\DataSet_NPY\\\\Walking\\\\walking (96).npy', 'D:\\\\CSUEB\\\\lynne\\\\DataSet_NPY\\\\Walking\\\\walking (830).npy', 'D:\\\\CSUEB\\\\lynne\\\\DataSet_NPY\\\\Walking\\\\walking (414).npy', 'D:\\\\CSUEB\\\\lynne\\\\DataSet_NPY\\\\Walking\\\\walking (1105).npy', 'D:\\\\CSUEB\\\\lynne\\\\DataSet_NPY\\\\Walking\\\\walking (380).npy', 'D:\\\\CSUEB\\\\lynne\\\\DataSet_NPY\\\\Walking\\\\walking (322).npy', 'D:\\\\CSUEB\\\\lynne\\\\DataSet_NPY\\\\Walking\\\\walking (636).npy', 'D:\\\\CSUEB\\\\lynne\\\\DataSet_NPY\\\\Walking\\\\walking (93).npy', 'D:\\\\CSUEB\\\\lynne\\\\DataSet_NPY\\\\Walking\\\\walking (433).npy', 'D:\\\\CSUEB\\\\lynne\\\\DataSet_NPY\\\\Walking\\\\walking (936).npy', 'D:\\\\CSUEB\\\\lynne\\\\DataSet_NPY\\\\Walking\\\\walking (617).npy', 'D:\\\\CSUEB\\\\lynne\\\\DataSet_NPY\\\\Walking\\\\walking (787).npy', 'D:\\\\CSUEB\\\\lynne\\\\DataSet_NPY\\\\Walking\\\\walking (47).npy', 'D:\\\\CSUEB\\\\lynne\\\\DataSet_NPY\\\\Walking\\\\walking (53).npy', 'D:\\\\CSUEB\\\\lynne\\\\DataSet_NPY\\\\Walking\\\\walking (823).npy', 'D:\\\\CSUEB\\\\lynne\\\\DataSet_NPY\\\\Walking\\\\walking (960).npy', 'D:\\\\CSUEB\\\\lynne\\\\DataSet_NPY\\\\Walking\\\\walking (126).npy', 'D:\\\\CSUEB\\\\lynne\\\\DataSet_NPY\\\\Walking\\\\walking (594).npy', 'D:\\\\CSUEB\\\\lynne\\\\DataSet_NPY\\\\Walking\\\\walking (223).npy', 'D:\\\\CSUEB\\\\lynne\\\\DataSet_NPY\\\\Walking\\\\walking (577).npy', 'D:\\\\CSUEB\\\\lynne\\\\DataSet_NPY\\\\Walking\\\\walking (789).npy', 'D:\\\\CSUEB\\\\lynne\\\\DataSet_NPY\\\\Walking\\\\walking (620).npy', 'D:\\\\CSUEB\\\\lynne\\\\DataSet_NPY\\\\Walking\\\\walking (227).npy', 'D:\\\\CSUEB\\\\lynne\\\\DataSet_NPY\\\\Walking\\\\walking (240).npy', 'D:\\\\CSUEB\\\\lynne\\\\DataSet_NPY\\\\Walking\\\\walking (145).npy', 'D:\\\\CSUEB\\\\lynne\\\\DataSet_NPY\\\\Walking\\\\walking (794).npy', 'D:\\\\CSUEB\\\\lynne\\\\DataSet_NPY\\\\Walking\\\\walking (621).npy', 'D:\\\\CSUEB\\\\lynne\\\\DataSet_NPY\\\\Walking\\\\walking (1103).npy', 'D:\\\\CSUEB\\\\lynne\\\\DataSet_NPY\\\\Walking\\\\walking (1081).npy', 'D:\\\\CSUEB\\\\lynne\\\\DataSet_NPY\\\\Walking\\\\walking (123).npy', 'D:\\\\CSUEB\\\\lynne\\\\DataSet_NPY\\\\Walking\\\\walking (378).npy', 'D:\\\\CSUEB\\\\lynne\\\\DataSet_NPY\\\\Walking\\\\walking (812).npy', 'D:\\\\CSUEB\\\\lynne\\\\DataSet_NPY\\\\Walking\\\\walking (131).npy', 'D:\\\\CSUEB\\\\lynne\\\\DataSet_NPY\\\\Walking\\\\walking (1136).npy', 'D:\\\\CSUEB\\\\lynne\\\\DataSet_NPY\\\\Walking\\\\walking (925).npy', 'D:\\\\CSUEB\\\\lynne\\\\DataSet_NPY\\\\Walking\\\\walking (626).npy', 'D:\\\\CSUEB\\\\lynne\\\\DataSet_NPY\\\\Walking\\\\walking (459).npy', 'D:\\\\CSUEB\\\\lynne\\\\DataSet_NPY\\\\Walking\\\\walking (474).npy', 'D:\\\\CSUEB\\\\lynne\\\\DataSet_NPY\\\\Walking\\\\walking (815).npy', 'D:\\\\CSUEB\\\\lynne\\\\DataSet_NPY\\\\Walking\\\\walking (377).npy', 'D:\\\\CSUEB\\\\lynne\\\\DataSet_NPY\\\\Walking\\\\walking (736).npy', 'D:\\\\CSUEB\\\\lynne\\\\DataSet_NPY\\\\Walking\\\\walking (762).npy', 'D:\\\\CSUEB\\\\lynne\\\\DataSet_NPY\\\\Walking\\\\walking (969).npy', 'D:\\\\CSUEB\\\\lynne\\\\DataSet_NPY\\\\Walking\\\\walking (210).npy', 'D:\\\\CSUEB\\\\lynne\\\\DataSet_NPY\\\\Walking\\\\walking (592).npy', 'D:\\\\CSUEB\\\\lynne\\\\DataSet_NPY\\\\Walking\\\\walking (191).npy', 'D:\\\\CSUEB\\\\lynne\\\\DataSet_NPY\\\\Walking\\\\walking (1121).npy', 'D:\\\\CSUEB\\\\lynne\\\\DataSet_NPY\\\\Walking\\\\walking (774).npy', 'D:\\\\CSUEB\\\\lynne\\\\DataSet_NPY\\\\Walking\\\\walking (372).npy', 'D:\\\\CSUEB\\\\lynne\\\\DataSet_NPY\\\\Walking\\\\walking (1098).npy', 'D:\\\\CSUEB\\\\lynne\\\\DataSet_NPY\\\\Walking\\\\walking (88).npy', 'D:\\\\CSUEB\\\\lynne\\\\DataSet_NPY\\\\Walking\\\\walking (994).npy', 'D:\\\\CSUEB\\\\lynne\\\\DataSet_NPY\\\\Walking\\\\walking (125).npy', 'D:\\\\CSUEB\\\\lynne\\\\DataSet_NPY\\\\Walking\\\\walking (2).npy', 'D:\\\\CSUEB\\\\lynne\\\\DataSet_NPY\\\\Walking\\\\walking (392).npy', 'D:\\\\CSUEB\\\\lynne\\\\DataSet_NPY\\\\Walking\\\\walking (987).npy', 'D:\\\\CSUEB\\\\lynne\\\\DataSet_NPY\\\\Walking\\\\walking (335).npy', 'D:\\\\CSUEB\\\\lynne\\\\DataSet_NPY\\\\Walking\\\\walking (20).npy', 'D:\\\\CSUEB\\\\lynne\\\\DataSet_NPY\\\\Walking\\\\walking (1057).npy', 'D:\\\\CSUEB\\\\lynne\\\\DataSet_NPY\\\\Walking\\\\walking (267).npy', 'D:\\\\CSUEB\\\\lynne\\\\DataSet_NPY\\\\Walking\\\\walking (268).npy', 'D:\\\\CSUEB\\\\lynne\\\\DataSet_NPY\\\\Walking\\\\walking (409).npy', 'D:\\\\CSUEB\\\\lynne\\\\DataSet_NPY\\\\Walking\\\\walking (901).npy', 'D:\\\\CSUEB\\\\lynne\\\\DataSet_NPY\\\\Walking\\\\walking (177).npy', 'D:\\\\CSUEB\\\\lynne\\\\DataSet_NPY\\\\Walking\\\\walking (1071).npy', 'D:\\\\CSUEB\\\\lynne\\\\DataSet_NPY\\\\Walking\\\\walking (991).npy', 'D:\\\\CSUEB\\\\lynne\\\\DataSet_NPY\\\\Walking\\\\walking (590).npy', 'D:\\\\CSUEB\\\\lynne\\\\DataSet_NPY\\\\Walking\\\\walking (480).npy', 'D:\\\\CSUEB\\\\lynne\\\\DataSet_NPY\\\\Walking\\\\walking (1064).npy', 'D:\\\\CSUEB\\\\lynne\\\\DataSet_NPY\\\\Walking\\\\walking (521).npy', 'D:\\\\CSUEB\\\\lynne\\\\DataSet_NPY\\\\Walking\\\\walking (98).npy', 'D:\\\\CSUEB\\\\lynne\\\\DataSet_NPY\\\\Walking\\\\walking (118).npy', 'D:\\\\CSUEB\\\\lynne\\\\DataSet_NPY\\\\Walking\\\\walking (275).npy', 'D:\\\\CSUEB\\\\lynne\\\\DataSet_NPY\\\\Walking\\\\walking (107).npy', 'D:\\\\CSUEB\\\\lynne\\\\DataSet_NPY\\\\Walking\\\\walking (1067).npy', 'D:\\\\CSUEB\\\\lynne\\\\DataSet_NPY\\\\Walking\\\\walking (379).npy', 'D:\\\\CSUEB\\\\lynne\\\\DataSet_NPY\\\\Walking\\\\walking (1088).npy', 'D:\\\\CSUEB\\\\lynne\\\\DataSet_NPY\\\\Walking\\\\walking (456).npy', 'D:\\\\CSUEB\\\\lynne\\\\DataSet_NPY\\\\Walking\\\\walking (363).npy', 'D:\\\\CSUEB\\\\lynne\\\\DataSet_NPY\\\\Walking\\\\walking (342).npy', 'D:\\\\CSUEB\\\\lynne\\\\DataSet_NPY\\\\Walking\\\\walking (394).npy', 'D:\\\\CSUEB\\\\lynne\\\\DataSet_NPY\\\\Walking\\\\walking (656).npy', 'D:\\\\CSUEB\\\\lynne\\\\DataSet_NPY\\\\Walking\\\\walking (132).npy', 'D:\\\\CSUEB\\\\lynne\\\\DataSet_NPY\\\\Walking\\\\walking (889).npy', 'D:\\\\CSUEB\\\\lynne\\\\DataSet_NPY\\\\Walking\\\\walking (133).npy', 'D:\\\\CSUEB\\\\lynne\\\\DataSet_NPY\\\\Walking\\\\walking (111).npy', 'D:\\\\CSUEB\\\\lynne\\\\DataSet_NPY\\\\Walking\\\\walking (45).npy', 'D:\\\\CSUEB\\\\lynne\\\\DataSet_NPY\\\\Walking\\\\walking (586).npy', 'D:\\\\CSUEB\\\\lynne\\\\DataSet_NPY\\\\Walking\\\\walking (26).npy', 'D:\\\\CSUEB\\\\lynne\\\\DataSet_NPY\\\\Walking\\\\walking (142).npy', 'D:\\\\CSUEB\\\\lynne\\\\DataSet_NPY\\\\Walking\\\\walking (720).npy', 'D:\\\\CSUEB\\\\lynne\\\\DataSet_NPY\\\\Walking\\\\walking (79).npy', 'D:\\\\CSUEB\\\\lynne\\\\DataSet_NPY\\\\Walking\\\\walking (140).npy', 'D:\\\\CSUEB\\\\lynne\\\\DataSet_NPY\\\\Walking\\\\walking (879).npy', 'D:\\\\CSUEB\\\\lynne\\\\DataSet_NPY\\\\Walking\\\\walking (650).npy']\n"
     ]
    }
   ],
   "source": [
    "print(test_list)"
   ]
  },
  {
   "cell_type": "markdown",
   "metadata": {},
   "source": [
    "### STEP 10: \n",
    "Setup the train_dataset and valid_dataset (validation/testing).   Here we setting up training batch sets of 16.  "
   ]
  },
  {
   "cell_type": "code",
   "execution_count": 15,
   "metadata": {},
   "outputs": [],
   "source": [
    "#for tesnorflow 2.*\n",
    "train_dataset = tf.data.Dataset.from_generator(make_generator(train_list),\n",
    "                output_types=(tf.float32, tf.int16),\n",
    "                output_shapes=((SEQUENCE_LENGTH, 1280), (len(LABELS))))\n",
    "                 \n",
    "\n",
    "train_dataset = train_dataset.batch(16,drop_remainder=True).prefetch(tf.data.experimental.AUTOTUNE)\n",
    "\n",
    "\n",
    "valid_dataset = tf.data.Dataset.from_generator(make_generator(valid_list),\n",
    "                 output_types=(tf.float32, tf.int16),\n",
    "                 output_shapes=((SEQUENCE_LENGTH, 1280), (len(LABELS))))\n",
    "valid_dataset = valid_dataset.batch(16,drop_remainder=True).prefetch(tf.data.experimental.AUTOTUNE)\n",
    "\n",
    "# Test dataset\n",
    "test_dataset = tf.data.Dataset.from_generator(make_generator(test_list),\n",
    "                 output_types=(tf.float32, tf.int16),\n",
    "                 output_shapes=((SEQUENCE_LENGTH, 1280), (len(LABELS))))\n",
    "test_dataset = test_dataset.batch(16,drop_remainder=True).prefetch(tf.data.experimental.AUTOTUNE)\n"
   ]
  },
  {
   "cell_type": "code",
   "execution_count": 16,
   "metadata": {},
   "outputs": [
    {
     "name": "stdout",
     "output_type": "stream",
     "text": [
      "<PrefetchDataset shapes: ((16, 40, 1280), (16, 2)), types: (tf.float32, tf.int16)>\n"
     ]
    }
   ],
   "source": [
    "print(train_dataset)"
   ]
  },
  {
   "cell_type": "code",
   "execution_count": 17,
   "metadata": {},
   "outputs": [
    {
     "name": "stdout",
     "output_type": "stream",
     "text": [
      "<PrefetchDataset shapes: ((16, 40, 1280), (16, 2)), types: (tf.float32, tf.int16)>\n"
     ]
    }
   ],
   "source": [
    "print(valid_dataset)"
   ]
  },
  {
   "cell_type": "code",
   "execution_count": 18,
   "metadata": {},
   "outputs": [
    {
     "name": "stdout",
     "output_type": "stream",
     "text": [
      "<PrefetchDataset shapes: ((16, 40, 1280), (16, 2)), types: (tf.float32, tf.int16)>\n"
     ]
    }
   ],
   "source": [
    "print(test_dataset)"
   ]
  },
  {
   "cell_type": "code",
   "execution_count": 19,
   "metadata": {},
   "outputs": [
    {
     "name": "stdout",
     "output_type": "stream",
     "text": [
      "Mylog directory = D:/CSUEB/lynne\\train_log\n"
     ]
    }
   ],
   "source": [
    "BASE_DATA_PATH = 'D:/CSUEB/lynne'\n",
    "mylog_dir = os.path.join(BASE_DATA_PATH, \"train_log\")\n",
    "print(\"Mylog directory = \" + mylog_dir)"
   ]
  },
  {
   "cell_type": "code",
   "execution_count": 20,
   "metadata": {},
   "outputs": [],
   "source": [
    "# create the directory for the Tensorboard logging files\n",
    "if not os.path.exists(TENSORBOARD_LOG_DIRECTORY):\n",
    "    os.mkdir(TENSORBOARD_LOG_DIRECTORY)\n",
    "    \n",
    "# Create dir for checkpoint call back\n",
    "# Ref: https://lambdalabs.com/blog/tensorflow-2-0-tutorial-03-saving-checkpoints/\n",
    "MODEL_CHECKPOINT_PATH = os.path.join(BASE_DATA_PATH, \"model_checkpoint\")\n",
    "if not os.path.exists(MODEL_CHECKPOINT_PATH):\n",
    "    os.mkdir(MODEL_CHECKPOINT_PATH)    \n",
    "MODEL_CHECKPOINT_FILE_NAME = os.path.join(MODEL_CHECKPOINT_PATH, \"weights.{epoch:04d}-{val_loss:.2f}.hdf5\")"
   ]
  },
  {
   "cell_type": "code",
   "execution_count": 21,
   "metadata": {},
   "outputs": [
    {
     "name": "stdout",
     "output_type": "stream",
     "text": [
      "Epoch 1/1000\n",
      "61/61 [==============================] - 54s 882ms/step - loss: 0.1460 - accuracy: 0.9508 - top_k_categorical_accuracy: 1.0000 - val_loss: 0.0010 - val_accuracy: 1.0000 - val_top_k_categorical_accuracy: 1.0000\n",
      "Epoch 2/1000\n",
      "61/61 [==============================] - 8s 139ms/step - loss: 0.0468 - accuracy: 0.9836 - top_k_categorical_accuracy: 1.0000 - val_loss: 0.0082 - val_accuracy: 0.9911 - val_top_k_categorical_accuracy: 1.0000\n",
      "Epoch 3/1000\n",
      "61/61 [==============================] - 8s 128ms/step - loss: 0.0738 - accuracy: 0.9816 - top_k_categorical_accuracy: 1.0000 - val_loss: 0.0103 - val_accuracy: 0.9911 - val_top_k_categorical_accuracy: 1.0000\n",
      "Epoch 4/1000\n",
      "61/61 [==============================] - 8s 134ms/step - loss: 0.0166 - accuracy: 0.9949 - top_k_categorical_accuracy: 1.0000 - val_loss: 0.0111 - val_accuracy: 0.9911 - val_top_k_categorical_accuracy: 1.0000\n",
      "Epoch 5/1000\n",
      "61/61 [==============================] - 9s 142ms/step - loss: 0.0154 - accuracy: 0.9959 - top_k_categorical_accuracy: 1.0000 - val_loss: 0.0016 - val_accuracy: 1.0000 - val_top_k_categorical_accuracy: 1.0000\n",
      "Epoch 6/1000\n",
      "61/61 [==============================] - 9s 155ms/step - loss: 0.0441 - accuracy: 0.9908 - top_k_categorical_accuracy: 1.0000 - val_loss: 0.0117 - val_accuracy: 0.9911 - val_top_k_categorical_accuracy: 1.0000\n",
      "Epoch 7/1000\n",
      "61/61 [==============================] - 8s 135ms/step - loss: 0.0141 - accuracy: 0.9949 - top_k_categorical_accuracy: 1.0000 - val_loss: 0.0352 - val_accuracy: 0.9911 - val_top_k_categorical_accuracy: 1.0000\n",
      "Epoch 8/1000\n",
      "61/61 [==============================] - 7s 111ms/step - loss: 7.4828e-04 - accuracy: 1.0000 - top_k_categorical_accuracy: 1.0000 - val_loss: 0.0271 - val_accuracy: 0.9911 - val_top_k_categorical_accuracy: 1.0000\n",
      "Epoch 9/1000\n",
      "61/61 [==============================] - 7s 107ms/step - loss: 0.0136 - accuracy: 0.9969 - top_k_categorical_accuracy: 1.0000 - val_loss: 0.0130 - val_accuracy: 0.9911 - val_top_k_categorical_accuracy: 1.0000\n",
      "Epoch 10/1000\n",
      "61/61 [==============================] - 7s 112ms/step - loss: 0.0201 - accuracy: 0.9949 - top_k_categorical_accuracy: 1.0000 - val_loss: 5.2305e-05 - val_accuracy: 1.0000 - val_top_k_categorical_accuracy: 1.0000\n",
      "Epoch 11/1000\n",
      "61/61 [==============================] - 8s 124ms/step - loss: 0.0031 - accuracy: 0.9980 - top_k_categorical_accuracy: 1.0000 - val_loss: 5.4283e-08 - val_accuracy: 1.0000 - val_top_k_categorical_accuracy: 1.0000\n",
      "Epoch 12/1000\n",
      "61/61 [==============================] - 6s 97ms/step - loss: 5.2801e-06 - accuracy: 1.0000 - top_k_categorical_accuracy: 1.0000 - val_loss: 9.5359e-04 - val_accuracy: 1.0000 - val_top_k_categorical_accuracy: 1.0000\n",
      "Epoch 13/1000\n",
      "61/61 [==============================] - 7s 111ms/step - loss: 6.5712e-07 - accuracy: 1.0000 - top_k_categorical_accuracy: 1.0000 - val_loss: 1.7562e-07 - val_accuracy: 1.0000 - val_top_k_categorical_accuracy: 1.0000\n",
      "Epoch 14/1000\n",
      "61/61 [==============================] - 7s 112ms/step - loss: 3.7825e-07 - accuracy: 1.0000 - top_k_categorical_accuracy: 1.0000 - val_loss: 0.0021 - val_accuracy: 1.0000 - val_top_k_categorical_accuracy: 1.0000\n",
      "Epoch 15/1000\n",
      "61/61 [==============================] - 7s 113ms/step - loss: 0.0117 - accuracy: 0.9990 - top_k_categorical_accuracy: 1.0000 - val_loss: 0.1042 - val_accuracy: 0.9911 - val_top_k_categorical_accuracy: 1.0000\n",
      "Epoch 16/1000\n",
      "61/61 [==============================] - 7s 117ms/step - loss: 6.8088e-05 - accuracy: 1.0000 - top_k_categorical_accuracy: 1.0000 - val_loss: 1.6710e-07 - val_accuracy: 1.0000 - val_top_k_categorical_accuracy: 1.0000\n",
      "Epoch 17/1000\n",
      "61/61 [==============================] - 6s 107ms/step - loss: 2.0275e-08 - accuracy: 1.0000 - top_k_categorical_accuracy: 1.0000 - val_loss: 0.0000e+00 - val_accuracy: 1.0000 - val_top_k_categorical_accuracy: 1.0000\n",
      "Epoch 18/1000\n",
      "61/61 [==============================] - 7s 109ms/step - loss: 0.0901 - accuracy: 0.9918 - top_k_categorical_accuracy: 1.0000 - val_loss: 0.0052 - val_accuracy: 1.0000 - val_top_k_categorical_accuracy: 1.0000\n",
      "Epoch 19/1000\n",
      "61/61 [==============================] - 7s 113ms/step - loss: 1.7299e-04 - accuracy: 1.0000 - top_k_categorical_accuracy: 1.0000 - val_loss: 6.5520e-06 - val_accuracy: 1.0000 - val_top_k_categorical_accuracy: 1.0000\n",
      "Epoch 20/1000\n",
      "61/61 [==============================] - 7s 120ms/step - loss: 0.1069 - accuracy: 0.9887 - top_k_categorical_accuracy: 1.0000 - val_loss: 0.0095 - val_accuracy: 0.9911 - val_top_k_categorical_accuracy: 1.0000\n",
      "Epoch 21/1000\n",
      "61/61 [==============================] - 7s 115ms/step - loss: 2.2013e-05 - accuracy: 1.0000 - top_k_categorical_accuracy: 1.0000 - val_loss: 2.4323e-05 - val_accuracy: 1.0000 - val_top_k_categorical_accuracy: 1.0000\n",
      "Epoch 22/1000\n",
      "61/61 [==============================] - 7s 110ms/step - loss: 0.0105 - accuracy: 0.9980 - top_k_categorical_accuracy: 1.0000 - val_loss: 7.6008e-06 - val_accuracy: 1.0000 - val_top_k_categorical_accuracy: 1.0000\n",
      "Epoch 23/1000\n",
      "61/61 [==============================] - 7s 108ms/step - loss: 8.8392e-06 - accuracy: 1.0000 - top_k_categorical_accuracy: 1.0000 - val_loss: 2.6609e-08 - val_accuracy: 1.0000 - val_top_k_categorical_accuracy: 1.0000\n",
      "Epoch 24/1000\n",
      "61/61 [==============================] - 7s 116ms/step - loss: 3.0598e-06 - accuracy: 1.0000 - top_k_categorical_accuracy: 1.0000 - val_loss: 7.4506e-09 - val_accuracy: 1.0000 - val_top_k_categorical_accuracy: 1.0000\n",
      "Epoch 25/1000\n",
      "61/61 [==============================] - 7s 118ms/step - loss: 0.0037 - accuracy: 0.9990 - top_k_categorical_accuracy: 1.0000 - val_loss: 0.0540 - val_accuracy: 0.9911 - val_top_k_categorical_accuracy: 1.0000\n",
      "Epoch 26/1000\n",
      "61/61 [==============================] - 7s 108ms/step - loss: 0.0136 - accuracy: 0.9980 - top_k_categorical_accuracy: 1.0000 - val_loss: 2.4105e-06 - val_accuracy: 1.0000 - val_top_k_categorical_accuracy: 1.0000\n",
      "Epoch 27/1000\n",
      "61/61 [==============================] - 7s 110ms/step - loss: 1.3342e-05 - accuracy: 1.0000 - top_k_categorical_accuracy: 1.0000 - val_loss: 2.6275e-04 - val_accuracy: 1.0000 - val_top_k_categorical_accuracy: 1.0000\n",
      "Epoch 28/1000\n",
      "61/61 [==============================] - 6s 106ms/step - loss: 1.3680e-08 - accuracy: 1.0000 - top_k_categorical_accuracy: 1.0000 - val_loss: 5.2060e-04 - val_accuracy: 1.0000 - val_top_k_categorical_accuracy: 1.0000\n",
      "Epoch 29/1000\n",
      "61/61 [==============================] - 7s 109ms/step - loss: 8.0215e-05 - accuracy: 1.0000 - top_k_categorical_accuracy: 1.0000 - val_loss: 1.5730e-06 - val_accuracy: 1.0000 - val_top_k_categorical_accuracy: 1.0000\n",
      "Epoch 30/1000\n",
      "61/61 [==============================] - 7s 109ms/step - loss: 1.6472e-06 - accuracy: 1.0000 - top_k_categorical_accuracy: 1.0000 - val_loss: 0.2100 - val_accuracy: 0.9821 - val_top_k_categorical_accuracy: 1.0000\n",
      "Epoch 31/1000\n",
      "61/61 [==============================] - 7s 113ms/step - loss: 0.0123 - accuracy: 0.9980 - top_k_categorical_accuracy: 1.0000 - val_loss: 4.4703e-08 - val_accuracy: 1.0000 - val_top_k_categorical_accuracy: 1.0000\n",
      "Epoch 32/1000\n",
      "61/61 [==============================] - 7s 111ms/step - loss: 6.2292e-09 - accuracy: 1.0000 - top_k_categorical_accuracy: 1.0000 - val_loss: 1.3092e-07 - val_accuracy: 1.0000 - val_top_k_categorical_accuracy: 1.0000\n",
      "Epoch 33/1000\n",
      "61/61 [==============================] - 7s 109ms/step - loss: 1.4116e-04 - accuracy: 1.0000 - top_k_categorical_accuracy: 1.0000 - val_loss: 2.9802e-08 - val_accuracy: 1.0000 - val_top_k_categorical_accuracy: 1.0000\n",
      "Epoch 34/1000\n",
      "61/61 [==============================] - 7s 114ms/step - loss: 0.0256 - accuracy: 0.9990 - top_k_categorical_accuracy: 1.0000 - val_loss: 3.3421e-07 - val_accuracy: 1.0000 - val_top_k_categorical_accuracy: 1.0000\n",
      "Epoch 35/1000\n",
      "61/61 [==============================] - 8s 123ms/step - loss: 1.5494e-05 - accuracy: 1.0000 - top_k_categorical_accuracy: 1.0000 - val_loss: 2.1926e-07 - val_accuracy: 1.0000 - val_top_k_categorical_accuracy: 1.0000\n",
      "Epoch 36/1000\n",
      "61/61 [==============================] - 7s 110ms/step - loss: 0.0135 - accuracy: 0.9990 - top_k_categorical_accuracy: 1.0000 - val_loss: 7.7589e-07 - val_accuracy: 1.0000 - val_top_k_categorical_accuracy: 1.0000\n",
      "Epoch 37/1000\n",
      "61/61 [==============================] - 7s 109ms/step - loss: 1.4168e-08 - accuracy: 1.0000 - top_k_categorical_accuracy: 1.0000 - val_loss: 3.1931e-09 - val_accuracy: 1.0000 - val_top_k_categorical_accuracy: 1.0000\n",
      "Epoch 38/1000\n",
      "61/61 [==============================] - 7s 119ms/step - loss: 0.0049 - accuracy: 0.9990 - top_k_categorical_accuracy: 1.0000 - val_loss: 6.8525e-05 - val_accuracy: 1.0000 - val_top_k_categorical_accuracy: 1.0000\n",
      "Epoch 39/1000\n",
      "61/61 [==============================] - 8s 125ms/step - loss: 3.1423e-07 - accuracy: 1.0000 - top_k_categorical_accuracy: 1.0000 - val_loss: 4.2575e-09 - val_accuracy: 1.0000 - val_top_k_categorical_accuracy: 1.0000\n",
      "Epoch 40/1000\n",
      "61/61 [==============================] - 7s 110ms/step - loss: 1.2092e-08 - accuracy: 1.0000 - top_k_categorical_accuracy: 1.0000 - val_loss: 0.0000e+00 - val_accuracy: 1.0000 - val_top_k_categorical_accuracy: 1.0000\n",
      "Epoch 41/1000\n",
      "61/61 [==============================] - 7s 112ms/step - loss: 4.8856e-10 - accuracy: 1.0000 - top_k_categorical_accuracy: 1.0000 - val_loss: 0.0000e+00 - val_accuracy: 1.0000 - val_top_k_categorical_accuracy: 1.0000\n",
      "Epoch 42/1000\n",
      "61/61 [==============================] - 7s 116ms/step - loss: 1.4535e-08 - accuracy: 1.0000 - top_k_categorical_accuracy: 1.0000 - val_loss: 0.0000e+00 - val_accuracy: 1.0000 - val_top_k_categorical_accuracy: 1.0000\n",
      "Epoch 43/1000\n",
      "61/61 [==============================] - 8s 126ms/step - loss: 4.8856e-10 - accuracy: 1.0000 - top_k_categorical_accuracy: 1.0000 - val_loss: 0.0000e+00 - val_accuracy: 1.0000 - val_top_k_categorical_accuracy: 1.0000\n",
      "Epoch 44/1000\n",
      "61/61 [==============================] - 8s 131ms/step - loss: 8.5498e-10 - accuracy: 1.0000 - top_k_categorical_accuracy: 1.0000 - val_loss: 0.0000e+00 - val_accuracy: 1.0000 - val_top_k_categorical_accuracy: 1.0000\n",
      "Epoch 45/1000\n",
      "61/61 [==============================] - 7s 120ms/step - loss: 1.5817e-07 - accuracy: 1.0000 - top_k_categorical_accuracy: 1.0000 - val_loss: 0.0000e+00 - val_accuracy: 1.0000 - val_top_k_categorical_accuracy: 1.0000\n",
      "Epoch 46/1000\n",
      "61/61 [==============================] - 7s 123ms/step - loss: 0.0150 - accuracy: 0.9980 - top_k_categorical_accuracy: 1.0000 - val_loss: 0.0156 - val_accuracy: 0.9911 - val_top_k_categorical_accuracy: 1.0000\n",
      "Epoch 47/1000\n",
      "61/61 [==============================] - 8s 129ms/step - loss: 8.4776e-05 - accuracy: 1.0000 - top_k_categorical_accuracy: 1.0000 - val_loss: 5.7687e-07 - val_accuracy: 1.0000 - val_top_k_categorical_accuracy: 1.0000\n",
      "Epoch 48/1000\n",
      "61/61 [==============================] - 7s 120ms/step - loss: 2.7115e-08 - accuracy: 1.0000 - top_k_categorical_accuracy: 1.0000 - val_loss: 0.0000e+00 - val_accuracy: 1.0000 - val_top_k_categorical_accuracy: 1.0000\n",
      "Epoch 49/1000\n",
      "61/61 [==============================] - 7s 115ms/step - loss: 4.3971e-09 - accuracy: 1.0000 - top_k_categorical_accuracy: 1.0000 - val_loss: 0.0000e+00 - val_accuracy: 1.0000 - val_top_k_categorical_accuracy: 1.0000\n",
      "Epoch 50/1000\n",
      "61/61 [==============================] - 7s 115ms/step - loss: 2.3939e-08 - accuracy: 1.0000 - top_k_categorical_accuracy: 1.0000 - val_loss: 1.0644e-09 - val_accuracy: 1.0000 - val_top_k_categorical_accuracy: 1.0000\n",
      "Epoch 51/1000\n",
      "61/61 [==============================] - 7s 108ms/step - loss: 0.0000e+00 - accuracy: 1.0000 - top_k_categorical_accuracy: 1.0000 - val_loss: 0.0000e+00 - val_accuracy: 1.0000 - val_top_k_categorical_accuracy: 1.0000\n",
      "Epoch 52/1000\n",
      "61/61 [==============================] - 7s 123ms/step - loss: 3.1757e-09 - accuracy: 1.0000 - top_k_categorical_accuracy: 1.0000 - val_loss: 0.0000e+00 - val_accuracy: 1.0000 - val_top_k_categorical_accuracy: 1.0000\n",
      "Epoch 53/1000\n",
      "61/61 [==============================] - 8s 128ms/step - loss: 0.0000e+00 - accuracy: 1.0000 - top_k_categorical_accuracy: 1.0000 - val_loss: 0.0000e+00 - val_accuracy: 1.0000 - val_top_k_categorical_accuracy: 1.0000\n",
      "Epoch 54/1000\n",
      "61/61 [==============================] - 8s 135ms/step - loss: 0.0000e+00 - accuracy: 1.0000 - top_k_categorical_accuracy: 1.0000 - val_loss: 0.0000e+00 - val_accuracy: 1.0000 - val_top_k_categorical_accuracy: 1.0000\n",
      "Epoch 55/1000\n",
      "61/61 [==============================] - 8s 136ms/step - loss: 2.4428e-10 - accuracy: 1.0000 - top_k_categorical_accuracy: 1.0000 - val_loss: 0.0000e+00 - val_accuracy: 1.0000 - val_top_k_categorical_accuracy: 1.0000\n",
      "Epoch 56/1000\n",
      "61/61 [==============================] - 9s 144ms/step - loss: 0.0000e+00 - accuracy: 1.0000 - top_k_categorical_accuracy: 1.0000 - val_loss: 0.0000e+00 - val_accuracy: 1.0000 - val_top_k_categorical_accuracy: 1.0000\n",
      "Epoch 57/1000\n",
      "61/61 [==============================] - 10s 156ms/step - loss: 1.2214e-10 - accuracy: 1.0000 - top_k_categorical_accuracy: 1.0000 - val_loss: 0.0000e+00 - val_accuracy: 1.0000 - val_top_k_categorical_accuracy: 1.0000\n",
      "Epoch 58/1000\n",
      "61/61 [==============================] - 10s 158ms/step - loss: 0.0000e+00 - accuracy: 1.0000 - top_k_categorical_accuracy: 1.0000 - val_loss: 0.0000e+00 - val_accuracy: 1.0000 - val_top_k_categorical_accuracy: 1.0000\n",
      "Epoch 59/1000\n",
      "61/61 [==============================] - 8s 135ms/step - loss: 0.0000e+00 - accuracy: 1.0000 - top_k_categorical_accuracy: 1.0000 - val_loss: 0.0000e+00 - val_accuracy: 1.0000 - val_top_k_categorical_accuracy: 1.0000\n",
      "Epoch 60/1000\n",
      "61/61 [==============================] - 7s 114ms/step - loss: 0.0000e+00 - accuracy: 1.0000 - top_k_categorical_accuracy: 1.0000 - val_loss: 0.0000e+00 - val_accuracy: 1.0000 - val_top_k_categorical_accuracy: 1.0000\n",
      "Epoch 61/1000\n",
      "61/61 [==============================] - 7s 113ms/step - loss: 0.0000e+00 - accuracy: 1.0000 - top_k_categorical_accuracy: 1.0000 - val_loss: 0.0000e+00 - val_accuracy: 1.0000 - val_top_k_categorical_accuracy: 1.0000\n",
      "Epoch 62/1000\n",
      "61/61 [==============================] - 8s 125ms/step - loss: 0.0085 - accuracy: 0.9990 - top_k_categorical_accuracy: 1.0000 - val_loss: 1.0644e-09 - val_accuracy: 1.0000 - val_top_k_categorical_accuracy: 1.0000\n",
      "Epoch 63/1000\n",
      "61/61 [==============================] - 7s 117ms/step - loss: 0.0075 - accuracy: 0.9980 - top_k_categorical_accuracy: 1.0000 - val_loss: 4.2575e-09 - val_accuracy: 1.0000 - val_top_k_categorical_accuracy: 1.0000\n",
      "Epoch 64/1000\n",
      "61/61 [==============================] - 7s 115ms/step - loss: 4.1528e-09 - accuracy: 1.0000 - top_k_categorical_accuracy: 1.0000 - val_loss: 1.0644e-09 - val_accuracy: 1.0000 - val_top_k_categorical_accuracy: 1.0000\n",
      "Epoch 65/1000\n",
      "61/61 [==============================] - 7s 111ms/step - loss: 4.8856e-10 - accuracy: 1.0000 - top_k_categorical_accuracy: 1.0000 - val_loss: 1.0644e-09 - val_accuracy: 1.0000 - val_top_k_categorical_accuracy: 1.0000\n",
      "Epoch 66/1000\n",
      "61/61 [==============================] - 7s 111ms/step - loss: 3.6642e-10 - accuracy: 1.0000 - top_k_categorical_accuracy: 1.0000 - val_loss: 0.0000e+00 - val_accuracy: 1.0000 - val_top_k_categorical_accuracy: 1.0000\n",
      "Epoch 67/1000\n",
      "61/61 [==============================] - 7s 110ms/step - loss: 3.6642e-10 - accuracy: 1.0000 - top_k_categorical_accuracy: 1.0000 - val_loss: 0.0000e+00 - val_accuracy: 1.0000 - val_top_k_categorical_accuracy: 1.0000\n",
      "Epoch 68/1000\n",
      "61/61 [==============================] - 7s 117ms/step - loss: 1.0993e-09 - accuracy: 1.0000 - top_k_categorical_accuracy: 1.0000 - val_loss: 0.0000e+00 - val_accuracy: 1.0000 - val_top_k_categorical_accuracy: 1.0000\n",
      "Epoch 69/1000\n",
      "61/61 [==============================] - 6s 97ms/step - loss: 0.0162 - accuracy: 0.9990 - top_k_categorical_accuracy: 1.0000 - val_loss: 2.1287e-09 - val_accuracy: 1.0000 - val_top_k_categorical_accuracy: 1.0000\n",
      "Epoch 70/1000\n",
      "61/61 [==============================] - 6s 96ms/step - loss: 1.1359e-08 - accuracy: 1.0000 - top_k_categorical_accuracy: 1.0000 - val_loss: 0.0000e+00 - val_accuracy: 1.0000 - val_top_k_categorical_accuracy: 1.0000\n",
      "Epoch 71/1000\n",
      "61/61 [==============================] - 6s 93ms/step - loss: 4.1528e-09 - accuracy: 1.0000 - top_k_categorical_accuracy: 1.0000 - val_loss: 0.0000e+00 - val_accuracy: 1.0000 - val_top_k_categorical_accuracy: 1.0000\n",
      "Epoch 72/1000\n",
      "61/61 [==============================] - 5s 88ms/step - loss: 4.2749e-09 - accuracy: 1.0000 - top_k_categorical_accuracy: 1.0000 - val_loss: 0.0000e+00 - val_accuracy: 1.0000 - val_top_k_categorical_accuracy: 1.0000\n"
     ]
    },
    {
     "name": "stdout",
     "output_type": "stream",
     "text": [
      "Epoch 73/1000\n",
      "61/61 [==============================] - 5s 87ms/step - loss: 0.0000e+00 - accuracy: 1.0000 - top_k_categorical_accuracy: 1.0000 - val_loss: 0.0000e+00 - val_accuracy: 1.0000 - val_top_k_categorical_accuracy: 1.0000\n",
      "Epoch 74/1000\n",
      "61/61 [==============================] - 6s 95ms/step - loss: 1.2214e-09 - accuracy: 1.0000 - top_k_categorical_accuracy: 1.0000 - val_loss: 0.0000e+00 - val_accuracy: 1.0000 - val_top_k_categorical_accuracy: 1.0000\n",
      "Epoch 75/1000\n",
      "61/61 [==============================] - 5s 90ms/step - loss: 0.0141 - accuracy: 0.9980 - top_k_categorical_accuracy: 1.0000 - val_loss: 2.1287e-09 - val_accuracy: 1.0000 - val_top_k_categorical_accuracy: 1.0000\n",
      "Epoch 76/1000\n",
      "61/61 [==============================] - 6s 92ms/step - loss: 3.9084e-08 - accuracy: 1.0000 - top_k_categorical_accuracy: 1.0000 - val_loss: 5.3749e-07 - val_accuracy: 1.0000 - val_top_k_categorical_accuracy: 1.0000\n",
      "Epoch 77/1000\n",
      "61/61 [==============================] - 6s 94ms/step - loss: 5.4963e-09 - accuracy: 1.0000 - top_k_categorical_accuracy: 1.0000 - val_loss: 7.3441e-08 - val_accuracy: 1.0000 - val_top_k_categorical_accuracy: 1.0000\n",
      "Epoch 78/1000\n",
      "61/61 [==============================] - 6s 91ms/step - loss: 7.4506e-09 - accuracy: 1.0000 - top_k_categorical_accuracy: 1.0000 - val_loss: 1.0644e-09 - val_accuracy: 1.0000 - val_top_k_categorical_accuracy: 1.0000\n",
      "Epoch 79/1000\n",
      "61/61 [==============================] - 6s 92ms/step - loss: 9.5269e-09 - accuracy: 1.0000 - top_k_categorical_accuracy: 1.0000 - val_loss: 0.0000e+00 - val_accuracy: 1.0000 - val_top_k_categorical_accuracy: 1.0000\n",
      "Epoch 80/1000\n",
      "61/61 [==============================] - 6s 97ms/step - loss: 0.0000e+00 - accuracy: 1.0000 - top_k_categorical_accuracy: 1.0000 - val_loss: 0.0000e+00 - val_accuracy: 1.0000 - val_top_k_categorical_accuracy: 1.0000\n",
      "Epoch 81/1000\n",
      "61/61 [==============================] - 6s 91ms/step - loss: 6.1070e-10 - accuracy: 1.0000 - top_k_categorical_accuracy: 1.0000 - val_loss: 0.0000e+00 - val_accuracy: 1.0000 - val_top_k_categorical_accuracy: 1.0000\n",
      "Epoch 82/1000\n",
      "61/61 [==============================] - 5s 89ms/step - loss: 3.1757e-09 - accuracy: 1.0000 - top_k_categorical_accuracy: 1.0000 - val_loss: 0.0000e+00 - val_accuracy: 1.0000 - val_top_k_categorical_accuracy: 1.0000\n",
      "Epoch 83/1000\n",
      "61/61 [==============================] - 6s 93ms/step - loss: 0.0000e+00 - accuracy: 1.0000 - top_k_categorical_accuracy: 1.0000 - val_loss: 0.0000e+00 - val_accuracy: 1.0000 - val_top_k_categorical_accuracy: 1.0000\n",
      "Epoch 84/1000\n",
      "61/61 [==============================] - 7s 122ms/step - loss: 0.0000e+00 - accuracy: 1.0000 - top_k_categorical_accuracy: 1.0000 - val_loss: 0.0000e+00 - val_accuracy: 1.0000 - val_top_k_categorical_accuracy: 1.0000\n",
      "Epoch 85/1000\n",
      "61/61 [==============================] - 9s 145ms/step - loss: 1.2214e-10 - accuracy: 1.0000 - top_k_categorical_accuracy: 1.0000 - val_loss: 0.0000e+00 - val_accuracy: 1.0000 - val_top_k_categorical_accuracy: 1.0000\n",
      "Epoch 86/1000\n",
      "61/61 [==============================] - 9s 149ms/step - loss: 6.1070e-10 - accuracy: 1.0000 - top_k_categorical_accuracy: 1.0000 - val_loss: 0.0000e+00 - val_accuracy: 1.0000 - val_top_k_categorical_accuracy: 1.0000\n",
      "Epoch 87/1000\n",
      "61/61 [==============================] - 10s 167ms/step - loss: 1.5878e-09 - accuracy: 1.0000 - top_k_categorical_accuracy: 1.0000 - val_loss: 0.0000e+00 - val_accuracy: 1.0000 - val_top_k_categorical_accuracy: 1.0000\n",
      "Epoch 88/1000\n",
      "61/61 [==============================] - 10s 167ms/step - loss: 6.9832e-07 - accuracy: 1.0000 - top_k_categorical_accuracy: 1.0000 - val_loss: 4.2575e-09 - val_accuracy: 1.0000 - val_top_k_categorical_accuracy: 1.0000\n",
      "Epoch 89/1000\n",
      "61/61 [==============================] - 8s 138ms/step - loss: 0.0012 - accuracy: 0.9990 - top_k_categorical_accuracy: 1.0000 - val_loss: 0.0000e+00 - val_accuracy: 1.0000 - val_top_k_categorical_accuracy: 1.0000\n",
      "Epoch 90/1000\n",
      "61/61 [==============================] - 10s 160ms/step - loss: 4.3723e-06 - accuracy: 1.0000 - top_k_categorical_accuracy: 1.0000 - val_loss: 0.0500 - val_accuracy: 0.9911 - val_top_k_categorical_accuracy: 1.0000\n",
      "Epoch 91/1000\n",
      "61/61 [==============================] - 9s 145ms/step - loss: 0.0051 - accuracy: 0.9990 - top_k_categorical_accuracy: 1.0000 - val_loss: 0.0000e+00 - val_accuracy: 1.0000 - val_top_k_categorical_accuracy: 1.0000\n",
      "Epoch 92/1000\n",
      "61/61 [==============================] - 9s 143ms/step - loss: 0.0000e+00 - accuracy: 1.0000 - top_k_categorical_accuracy: 1.0000 - val_loss: 0.0000e+00 - val_accuracy: 1.0000 - val_top_k_categorical_accuracy: 1.0000\n",
      "Epoch 93/1000\n",
      "61/61 [==============================] - 8s 129ms/step - loss: 2.4428e-10 - accuracy: 1.0000 - top_k_categorical_accuracy: 1.0000 - val_loss: 0.0000e+00 - val_accuracy: 1.0000 - val_top_k_categorical_accuracy: 1.0000\n",
      "Epoch 94/1000\n",
      "61/61 [==============================] - 8s 136ms/step - loss: 3.7864e-09 - accuracy: 1.0000 - top_k_categorical_accuracy: 1.0000 - val_loss: 0.0000e+00 - val_accuracy: 1.0000 - val_top_k_categorical_accuracy: 1.0000\n",
      "Epoch 95/1000\n",
      "61/61 [==============================] - 8s 129ms/step - loss: 4.6981e-04 - accuracy: 1.0000 - top_k_categorical_accuracy: 1.0000 - val_loss: 2.1819e-07 - val_accuracy: 1.0000 - val_top_k_categorical_accuracy: 1.0000\n",
      "Epoch 96/1000\n",
      "61/61 [==============================] - 8s 136ms/step - loss: 2.8703e-08 - accuracy: 1.0000 - top_k_categorical_accuracy: 1.0000 - val_loss: 0.0000e+00 - val_accuracy: 1.0000 - val_top_k_categorical_accuracy: 1.0000\n",
      "Epoch 97/1000\n",
      "61/61 [==============================] - 8s 132ms/step - loss: 8.7941e-09 - accuracy: 1.0000 - top_k_categorical_accuracy: 1.0000 - val_loss: 0.0000e+00 - val_accuracy: 1.0000 - val_top_k_categorical_accuracy: 1.0000\n",
      "Epoch 98/1000\n",
      "61/61 [==============================] - 8s 136ms/step - loss: 1.2214e-10 - accuracy: 1.0000 - top_k_categorical_accuracy: 1.0000 - val_loss: 0.0000e+00 - val_accuracy: 1.0000 - val_top_k_categorical_accuracy: 1.0000\n",
      "Epoch 99/1000\n",
      "61/61 [==============================] - 8s 124ms/step - loss: 0.0000e+00 - accuracy: 1.0000 - top_k_categorical_accuracy: 1.0000 - val_loss: 0.0000e+00 - val_accuracy: 1.0000 - val_top_k_categorical_accuracy: 1.0000\n",
      "Epoch 100/1000\n",
      "61/61 [==============================] - 8s 130ms/step - loss: 8.5498e-10 - accuracy: 1.0000 - top_k_categorical_accuracy: 1.0000 - val_loss: 0.0000e+00 - val_accuracy: 1.0000 - val_top_k_categorical_accuracy: 1.0000\n",
      "Epoch 101/1000\n",
      "61/61 [==============================] - 8s 126ms/step - loss: 4.8856e-09 - accuracy: 1.0000 - top_k_categorical_accuracy: 1.0000 - val_loss: 0.0000e+00 - val_accuracy: 1.0000 - val_top_k_categorical_accuracy: 1.0000\n",
      "Epoch 102/1000\n",
      "61/61 [==============================] - 8s 126ms/step - loss: 1.2214e-10 - accuracy: 1.0000 - top_k_categorical_accuracy: 1.0000 - val_loss: 0.0000e+00 - val_accuracy: 1.0000 - val_top_k_categorical_accuracy: 1.0000\n",
      "Epoch 103/1000\n",
      "61/61 [==============================] - 8s 123ms/step - loss: 0.0000e+00 - accuracy: 1.0000 - top_k_categorical_accuracy: 1.0000 - val_loss: 0.0000e+00 - val_accuracy: 1.0000 - val_top_k_categorical_accuracy: 1.0000\n",
      "Epoch 104/1000\n",
      "61/61 [==============================] - 8s 132ms/step - loss: 0.0140 - accuracy: 0.9990 - top_k_categorical_accuracy: 1.0000 - val_loss: 1.1473 - val_accuracy: 0.9375 - val_top_k_categorical_accuracy: 1.0000\n",
      "Epoch 105/1000\n",
      "61/61 [==============================] - 9s 142ms/step - loss: 0.0060 - accuracy: 0.9990 - top_k_categorical_accuracy: 1.0000 - val_loss: 0.0000e+00 - val_accuracy: 1.0000 - val_top_k_categorical_accuracy: 1.0000\n",
      "Epoch 106/1000\n",
      "61/61 [==============================] - 9s 144ms/step - loss: 0.0000e+00 - accuracy: 1.0000 - top_k_categorical_accuracy: 1.0000 - val_loss: 0.0000e+00 - val_accuracy: 1.0000 - val_top_k_categorical_accuracy: 1.0000\n",
      "Epoch 107/1000\n",
      "61/61 [==============================] - 11s 181ms/step - loss: 4.8856e-10 - accuracy: 1.0000 - top_k_categorical_accuracy: 1.0000 - val_loss: 0.0000e+00 - val_accuracy: 1.0000 - val_top_k_categorical_accuracy: 1.0000\n",
      "Epoch 108/1000\n",
      " 2/61 [..............................] - ETA: 15s - loss: 0.0000e+00 - accuracy: 1.0000 - top_k_categorical_accuracy: 1.0000"
     ]
    },
    {
     "ename": "KeyError",
     "evalue": "'val_loss'",
     "output_type": "error",
     "traceback": [
      "\u001b[1;31m---------------------------------------------------------------------------\u001b[0m",
      "\u001b[1;31mKeyboardInterrupt\u001b[0m                         Traceback (most recent call last)",
      "\u001b[1;32m~\\AppData\\Roaming\\Python\\Python37\\site-packages\\tensorflow_core\\python\\keras\\engine\\training_v2.py\u001b[0m in \u001b[0;36mon_epoch\u001b[1;34m(self, epoch, mode)\u001b[0m\n\u001b[0;32m    766\u001b[0m     \u001b[1;32mtry\u001b[0m\u001b[1;33m:\u001b[0m\u001b[1;33m\u001b[0m\u001b[1;33m\u001b[0m\u001b[0m\n\u001b[1;32m--> 767\u001b[1;33m       \u001b[1;32myield\u001b[0m \u001b[0mepoch_logs\u001b[0m\u001b[1;33m\u001b[0m\u001b[1;33m\u001b[0m\u001b[0m\n\u001b[0m\u001b[0;32m    768\u001b[0m     \u001b[1;32mfinally\u001b[0m\u001b[1;33m:\u001b[0m\u001b[1;33m\u001b[0m\u001b[1;33m\u001b[0m\u001b[0m\n",
      "\u001b[1;32m~\\AppData\\Roaming\\Python\\Python37\\site-packages\\tensorflow_core\\python\\keras\\engine\\training_v2.py\u001b[0m in \u001b[0;36mfit\u001b[1;34m(self, model, x, y, batch_size, epochs, verbose, callbacks, validation_split, validation_data, shuffle, class_weight, sample_weight, initial_epoch, steps_per_epoch, validation_steps, validation_freq, max_queue_size, workers, use_multiprocessing, **kwargs)\u001b[0m\n\u001b[0;32m    341\u001b[0m                 \u001b[0mtraining_context\u001b[0m\u001b[1;33m=\u001b[0m\u001b[0mtraining_context\u001b[0m\u001b[1;33m,\u001b[0m\u001b[1;33m\u001b[0m\u001b[1;33m\u001b[0m\u001b[0m\n\u001b[1;32m--> 342\u001b[1;33m                 total_epochs=epochs)\n\u001b[0m\u001b[0;32m    343\u001b[0m             \u001b[0mcbks\u001b[0m\u001b[1;33m.\u001b[0m\u001b[0mmake_logs\u001b[0m\u001b[1;33m(\u001b[0m\u001b[0mmodel\u001b[0m\u001b[1;33m,\u001b[0m \u001b[0mepoch_logs\u001b[0m\u001b[1;33m,\u001b[0m \u001b[0mtraining_result\u001b[0m\u001b[1;33m,\u001b[0m \u001b[0mModeKeys\u001b[0m\u001b[1;33m.\u001b[0m\u001b[0mTRAIN\u001b[0m\u001b[1;33m)\u001b[0m\u001b[1;33m\u001b[0m\u001b[1;33m\u001b[0m\u001b[0m\n",
      "\u001b[1;32m~\\AppData\\Roaming\\Python\\Python37\\site-packages\\tensorflow_core\\python\\keras\\engine\\training_v2.py\u001b[0m in \u001b[0;36mrun_one_epoch\u001b[1;34m(model, iterator, execution_function, dataset_size, batch_size, strategy, steps_per_epoch, num_samples, mode, training_context, total_epochs)\u001b[0m\n\u001b[0;32m    127\u001b[0m       \u001b[1;32mtry\u001b[0m\u001b[1;33m:\u001b[0m\u001b[1;33m\u001b[0m\u001b[1;33m\u001b[0m\u001b[0m\n\u001b[1;32m--> 128\u001b[1;33m         \u001b[0mbatch_outs\u001b[0m \u001b[1;33m=\u001b[0m \u001b[0mexecution_function\u001b[0m\u001b[1;33m(\u001b[0m\u001b[0miterator\u001b[0m\u001b[1;33m)\u001b[0m\u001b[1;33m\u001b[0m\u001b[1;33m\u001b[0m\u001b[0m\n\u001b[0m\u001b[0;32m    129\u001b[0m       \u001b[1;32mexcept\u001b[0m \u001b[1;33m(\u001b[0m\u001b[0mStopIteration\u001b[0m\u001b[1;33m,\u001b[0m \u001b[0merrors\u001b[0m\u001b[1;33m.\u001b[0m\u001b[0mOutOfRangeError\u001b[0m\u001b[1;33m)\u001b[0m\u001b[1;33m:\u001b[0m\u001b[1;33m\u001b[0m\u001b[1;33m\u001b[0m\u001b[0m\n",
      "\u001b[1;32m~\\AppData\\Roaming\\Python\\Python37\\site-packages\\tensorflow_core\\python\\keras\\engine\\training_v2_utils.py\u001b[0m in \u001b[0;36mexecution_function\u001b[1;34m(input_fn)\u001b[0m\n\u001b[0;32m     97\u001b[0m     return nest.map_structure(_non_none_constant_value,\n\u001b[1;32m---> 98\u001b[1;33m                               distributed_function(input_fn))\n\u001b[0m\u001b[0;32m     99\u001b[0m \u001b[1;33m\u001b[0m\u001b[0m\n",
      "\u001b[1;32m~\\AppData\\Roaming\\Python\\Python37\\site-packages\\tensorflow_core\\python\\eager\\def_function.py\u001b[0m in \u001b[0;36m__call__\u001b[1;34m(self, *args, **kwds)\u001b[0m\n\u001b[0;32m    567\u001b[0m     \u001b[1;32melse\u001b[0m\u001b[1;33m:\u001b[0m\u001b[1;33m\u001b[0m\u001b[1;33m\u001b[0m\u001b[0m\n\u001b[1;32m--> 568\u001b[1;33m       \u001b[0mresult\u001b[0m \u001b[1;33m=\u001b[0m \u001b[0mself\u001b[0m\u001b[1;33m.\u001b[0m\u001b[0m_call\u001b[0m\u001b[1;33m(\u001b[0m\u001b[1;33m*\u001b[0m\u001b[0margs\u001b[0m\u001b[1;33m,\u001b[0m \u001b[1;33m**\u001b[0m\u001b[0mkwds\u001b[0m\u001b[1;33m)\u001b[0m\u001b[1;33m\u001b[0m\u001b[1;33m\u001b[0m\u001b[0m\n\u001b[0m\u001b[0;32m    569\u001b[0m \u001b[1;33m\u001b[0m\u001b[0m\n",
      "\u001b[1;32m~\\AppData\\Roaming\\Python\\Python37\\site-packages\\tensorflow_core\\python\\eager\\def_function.py\u001b[0m in \u001b[0;36m_call\u001b[1;34m(self, *args, **kwds)\u001b[0m\n\u001b[0;32m    598\u001b[0m       \u001b[1;31m# defunned version which is guaranteed to never create variables.\u001b[0m\u001b[1;33m\u001b[0m\u001b[1;33m\u001b[0m\u001b[1;33m\u001b[0m\u001b[0m\n\u001b[1;32m--> 599\u001b[1;33m       \u001b[1;32mreturn\u001b[0m \u001b[0mself\u001b[0m\u001b[1;33m.\u001b[0m\u001b[0m_stateless_fn\u001b[0m\u001b[1;33m(\u001b[0m\u001b[1;33m*\u001b[0m\u001b[0margs\u001b[0m\u001b[1;33m,\u001b[0m \u001b[1;33m**\u001b[0m\u001b[0mkwds\u001b[0m\u001b[1;33m)\u001b[0m  \u001b[1;31m# pylint: disable=not-callable\u001b[0m\u001b[1;33m\u001b[0m\u001b[1;33m\u001b[0m\u001b[0m\n\u001b[0m\u001b[0;32m    600\u001b[0m     \u001b[1;32melif\u001b[0m \u001b[0mself\u001b[0m\u001b[1;33m.\u001b[0m\u001b[0m_stateful_fn\u001b[0m \u001b[1;32mis\u001b[0m \u001b[1;32mnot\u001b[0m \u001b[1;32mNone\u001b[0m\u001b[1;33m:\u001b[0m\u001b[1;33m\u001b[0m\u001b[1;33m\u001b[0m\u001b[0m\n",
      "\u001b[1;32m~\\AppData\\Roaming\\Python\\Python37\\site-packages\\tensorflow_core\\python\\eager\\function.py\u001b[0m in \u001b[0;36m__call__\u001b[1;34m(self, *args, **kwargs)\u001b[0m\n\u001b[0;32m   2362\u001b[0m       \u001b[0mgraph_function\u001b[0m\u001b[1;33m,\u001b[0m \u001b[0margs\u001b[0m\u001b[1;33m,\u001b[0m \u001b[0mkwargs\u001b[0m \u001b[1;33m=\u001b[0m \u001b[0mself\u001b[0m\u001b[1;33m.\u001b[0m\u001b[0m_maybe_define_function\u001b[0m\u001b[1;33m(\u001b[0m\u001b[0margs\u001b[0m\u001b[1;33m,\u001b[0m \u001b[0mkwargs\u001b[0m\u001b[1;33m)\u001b[0m\u001b[1;33m\u001b[0m\u001b[1;33m\u001b[0m\u001b[0m\n\u001b[1;32m-> 2363\u001b[1;33m     \u001b[1;32mreturn\u001b[0m \u001b[0mgraph_function\u001b[0m\u001b[1;33m.\u001b[0m\u001b[0m_filtered_call\u001b[0m\u001b[1;33m(\u001b[0m\u001b[0margs\u001b[0m\u001b[1;33m,\u001b[0m \u001b[0mkwargs\u001b[0m\u001b[1;33m)\u001b[0m  \u001b[1;31m# pylint: disable=protected-access\u001b[0m\u001b[1;33m\u001b[0m\u001b[1;33m\u001b[0m\u001b[0m\n\u001b[0m\u001b[0;32m   2364\u001b[0m \u001b[1;33m\u001b[0m\u001b[0m\n",
      "\u001b[1;32m~\\AppData\\Roaming\\Python\\Python37\\site-packages\\tensorflow_core\\python\\eager\\function.py\u001b[0m in \u001b[0;36m_filtered_call\u001b[1;34m(self, args, kwargs)\u001b[0m\n\u001b[0;32m   1610\u001b[0m                            resource_variable_ops.BaseResourceVariable))),\n\u001b[1;32m-> 1611\u001b[1;33m         self.captured_inputs)\n\u001b[0m\u001b[0;32m   1612\u001b[0m \u001b[1;33m\u001b[0m\u001b[0m\n",
      "\u001b[1;32m~\\AppData\\Roaming\\Python\\Python37\\site-packages\\tensorflow_core\\python\\eager\\function.py\u001b[0m in \u001b[0;36m_call_flat\u001b[1;34m(self, args, captured_inputs, cancellation_manager)\u001b[0m\n\u001b[0;32m   1691\u001b[0m       return self._build_call_outputs(self._inference_function.call(\n\u001b[1;32m-> 1692\u001b[1;33m           ctx, args, cancellation_manager=cancellation_manager))\n\u001b[0m\u001b[0;32m   1693\u001b[0m     forward_backward = self._select_forward_and_backward_functions(\n",
      "\u001b[1;32m~\\AppData\\Roaming\\Python\\Python37\\site-packages\\tensorflow_core\\python\\eager\\function.py\u001b[0m in \u001b[0;36mcall\u001b[1;34m(self, ctx, args, cancellation_manager)\u001b[0m\n\u001b[0;32m    544\u001b[0m               \u001b[0mattrs\u001b[0m\u001b[1;33m=\u001b[0m\u001b[1;33m(\u001b[0m\u001b[1;34m\"executor_type\"\u001b[0m\u001b[1;33m,\u001b[0m \u001b[0mexecutor_type\u001b[0m\u001b[1;33m,\u001b[0m \u001b[1;34m\"config_proto\"\u001b[0m\u001b[1;33m,\u001b[0m \u001b[0mconfig\u001b[0m\u001b[1;33m)\u001b[0m\u001b[1;33m,\u001b[0m\u001b[1;33m\u001b[0m\u001b[1;33m\u001b[0m\u001b[0m\n\u001b[1;32m--> 545\u001b[1;33m               ctx=ctx)\n\u001b[0m\u001b[0;32m    546\u001b[0m         \u001b[1;32melse\u001b[0m\u001b[1;33m:\u001b[0m\u001b[1;33m\u001b[0m\u001b[1;33m\u001b[0m\u001b[0m\n",
      "\u001b[1;32m~\\AppData\\Roaming\\Python\\Python37\\site-packages\\tensorflow_core\\python\\eager\\execute.py\u001b[0m in \u001b[0;36mquick_execute\u001b[1;34m(op_name, num_outputs, inputs, attrs, ctx, name)\u001b[0m\n\u001b[0;32m     60\u001b[0m                                                \u001b[0mop_name\u001b[0m\u001b[1;33m,\u001b[0m \u001b[0minputs\u001b[0m\u001b[1;33m,\u001b[0m \u001b[0mattrs\u001b[0m\u001b[1;33m,\u001b[0m\u001b[1;33m\u001b[0m\u001b[1;33m\u001b[0m\u001b[0m\n\u001b[1;32m---> 61\u001b[1;33m                                                num_outputs)\n\u001b[0m\u001b[0;32m     62\u001b[0m   \u001b[1;32mexcept\u001b[0m \u001b[0mcore\u001b[0m\u001b[1;33m.\u001b[0m\u001b[0m_NotOkStatusException\u001b[0m \u001b[1;32mas\u001b[0m \u001b[0me\u001b[0m\u001b[1;33m:\u001b[0m\u001b[1;33m\u001b[0m\u001b[1;33m\u001b[0m\u001b[0m\n",
      "\u001b[1;31mKeyboardInterrupt\u001b[0m: ",
      "\nDuring handling of the above exception, another exception occurred:\n",
      "\u001b[1;31mKeyError\u001b[0m                                  Traceback (most recent call last)",
      "\u001b[1;32m<ipython-input-21-1bff3eb343fa>\u001b[0m in \u001b[0;36m<module>\u001b[1;34m\u001b[0m\n\u001b[0;32m     10\u001b[0m \u001b[1;33m\u001b[0m\u001b[0m\n\u001b[0;32m     11\u001b[0m \u001b[1;31m#model.fit(train_dataset, epochs=1, callbacks=[tensorboard_callback], validation_data=valid_dataset)\u001b[0m\u001b[1;33m\u001b[0m\u001b[1;33m\u001b[0m\u001b[1;33m\u001b[0m\u001b[0m\n\u001b[1;32m---> 12\u001b[1;33m \u001b[0mmodel\u001b[0m\u001b[1;33m.\u001b[0m\u001b[0mfit\u001b[0m\u001b[1;33m(\u001b[0m\u001b[0mtrain_dataset\u001b[0m\u001b[1;33m,\u001b[0m \u001b[0mepochs\u001b[0m\u001b[1;33m=\u001b[0m\u001b[0mNUM_EPOCHS\u001b[0m\u001b[1;33m,\u001b[0m \u001b[0mcallbacks\u001b[0m\u001b[1;33m=\u001b[0m\u001b[1;33m[\u001b[0m\u001b[0mtensorboard_callback\u001b[0m\u001b[1;33m,\u001b[0m \u001b[0mmodelcheckpoint_callback\u001b[0m\u001b[1;33m]\u001b[0m\u001b[1;33m,\u001b[0m \u001b[0mvalidation_data\u001b[0m\u001b[1;33m=\u001b[0m\u001b[0mvalid_dataset\u001b[0m\u001b[1;33m)\u001b[0m\u001b[1;33m\u001b[0m\u001b[1;33m\u001b[0m\u001b[0m\n\u001b[0m",
      "\u001b[1;32m~\\AppData\\Roaming\\Python\\Python37\\site-packages\\tensorflow_core\\python\\keras\\engine\\training.py\u001b[0m in \u001b[0;36mfit\u001b[1;34m(self, x, y, batch_size, epochs, verbose, callbacks, validation_split, validation_data, shuffle, class_weight, sample_weight, initial_epoch, steps_per_epoch, validation_steps, validation_freq, max_queue_size, workers, use_multiprocessing, **kwargs)\u001b[0m\n\u001b[0;32m    817\u001b[0m         \u001b[0mmax_queue_size\u001b[0m\u001b[1;33m=\u001b[0m\u001b[0mmax_queue_size\u001b[0m\u001b[1;33m,\u001b[0m\u001b[1;33m\u001b[0m\u001b[1;33m\u001b[0m\u001b[0m\n\u001b[0;32m    818\u001b[0m         \u001b[0mworkers\u001b[0m\u001b[1;33m=\u001b[0m\u001b[0mworkers\u001b[0m\u001b[1;33m,\u001b[0m\u001b[1;33m\u001b[0m\u001b[1;33m\u001b[0m\u001b[0m\n\u001b[1;32m--> 819\u001b[1;33m         use_multiprocessing=use_multiprocessing)\n\u001b[0m\u001b[0;32m    820\u001b[0m \u001b[1;33m\u001b[0m\u001b[0m\n\u001b[0;32m    821\u001b[0m   def evaluate(self,\n",
      "\u001b[1;32m~\\AppData\\Roaming\\Python\\Python37\\site-packages\\tensorflow_core\\python\\keras\\engine\\training_v2.py\u001b[0m in \u001b[0;36mfit\u001b[1;34m(self, model, x, y, batch_size, epochs, verbose, callbacks, validation_split, validation_data, shuffle, class_weight, sample_weight, initial_epoch, steps_per_epoch, validation_steps, validation_freq, max_queue_size, workers, use_multiprocessing, **kwargs)\u001b[0m\n\u001b[0;32m    395\u001b[0m                       total_epochs=1)\n\u001b[0;32m    396\u001b[0m                   cbks.make_logs(model, epoch_logs, eval_result, ModeKeys.TEST,\n\u001b[1;32m--> 397\u001b[1;33m                                  prefix='val_')\n\u001b[0m\u001b[0;32m    398\u001b[0m \u001b[1;33m\u001b[0m\u001b[0m\n\u001b[0;32m    399\u001b[0m     \u001b[1;32mreturn\u001b[0m \u001b[0mmodel\u001b[0m\u001b[1;33m.\u001b[0m\u001b[0mhistory\u001b[0m\u001b[1;33m\u001b[0m\u001b[1;33m\u001b[0m\u001b[0m\n",
      "\u001b[1;32m~\\Anaconda3\\envs\\lstm\\lib\\contextlib.py\u001b[0m in \u001b[0;36m__exit__\u001b[1;34m(self, type, value, traceback)\u001b[0m\n\u001b[0;32m    128\u001b[0m                 \u001b[0mvalue\u001b[0m \u001b[1;33m=\u001b[0m \u001b[0mtype\u001b[0m\u001b[1;33m(\u001b[0m\u001b[1;33m)\u001b[0m\u001b[1;33m\u001b[0m\u001b[1;33m\u001b[0m\u001b[0m\n\u001b[0;32m    129\u001b[0m             \u001b[1;32mtry\u001b[0m\u001b[1;33m:\u001b[0m\u001b[1;33m\u001b[0m\u001b[1;33m\u001b[0m\u001b[0m\n\u001b[1;32m--> 130\u001b[1;33m                 \u001b[0mself\u001b[0m\u001b[1;33m.\u001b[0m\u001b[0mgen\u001b[0m\u001b[1;33m.\u001b[0m\u001b[0mthrow\u001b[0m\u001b[1;33m(\u001b[0m\u001b[0mtype\u001b[0m\u001b[1;33m,\u001b[0m \u001b[0mvalue\u001b[0m\u001b[1;33m,\u001b[0m \u001b[0mtraceback\u001b[0m\u001b[1;33m)\u001b[0m\u001b[1;33m\u001b[0m\u001b[1;33m\u001b[0m\u001b[0m\n\u001b[0m\u001b[0;32m    131\u001b[0m             \u001b[1;32mexcept\u001b[0m \u001b[0mStopIteration\u001b[0m \u001b[1;32mas\u001b[0m \u001b[0mexc\u001b[0m\u001b[1;33m:\u001b[0m\u001b[1;33m\u001b[0m\u001b[1;33m\u001b[0m\u001b[0m\n\u001b[0;32m    132\u001b[0m                 \u001b[1;31m# Suppress StopIteration *unless* it's the same exception that\u001b[0m\u001b[1;33m\u001b[0m\u001b[1;33m\u001b[0m\u001b[1;33m\u001b[0m\u001b[0m\n",
      "\u001b[1;32m~\\AppData\\Roaming\\Python\\Python37\\site-packages\\tensorflow_core\\python\\keras\\engine\\training_v2.py\u001b[0m in \u001b[0;36mon_epoch\u001b[1;34m(self, epoch, mode)\u001b[0m\n\u001b[0;32m    769\u001b[0m       \u001b[1;32mif\u001b[0m \u001b[0mmode\u001b[0m \u001b[1;33m==\u001b[0m \u001b[0mModeKeys\u001b[0m\u001b[1;33m.\u001b[0m\u001b[0mTRAIN\u001b[0m\u001b[1;33m:\u001b[0m\u001b[1;33m\u001b[0m\u001b[1;33m\u001b[0m\u001b[0m\n\u001b[0;32m    770\u001b[0m         \u001b[1;31m# Epochs only apply to `fit`.\u001b[0m\u001b[1;33m\u001b[0m\u001b[1;33m\u001b[0m\u001b[1;33m\u001b[0m\u001b[0m\n\u001b[1;32m--> 771\u001b[1;33m         \u001b[0mself\u001b[0m\u001b[1;33m.\u001b[0m\u001b[0mcallbacks\u001b[0m\u001b[1;33m.\u001b[0m\u001b[0mon_epoch_end\u001b[0m\u001b[1;33m(\u001b[0m\u001b[0mepoch\u001b[0m\u001b[1;33m,\u001b[0m \u001b[0mepoch_logs\u001b[0m\u001b[1;33m)\u001b[0m\u001b[1;33m\u001b[0m\u001b[1;33m\u001b[0m\u001b[0m\n\u001b[0m\u001b[0;32m    772\u001b[0m       \u001b[0mself\u001b[0m\u001b[1;33m.\u001b[0m\u001b[0mprogbar\u001b[0m\u001b[1;33m.\u001b[0m\u001b[0mon_epoch_end\u001b[0m\u001b[1;33m(\u001b[0m\u001b[0mepoch\u001b[0m\u001b[1;33m,\u001b[0m \u001b[0mepoch_logs\u001b[0m\u001b[1;33m)\u001b[0m\u001b[1;33m\u001b[0m\u001b[1;33m\u001b[0m\u001b[0m\n\u001b[0;32m    773\u001b[0m \u001b[1;33m\u001b[0m\u001b[0m\n",
      "\u001b[1;32m~\\AppData\\Roaming\\Python\\Python37\\site-packages\\tensorflow_core\\python\\keras\\callbacks.py\u001b[0m in \u001b[0;36mon_epoch_end\u001b[1;34m(self, epoch, logs)\u001b[0m\n\u001b[0;32m    300\u001b[0m     \u001b[0mlogs\u001b[0m \u001b[1;33m=\u001b[0m \u001b[0mlogs\u001b[0m \u001b[1;32mor\u001b[0m \u001b[1;33m{\u001b[0m\u001b[1;33m}\u001b[0m\u001b[1;33m\u001b[0m\u001b[1;33m\u001b[0m\u001b[0m\n\u001b[0;32m    301\u001b[0m     \u001b[1;32mfor\u001b[0m \u001b[0mcallback\u001b[0m \u001b[1;32min\u001b[0m \u001b[0mself\u001b[0m\u001b[1;33m.\u001b[0m\u001b[0mcallbacks\u001b[0m\u001b[1;33m:\u001b[0m\u001b[1;33m\u001b[0m\u001b[1;33m\u001b[0m\u001b[0m\n\u001b[1;32m--> 302\u001b[1;33m       \u001b[0mcallback\u001b[0m\u001b[1;33m.\u001b[0m\u001b[0mon_epoch_end\u001b[0m\u001b[1;33m(\u001b[0m\u001b[0mepoch\u001b[0m\u001b[1;33m,\u001b[0m \u001b[0mlogs\u001b[0m\u001b[1;33m)\u001b[0m\u001b[1;33m\u001b[0m\u001b[1;33m\u001b[0m\u001b[0m\n\u001b[0m\u001b[0;32m    303\u001b[0m \u001b[1;33m\u001b[0m\u001b[0m\n\u001b[0;32m    304\u001b[0m   \u001b[1;32mdef\u001b[0m \u001b[0mon_train_batch_begin\u001b[0m\u001b[1;33m(\u001b[0m\u001b[0mself\u001b[0m\u001b[1;33m,\u001b[0m \u001b[0mbatch\u001b[0m\u001b[1;33m,\u001b[0m \u001b[0mlogs\u001b[0m\u001b[1;33m=\u001b[0m\u001b[1;32mNone\u001b[0m\u001b[1;33m)\u001b[0m\u001b[1;33m:\u001b[0m\u001b[1;33m\u001b[0m\u001b[1;33m\u001b[0m\u001b[0m\n",
      "\u001b[1;32m~\\AppData\\Roaming\\Python\\Python37\\site-packages\\tensorflow_core\\python\\keras\\callbacks.py\u001b[0m in \u001b[0;36mon_epoch_end\u001b[1;34m(self, epoch, logs)\u001b[0m\n\u001b[0;32m    990\u001b[0m           \u001b[0mself\u001b[0m\u001b[1;33m.\u001b[0m\u001b[0m_save_model\u001b[0m\u001b[1;33m(\u001b[0m\u001b[0mepoch\u001b[0m\u001b[1;33m=\u001b[0m\u001b[0mepoch\u001b[0m\u001b[1;33m,\u001b[0m \u001b[0mlogs\u001b[0m\u001b[1;33m=\u001b[0m\u001b[0mlogs\u001b[0m\u001b[1;33m)\u001b[0m\u001b[1;33m\u001b[0m\u001b[1;33m\u001b[0m\u001b[0m\n\u001b[0;32m    991\u001b[0m       \u001b[1;32melse\u001b[0m\u001b[1;33m:\u001b[0m\u001b[1;33m\u001b[0m\u001b[1;33m\u001b[0m\u001b[0m\n\u001b[1;32m--> 992\u001b[1;33m         \u001b[0mself\u001b[0m\u001b[1;33m.\u001b[0m\u001b[0m_save_model\u001b[0m\u001b[1;33m(\u001b[0m\u001b[0mepoch\u001b[0m\u001b[1;33m=\u001b[0m\u001b[0mepoch\u001b[0m\u001b[1;33m,\u001b[0m \u001b[0mlogs\u001b[0m\u001b[1;33m=\u001b[0m\u001b[0mlogs\u001b[0m\u001b[1;33m)\u001b[0m\u001b[1;33m\u001b[0m\u001b[1;33m\u001b[0m\u001b[0m\n\u001b[0m\u001b[0;32m    993\u001b[0m     \u001b[1;32mif\u001b[0m \u001b[0mself\u001b[0m\u001b[1;33m.\u001b[0m\u001b[0mmodel\u001b[0m\u001b[1;33m.\u001b[0m\u001b[0m_in_multi_worker_mode\u001b[0m\u001b[1;33m(\u001b[0m\u001b[1;33m)\u001b[0m\u001b[1;33m:\u001b[0m\u001b[1;33m\u001b[0m\u001b[1;33m\u001b[0m\u001b[0m\n\u001b[0;32m    994\u001b[0m       \u001b[1;31m# For multi-worker training, back up the weights and current training\u001b[0m\u001b[1;33m\u001b[0m\u001b[1;33m\u001b[0m\u001b[1;33m\u001b[0m\u001b[0m\n",
      "\u001b[1;32m~\\AppData\\Roaming\\Python\\Python37\\site-packages\\tensorflow_core\\python\\keras\\callbacks.py\u001b[0m in \u001b[0;36m_save_model\u001b[1;34m(self, epoch, logs)\u001b[0m\n\u001b[0;32m   1009\u001b[0m                   int) or self.epochs_since_last_save >= self.period:\n\u001b[0;32m   1010\u001b[0m       \u001b[0mself\u001b[0m\u001b[1;33m.\u001b[0m\u001b[0mepochs_since_last_save\u001b[0m \u001b[1;33m=\u001b[0m \u001b[1;36m0\u001b[0m\u001b[1;33m\u001b[0m\u001b[1;33m\u001b[0m\u001b[0m\n\u001b[1;32m-> 1011\u001b[1;33m       \u001b[0mfilepath\u001b[0m \u001b[1;33m=\u001b[0m \u001b[0mself\u001b[0m\u001b[1;33m.\u001b[0m\u001b[0m_get_file_path\u001b[0m\u001b[1;33m(\u001b[0m\u001b[0mepoch\u001b[0m\u001b[1;33m,\u001b[0m \u001b[0mlogs\u001b[0m\u001b[1;33m)\u001b[0m\u001b[1;33m\u001b[0m\u001b[1;33m\u001b[0m\u001b[0m\n\u001b[0m\u001b[0;32m   1012\u001b[0m \u001b[1;33m\u001b[0m\u001b[0m\n\u001b[0;32m   1013\u001b[0m       \u001b[1;32mtry\u001b[0m\u001b[1;33m:\u001b[0m\u001b[1;33m\u001b[0m\u001b[1;33m\u001b[0m\u001b[0m\n",
      "\u001b[1;32m~\\AppData\\Roaming\\Python\\Python37\\site-packages\\tensorflow_core\\python\\keras\\callbacks.py\u001b[0m in \u001b[0;36m_get_file_path\u001b[1;34m(self, epoch, logs)\u001b[0m\n\u001b[0;32m   1053\u001b[0m     if not self.model._in_multi_worker_mode(\n\u001b[0;32m   1054\u001b[0m     ) or multi_worker_util.should_save_checkpoint():\n\u001b[1;32m-> 1055\u001b[1;33m       \u001b[1;32mreturn\u001b[0m \u001b[0mself\u001b[0m\u001b[1;33m.\u001b[0m\u001b[0mfilepath\u001b[0m\u001b[1;33m.\u001b[0m\u001b[0mformat\u001b[0m\u001b[1;33m(\u001b[0m\u001b[0mepoch\u001b[0m\u001b[1;33m=\u001b[0m\u001b[0mepoch\u001b[0m \u001b[1;33m+\u001b[0m \u001b[1;36m1\u001b[0m\u001b[1;33m,\u001b[0m \u001b[1;33m**\u001b[0m\u001b[0mlogs\u001b[0m\u001b[1;33m)\u001b[0m\u001b[1;33m\u001b[0m\u001b[1;33m\u001b[0m\u001b[0m\n\u001b[0m\u001b[0;32m   1056\u001b[0m     \u001b[1;32melse\u001b[0m\u001b[1;33m:\u001b[0m\u001b[1;33m\u001b[0m\u001b[1;33m\u001b[0m\u001b[0m\n\u001b[0;32m   1057\u001b[0m       \u001b[1;31m# If this is multi-worker training, and this worker should not\u001b[0m\u001b[1;33m\u001b[0m\u001b[1;33m\u001b[0m\u001b[1;33m\u001b[0m\u001b[0m\n",
      "\u001b[1;31mKeyError\u001b[0m: 'val_loss'"
     ]
    }
   ],
   "source": [
    "#tf 2.0\n",
    "    \n",
    "#defining tensorboard callback\n",
    "tensorboard_callback = tf.keras.callbacks.TensorBoard(log_dir = TENSORBOARD_LOG_DIRECTORY, update_freq='epoch')\n",
    "#defining checkpoint callback\n",
    "modelcheckpoint_callback = tf.keras.callbacks.ModelCheckpoint(\n",
    "    MODEL_CHECKPOINT_FILE_NAME, monitor='val_accuracy', verbose=0, save_best_only=False,\n",
    "    save_weights_only=False, mode='auto', save_freq='epoch')\n",
    "\n",
    "\n",
    "#model.fit(train_dataset, epochs=1, callbacks=[tensorboard_callback], validation_data=valid_dataset)\n",
    "model.fit(train_dataset, epochs=NUM_EPOCHS, callbacks=[tensorboard_callback, modelcheckpoint_callback], validation_data=valid_dataset)"
   ]
  },
  {
   "cell_type": "code",
   "execution_count": 22,
   "metadata": {},
   "outputs": [
    {
     "name": "stdout",
     "output_type": "stream",
     "text": [
      "Model: \"sequential\"\n",
      "_________________________________________________________________\n",
      "Layer (type)                 Output Shape              Param #   \n",
      "=================================================================\n",
      "masking (Masking)            multiple                  0         \n",
      "_________________________________________________________________\n",
      "lstm (LSTM)                  multiple                  3672064   \n",
      "_________________________________________________________________\n",
      "dense (Dense)                multiple                  131328    \n",
      "_________________________________________________________________\n",
      "dropout (Dropout)            multiple                  0         \n",
      "_________________________________________________________________\n",
      "dense_1 (Dense)              multiple                  514       \n",
      "=================================================================\n",
      "Total params: 3,803,906\n",
      "Trainable params: 3,803,906\n",
      "Non-trainable params: 0\n",
      "_________________________________________________________________\n"
     ]
    }
   ],
   "source": [
    "model.summary()"
   ]
  },
  {
   "cell_type": "markdown",
   "metadata": {},
   "source": [
    "### STEP 12:  save the tensorflow model to an h5 file"
   ]
  },
  {
   "cell_type": "markdown",
   "metadata": {},
   "source": [
    "### STEP 14: run evaluation on the test data feature extraction"
   ]
  },
  {
   "cell_type": "code",
   "execution_count": 24,
   "metadata": {},
   "outputs": [
    {
     "name": "stdout",
     "output_type": "stream",
     "text": [
      "\n",
      "# Evaluate on test data\n",
      "      7/Unknown - 0s 37ms/step - loss: 9.1402e-04 - accuracy: 1.0000 - top_k_categorical_accuracy: 1.0000test loss, test acc: [0.0009140229091763834, 1.0, 1.0]\n"
     ]
    }
   ],
   "source": [
    "# evaluate the test data using model\n",
    "\n",
    "\n",
    "# Evaluate the model on the test data using `evaluate`\n",
    "print('\\n# Evaluate on test data')\n",
    "\n",
    "# NOTE: should have separate test data but, only have validation data\n",
    "#results = model.evaluate_generator(val_data_gen, verbose=1)\n",
    "# make and save predictions for all of the testing files in testing_list\n",
    "for i in range(len(testing_list)):\n",
    "    features = loadData(testing_list[i], SEQUENCE_LENGTH, FEATURE_LENGTH)\n",
    "    prediction = predict(features, model)\n",
    "    classification = makeDecision(prediction, LABELS)\n",
    "    prediction_file.write(\"Prediction: \" + classification + \"\\n\" \n",
    "                          \"Prediction Data Source: \" + testing_list[i] + \"\\n\\n\\n\")\n",
    "    #write out the prediction vector\n",
    "\n",
    "prediction_file.close()\n",
    "\n"
   ]
  },
  {
   "cell_type": "markdown",
   "metadata": {},
   "source": [
    "### STEP 15: Run predictions on the test data feature extracted"
   ]
  },
  {
   "cell_type": "code",
   "execution_count": 34,
   "metadata": {},
   "outputs": [
    {
     "name": "stdout",
     "output_type": "stream",
     "text": [
      "\n",
      "# Generate predictions \n",
      "      7/Unknown - 3s 445ms/step - loss: 1.5352e-04 - accuracy: 1.0000 - top_k_categorical_accuracy: 1.0000"
     ]
    }
   ],
   "source": [
    "# make predictions\n",
    "\n",
    "# Generate predictions (probabilities -- the output of the last layer)\n",
    "# on new data using `predict`\n",
    "print('\\n# Generate predictions ')\n",
    "predictions = model.evaluate(test_dataset, verbose=1)"
   ]
  },
  {
   "cell_type": "code",
   "execution_count": 33,
   "metadata": {},
   "outputs": [
    {
     "name": "stdout",
     "output_type": "stream",
     "text": [
      "[4.410081542762155e-05, 1.0, 1.0]\n"
     ]
    }
   ],
   "source": [
    "print(predictions)"
   ]
  }
 ],
 "metadata": {
  "kernelspec": {
   "display_name": "Python 3",
   "language": "python",
   "name": "python3"
  },
  "language_info": {
   "codemirror_mode": {
    "name": "ipython",
    "version": 3
   },
   "file_extension": ".py",
   "mimetype": "text/x-python",
   "name": "python",
   "nbconvert_exporter": "python",
   "pygments_lexer": "ipython3",
   "version": "3.7.5"
  }
 },
 "nbformat": 4,
 "nbformat_minor": 2
}
