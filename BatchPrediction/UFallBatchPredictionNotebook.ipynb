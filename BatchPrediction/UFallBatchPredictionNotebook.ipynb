{
 "cells": [
  {
   "cell_type": "code",
   "execution_count": 1,
   "metadata": {},
   "outputs": [],
   "source": [
    "# import all necessary packages\n",
    "import tensorflow as tf\n",
    "import os\n",
    "import numpy as np\n",
    "import glob\n",
    "import time"
   ]
  },
  {
   "cell_type": "code",
   "execution_count": 16,
   "metadata": {},
   "outputs": [],
   "source": [
    "# setup the constants\n",
    "IMG_SHAPE = 224  # size of our input image needed for our model IMG_SHAPE x IMG_SHAPE x 3 (color)\n",
    "MODEL_DIRECTORY = 'D:\\CSUEB\\lynne\\model_checkpoint_512256_1000'\n",
    "DATA_DIRECTORY = 'D:\\CSUEB\\lynne\\DataSet_NPY'\n",
    "\n",
    "# labels for the 2 classes\n",
    "LABELS = ['Falling','Walking']\n",
    "\n",
    "RESULT_DIFF_THRESHOLD = 0.1\n",
    "SEQUENCE_LENGTH = 40\n",
    "FEATURE_LENGTH = 1280"
   ]
  },
  {
   "cell_type": "code",
   "execution_count": 3,
   "metadata": {},
   "outputs": [],
   "source": [
    "# function to load a model from an h5 file\n",
    "def loadModelFrom_H5_File(model_file):\n",
    "    new_model = tf.keras.models.load_model(model_file)\n",
    "    \n",
    "    return new_model"
   ]
  },
  {
   "cell_type": "code",
   "execution_count": 35,
   "metadata": {},
   "outputs": [],
   "source": [
    "# function to load and prepare the video feature data from a file\n",
    "def loadData(data_path, sequence_length, feature_length):\n",
    "    features = np.load(data_path)\n",
    "    padded_sequence = np.zeros((sequence_length, feature_length))\n",
    "    padded_sequence[0:len(features)] = np.array(features)\n",
    "    \n",
    "    return np.expand_dims(padded_sequence,axis=0)"
   ]
  },
  {
   "cell_type": "code",
   "execution_count": 5,
   "metadata": {},
   "outputs": [],
   "source": [
    "# function to use an LSTM model to make a prediction on live video data\n",
    "def predict(input, model):\n",
    "    prediction = model.predict(input, batch_size=1, verbose=0)\n",
    "    \n",
    "    return prediction"
   ]
  },
  {
   "cell_type": "code",
   "execution_count": 48,
   "metadata": {},
   "outputs": [],
   "source": [
    "# function to make a classification decision and return a label\n",
    "def makeDecision(predictions, class_labels):\n",
    "    if predictions[0][0] < predictions[0][1] and (predictions[0][1] - predictions[0][0]) > RESULT_DIFF_THRESHOLD:\n",
    "        label = class_labels[0]\n",
    "    elif predictions[0][0] - predictions[0][1] > RESULT_DIFF_THRESHOLD :\n",
    "        label = class_labels[1]\n",
    "    else:\n",
    "        label = \"Unknown\"\n",
    "    return label"
   ]
  },
  {
   "cell_type": "code",
   "execution_count": 11,
   "metadata": {},
   "outputs": [
    {
     "name": "stdout",
     "output_type": "stream",
     "text": [
      "D:\\CSUEB\\lynne\\model_checkpoint_512256_1000\\*.hdf5\n",
      "WARNING:tensorflow:Sequential models without an `input_shape` passed to the first layer cannot reload their optimizer state. As a result, your model isstarting with a freshly initialized optimizer.\n"
     ]
    }
   ],
   "source": [
    "# load the saved LSTM model\n",
    "model_files = os.path.join(MODEL_DIRECTORY, '*.hdf5')\n",
    "print(model_files)\n",
    "model_paths = tf.io.gfile.glob(model_files)\n",
    "model_file = model_paths[0]\n",
    "model = loadModelFrom_H5_File(model_file)   "
   ]
  },
  {
   "cell_type": "code",
   "execution_count": 37,
   "metadata": {},
   "outputs": [
    {
     "name": "stdout",
     "output_type": "stream",
     "text": [
      "WARNING:tensorflow:Sequential models without an `input_shape` passed to the first layer cannot reload their optimizer state. As a result, your model isstarting with a freshly initialized optimizer.\n"
     ]
    }
   ],
   "source": [
    "# load the saved LSTM model\n",
    "model = loadModelFrom_H5_File(os.path.join(MODEL_DIRECTORY, 'weights.1000-0.00.hdf5'))  "
   ]
  },
  {
   "cell_type": "code",
   "execution_count": 38,
   "metadata": {},
   "outputs": [],
   "source": [
    "# get all of the filenames and paths for the testing dataset from the\n",
    "# .txt file that was created from the FeatureExtractionNotebook\n",
    "testing_file = os.path.join(DATA_DIRECTORY,'testing.txt')\n",
    "\n",
    "with open(testing_file) as f:\n",
    "    testing_list = [row.strip() for row in list(f)]"
   ]
  },
  {
   "cell_type": "code",
   "execution_count": 39,
   "metadata": {},
   "outputs": [],
   "source": [
    "# make a folder to store all of the batch prediction results if it doesn't already exist\n",
    "results_directory = os.path.join(DATA_DIRECTORY,'BatchTestingPredictionResults')\n",
    "if not os.path.exists(results_directory):\n",
    "    os.mkdir(results_directory)"
   ]
  },
  {
   "cell_type": "code",
   "execution_count": 55,
   "metadata": {},
   "outputs": [],
   "source": [
    "# create a new .txt file to save the results of the batch prediction\n",
    "timestr = time.strftime(\"%Y%m%d-%H%M%S\")\n",
    "batch_prediction_filename = \"BatchPredictions_\" + timestr + \".txt\"\n",
    "batch_prediction_filename = os.path.join(results_directory,batch_prediction_filename)\n",
    "prediction_file = open(batch_prediction_filename, 'w+')"
   ]
  },
  {
   "cell_type": "code",
   "execution_count": 56,
   "metadata": {
    "scrolled": true
   },
   "outputs": [
    {
     "name": "stdout",
     "output_type": "stream",
     "text": [
      "Total:  122  unexpected:  0\n"
     ]
    }
   ],
   "source": [
    "# make and save predictions for all of the testing files in testing_list\n",
    "unexpected = 0\n",
    "for i in range(len(testing_list)):\n",
    "    features = loadData(testing_list[i], SEQUENCE_LENGTH, FEATURE_LENGTH)\n",
    "    prediction = predict(features, model)\n",
    "    classification = makeDecision(prediction, LABELS)\n",
    "    prediction_file.write(\"Prediction: \" + classification + \"\\n\" +\n",
    "                          \"Prediction array: \" + str(prediction) + \"\\n\" +\n",
    "                          \"Prediction Data Source: \" + testing_list[i] + \"\\n\\n\\n\")\n",
    "    #write out the prediction vector\n",
    "    expected = os.path.basename(os.path.dirname(testing_list[i]))\n",
    "    if str(classification) != str(expected):\n",
    "        unexpected += 1\n",
    "prediction_file.close()\n",
    "print(\"Total: \", len(testing_list), \" unexpected: \", unexpected)"
   ]
  },
  {
   "cell_type": "code",
   "execution_count": null,
   "metadata": {},
   "outputs": [],
   "source": []
  }
 ],
 "metadata": {
  "kernelspec": {
   "display_name": "Python 3",
   "language": "python",
   "name": "python3"
  },
  "language_info": {
   "codemirror_mode": {
    "name": "ipython",
    "version": 3
   },
   "file_extension": ".py",
   "mimetype": "text/x-python",
   "name": "python",
   "nbconvert_exporter": "python",
   "pygments_lexer": "ipython3",
   "version": "3.7.5"
  }
 },
 "nbformat": 4,
 "nbformat_minor": 2
}
